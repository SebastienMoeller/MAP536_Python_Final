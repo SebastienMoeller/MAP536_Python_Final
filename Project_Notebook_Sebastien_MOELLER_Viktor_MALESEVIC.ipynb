{
 "cells": [
  {
   "cell_type": "markdown",
   "metadata": {},
   "source": [
    "# Project notebook **<span style=\"COLOR:RED\"></span>**\n",
    "\n",
    "\n",
    "### Student 1\n",
    "Name : Sebastien Moeller\n",
    "<br>Group : advanced\n",
    "### Student 2\n",
    "Name : Viktor Malesevic\n",
    "<br>Group : advanced\n",
    "### Data name : \n",
    "* Poloniex Exchange data\n",
    "* Google Trends\n",
    "### Data URL : \n",
    "* API from https://poloniex.com/exchange and https://trends.google.fr/trends/\n",
    "### Short summary of the project and datasource :\n",
    "* Linking social media trends to the prices of cryptocurrencies."
   ]
  },
  {
   "cell_type": "markdown",
   "metadata": {},
   "source": [
    "### Aims : \n",
    "* The aim of the project is to see how Google Trends influence BitCoin prices\n",
    "* We want to combine historical prices to historical Google Trends of terms related to BitCoin\n",
    "* Give investment recommendation according to these trends. \n",
    "* What will the future price be according to trends\n",
    "* Will the price increase or decrease? To which extend?"
   ]
  },
  {
   "cell_type": "markdown",
   "metadata": {},
   "source": [
    "## Step 0. Import the dataset"
   ]
  },
  {
   "cell_type": "markdown",
   "metadata": {},
   "source": [
    "As the dataset grew and the computation time to generate it increased we needed to export and import the data set to save time between sessions."
   ]
  },
  {
   "cell_type": "code",
   "execution_count": 1,
   "metadata": {
    "collapsed": true
   },
   "outputs": [],
   "source": [
    "import sys\n",
    "import os\n",
    "import pandas as pd"
   ]
  },
  {
   "cell_type": "code",
   "execution_count": 164,
   "metadata": {
    "collapsed": true
   },
   "outputs": [],
   "source": [
    "file = os.path.realpath(os.path.join(os.getcwd(), os.path.dirname('data.csv')))\n",
    "file_name = 'data'\n",
    "# Mac\n",
    "data = pd.read_csv(file+'/'+file_name+'.csv')\n",
    "# Windows\n",
    "#data = pd.read_csv(file+'\\\\'+file_name+'.csv')\n",
    "\n",
    "del data['Unnamed: 0']\n",
    "data.set_index('date', inplace = True)"
   ]
  },
  {
   "cell_type": "markdown",
   "metadata": {},
   "source": [
    "#### Saving the data set to csv"
   ]
  },
  {
   "cell_type": "code",
   "execution_count": 3,
   "metadata": {
    "collapsed": true
   },
   "outputs": [],
   "source": [
    "file = os.path.realpath(os.path.join(os.getcwd(), os.path.dirname('data.csv')))\n",
    "file_name = 'data'\n",
    "# Mac\n",
    "#data.to_csv('file+'/'+file_name+'.csv')\n",
    "# Windows\n",
    "#data.to_csv('file+'\\\\'+file_name+'.csv')"
   ]
  },
  {
   "cell_type": "markdown",
   "metadata": {},
   "source": [
    "How did we generate the data?"
   ]
  },
  {
   "cell_type": "markdown",
   "metadata": {},
   "source": [
    "## Step 1. Importing from Poloniex\n",
    "Poloniex is a cryptocurrency exchange found on https://poloniex.com/exchange, to download the data we use a package made by a poloniex community member."
   ]
  },
  {
   "cell_type": "markdown",
   "metadata": {},
   "source": [
    "Importing from API\n",
    "\n",
    "* To import poloniex we need to install the package in the console using:\n",
    "\n",
    "`pip install poloniex`\n",
    "* The help function gives a list of functions included in the package and some descriptions\n",
    "\n",
    "`help(poloniex.poloniex)`\n",
    "* We are using the public data so no keys are needed"
   ]
  },
  {
   "cell_type": "markdown",
   "metadata": {},
   "source": [
    "The package has many functionalities but the information we want is public, therefore we do not need access tokens or secret keys. The currency we are looking for is BitCoin relative to the USD, therefore looking at the documentation we know that we need to search using the term `'USDT_BTC'`, with an additional parameter of seconds between measurment. We chose to take the highest frequency of 5 minutes, but also of 24 hours."
   ]
  },
  {
   "cell_type": "code",
   "execution_count": 24,
   "metadata": {
    "collapsed": true
   },
   "outputs": [],
   "source": [
    "import poloniex\n",
    "polo = poloniex.Poloniex()\n",
    "btc300 = pd.DataFrame(polo.returnChartData(\"USDT_BTC\", 300))\n",
    "btc86400 = pd.DataFrame(polo.returnChartData(\"USDT_BTC\", 86400))"
   ]
  },
  {
   "cell_type": "markdown",
   "metadata": {},
   "source": [
    "Let us see the first date and the last date of this data. As the data is saved as a Unix time stamp, we need to convert it using the datetime package into a familiar form."
   ]
  },
  {
   "cell_type": "code",
   "execution_count": 25,
   "metadata": {
    "scrolled": true
   },
   "outputs": [
    {
     "name": "stdout",
     "output_type": "stream",
     "text": [
      "Start date 5 minute\n",
      "2015-02-19 20:10:00\n",
      "End date 5 minute\n",
      "2018-01-14 13:35:00\n",
      "Start date daily\n",
      "2015-02-19 01:00:00\n",
      "End date daily\n",
      "2018-01-14 01:00:00\n"
     ]
    }
   ],
   "source": [
    "import datetime\n",
    "print(\"Start date 5 minute\")\n",
    "print(datetime.datetime.fromtimestamp(btc300[\"date\"][0]))\n",
    "print(\"End date 5 minute\")\n",
    "print(datetime.datetime.fromtimestamp(btc300[\"date\"][len(btc300)-1]))\n",
    "\n",
    "\n",
    "print(\"Start date daily\")\n",
    "print(datetime.datetime.fromtimestamp(btc86400[\"date\"][0]))\n",
    "print(\"End date daily\")\n",
    "print(datetime.datetime.fromtimestamp(btc86400[\"date\"][len(btc86400)-1]))"
   ]
  },
  {
   "cell_type": "markdown",
   "metadata": {},
   "source": [
    "We chose to convert all dates into a recognizable format"
   ]
  },
  {
   "cell_type": "code",
   "execution_count": 26,
   "metadata": {
    "scrolled": true
   },
   "outputs": [],
   "source": [
    "for i in range(len(btc86400)):\n",
    "    btc86400.loc[i, 'date'] = datetime.datetime.fromtimestamp(btc86400.loc[i,'date'])"
   ]
  },
  {
   "cell_type": "markdown",
   "metadata": {},
   "source": [
    "We need to use\n",
    "* **`btc86400.loc['rowIndex', 'columnIndex']`** \n",
    "\n",
    "to avoid copy warnings we need to write to the data frame differently, this also reduces the computation time over the more commonly used:\n",
    "* **`btc86400['date'][i] = datetime.datetime.fromtimestamp(btc86400['date'][i])`**"
   ]
  },
  {
   "cell_type": "markdown",
   "metadata": {},
   "source": [
    "## Step 2. Importing Google Trends"
   ]
  },
  {
   "cell_type": "markdown",
   "metadata": {},
   "source": [
    "The terms for the `kw_list` were chosen by looking at the search terms most commonly associated with BitCoin. Those included 'Blockchain' and 'BTC'"
   ]
  },
  {
   "cell_type": "code",
   "execution_count": 146,
   "metadata": {
    "collapsed": true
   },
   "outputs": [],
   "source": [
    "from pytrends.request import TrendReq\n",
    "pytrends = TrendReq(hl='en-US', tz=360)\n",
    "\n",
    "kw_list = [\"Blockchain\", \"BTC\", \"BitCoin\"]\n",
    "pytrends.build_payload(kw_list)\n",
    "\n",
    "trends = pytrends.interest_over_time()"
   ]
  },
  {
   "cell_type": "markdown",
   "metadata": {},
   "source": [
    "We notice in the trends that they are all proportional to oneanother, as the max is 100, the accuracy of blockchain is lost as it only ever became 5% as popular as BitCoin in their respective peaks. Therefore we decided to import each individually and then combine them into one data frame.\n",
    "\n",
    "This is a function to retrieve trends with maximum available accuracy from Google, of a list of terms to look up, concatenated into one matrix containing a date column"
   ]
  },
  {
   "cell_type": "code",
   "execution_count": 147,
   "metadata": {},
   "outputs": [
    {
     "data": {
      "text/html": [
       "<div>\n",
       "<style>\n",
       "    .dataframe thead tr:only-child th {\n",
       "        text-align: right;\n",
       "    }\n",
       "\n",
       "    .dataframe thead th {\n",
       "        text-align: left;\n",
       "    }\n",
       "\n",
       "    .dataframe tbody tr th {\n",
       "        vertical-align: top;\n",
       "    }\n",
       "</style>\n",
       "<table border=\"1\" class=\"dataframe\">\n",
       "  <thead>\n",
       "    <tr style=\"text-align: right;\">\n",
       "      <th></th>\n",
       "      <th>Blockchain</th>\n",
       "      <th>BTC</th>\n",
       "      <th>BitCoin</th>\n",
       "      <th>isPartial</th>\n",
       "    </tr>\n",
       "    <tr>\n",
       "      <th>date</th>\n",
       "      <th></th>\n",
       "      <th></th>\n",
       "      <th></th>\n",
       "      <th></th>\n",
       "    </tr>\n",
       "  </thead>\n",
       "  <tbody>\n",
       "    <tr>\n",
       "      <th>2017-11-05</th>\n",
       "      <td>3</td>\n",
       "      <td>5</td>\n",
       "      <td>29</td>\n",
       "      <td>False</td>\n",
       "    </tr>\n",
       "    <tr>\n",
       "      <th>2017-11-12</th>\n",
       "      <td>3</td>\n",
       "      <td>6</td>\n",
       "      <td>31</td>\n",
       "      <td>False</td>\n",
       "    </tr>\n",
       "    <tr>\n",
       "      <th>2017-11-19</th>\n",
       "      <td>3</td>\n",
       "      <td>5</td>\n",
       "      <td>28</td>\n",
       "      <td>False</td>\n",
       "    </tr>\n",
       "    <tr>\n",
       "      <th>2017-11-26</th>\n",
       "      <td>4</td>\n",
       "      <td>10</td>\n",
       "      <td>66</td>\n",
       "      <td>False</td>\n",
       "    </tr>\n",
       "    <tr>\n",
       "      <th>2017-12-03</th>\n",
       "      <td>4</td>\n",
       "      <td>14</td>\n",
       "      <td>93</td>\n",
       "      <td>False</td>\n",
       "    </tr>\n",
       "    <tr>\n",
       "      <th>2017-12-10</th>\n",
       "      <td>5</td>\n",
       "      <td>13</td>\n",
       "      <td>85</td>\n",
       "      <td>False</td>\n",
       "    </tr>\n",
       "    <tr>\n",
       "      <th>2017-12-17</th>\n",
       "      <td>5</td>\n",
       "      <td>16</td>\n",
       "      <td>100</td>\n",
       "      <td>False</td>\n",
       "    </tr>\n",
       "    <tr>\n",
       "      <th>2017-12-24</th>\n",
       "      <td>4</td>\n",
       "      <td>12</td>\n",
       "      <td>63</td>\n",
       "      <td>False</td>\n",
       "    </tr>\n",
       "    <tr>\n",
       "      <th>2017-12-31</th>\n",
       "      <td>4</td>\n",
       "      <td>11</td>\n",
       "      <td>48</td>\n",
       "      <td>False</td>\n",
       "    </tr>\n",
       "    <tr>\n",
       "      <th>2018-01-07</th>\n",
       "      <td>5</td>\n",
       "      <td>10</td>\n",
       "      <td>47</td>\n",
       "      <td>True</td>\n",
       "    </tr>\n",
       "  </tbody>\n",
       "</table>\n",
       "</div>"
      ],
      "text/plain": [
       "            Blockchain  BTC  BitCoin isPartial\n",
       "date                                          \n",
       "2017-11-05           3    5       29     False\n",
       "2017-11-12           3    6       31     False\n",
       "2017-11-19           3    5       28     False\n",
       "2017-11-26           4   10       66     False\n",
       "2017-12-03           4   14       93     False\n",
       "2017-12-10           5   13       85     False\n",
       "2017-12-17           5   16      100     False\n",
       "2017-12-24           4   12       63     False\n",
       "2017-12-31           4   11       48     False\n",
       "2018-01-07           5   10       47      True"
      ]
     },
     "execution_count": 147,
     "metadata": {},
     "output_type": "execute_result"
    }
   ],
   "source": [
    "trends[-10:]"
   ]
  },
  {
   "cell_type": "code",
   "execution_count": 148,
   "metadata": {
    "collapsed": true
   },
   "outputs": [],
   "source": [
    "def payload(strings):\n",
    "    pytrends = TrendReq(hl='en-US', tz=360)\n",
    "    \n",
    "    trend = []\n",
    "    \n",
    "    for i in range(len(strings)):\n",
    "        pytrends.build_payload([strings[i]])\n",
    "        trend.append(pytrends.interest_over_time().drop('isPartial', axis = 1))\n",
    "    \n",
    "    trend = pd.concat(trend, axis = 1)\n",
    "    trend.reset_index(inplace = True)\n",
    "    return trend"
   ]
  },
  {
   "cell_type": "code",
   "execution_count": 149,
   "metadata": {},
   "outputs": [],
   "source": [
    "terms = ('Blockchain', 'BTC', 'BitCoin')\n",
    "trends = payload(terms)"
   ]
  },
  {
   "cell_type": "code",
   "execution_count": 150,
   "metadata": {},
   "outputs": [
    {
     "data": {
      "text/html": [
       "<div>\n",
       "<style>\n",
       "    .dataframe thead tr:only-child th {\n",
       "        text-align: right;\n",
       "    }\n",
       "\n",
       "    .dataframe thead th {\n",
       "        text-align: left;\n",
       "    }\n",
       "\n",
       "    .dataframe tbody tr th {\n",
       "        vertical-align: top;\n",
       "    }\n",
       "</style>\n",
       "<table border=\"1\" class=\"dataframe\">\n",
       "  <thead>\n",
       "    <tr style=\"text-align: right;\">\n",
       "      <th></th>\n",
       "      <th>date</th>\n",
       "      <th>Blockchain</th>\n",
       "      <th>BTC</th>\n",
       "      <th>BitCoin</th>\n",
       "    </tr>\n",
       "  </thead>\n",
       "  <tbody>\n",
       "    <tr>\n",
       "      <th>250</th>\n",
       "      <td>2017-11-05</td>\n",
       "      <td>51</td>\n",
       "      <td>35</td>\n",
       "      <td>29</td>\n",
       "    </tr>\n",
       "    <tr>\n",
       "      <th>251</th>\n",
       "      <td>2017-11-12</td>\n",
       "      <td>52</td>\n",
       "      <td>37</td>\n",
       "      <td>31</td>\n",
       "    </tr>\n",
       "    <tr>\n",
       "      <th>252</th>\n",
       "      <td>2017-11-19</td>\n",
       "      <td>52</td>\n",
       "      <td>34</td>\n",
       "      <td>28</td>\n",
       "    </tr>\n",
       "    <tr>\n",
       "      <th>253</th>\n",
       "      <td>2017-11-26</td>\n",
       "      <td>71</td>\n",
       "      <td>66</td>\n",
       "      <td>66</td>\n",
       "    </tr>\n",
       "    <tr>\n",
       "      <th>254</th>\n",
       "      <td>2017-12-03</td>\n",
       "      <td>88</td>\n",
       "      <td>87</td>\n",
       "      <td>92</td>\n",
       "    </tr>\n",
       "    <tr>\n",
       "      <th>255</th>\n",
       "      <td>2017-12-10</td>\n",
       "      <td>90</td>\n",
       "      <td>83</td>\n",
       "      <td>86</td>\n",
       "    </tr>\n",
       "    <tr>\n",
       "      <th>256</th>\n",
       "      <td>2017-12-17</td>\n",
       "      <td>100</td>\n",
       "      <td>100</td>\n",
       "      <td>100</td>\n",
       "    </tr>\n",
       "    <tr>\n",
       "      <th>257</th>\n",
       "      <td>2017-12-24</td>\n",
       "      <td>71</td>\n",
       "      <td>74</td>\n",
       "      <td>64</td>\n",
       "    </tr>\n",
       "    <tr>\n",
       "      <th>258</th>\n",
       "      <td>2017-12-31</td>\n",
       "      <td>76</td>\n",
       "      <td>70</td>\n",
       "      <td>48</td>\n",
       "    </tr>\n",
       "    <tr>\n",
       "      <th>259</th>\n",
       "      <td>2018-01-07</td>\n",
       "      <td>93</td>\n",
       "      <td>65</td>\n",
       "      <td>48</td>\n",
       "    </tr>\n",
       "  </tbody>\n",
       "</table>\n",
       "</div>"
      ],
      "text/plain": [
       "          date  Blockchain  BTC  BitCoin\n",
       "250 2017-11-05          51   35       29\n",
       "251 2017-11-12          52   37       31\n",
       "252 2017-11-19          52   34       28\n",
       "253 2017-11-26          71   66       66\n",
       "254 2017-12-03          88   87       92\n",
       "255 2017-12-10          90   83       86\n",
       "256 2017-12-17         100  100      100\n",
       "257 2017-12-24          71   74       64\n",
       "258 2017-12-31          76   70       48\n",
       "259 2018-01-07          93   65       48"
      ]
     },
     "execution_count": 150,
     "metadata": {},
     "output_type": "execute_result"
    }
   ],
   "source": [
    "trends[-10:]"
   ]
  },
  {
   "cell_type": "markdown",
   "metadata": {},
   "source": [
    "** <span style=\"color:red\">If there is any obvious data curation to be performed upon initial data loading, do it here</span> ** \n",
    "\n"
   ]
  },
  {
   "cell_type": "markdown",
   "metadata": {},
   "source": [
    "To perform computations on the data set we want to calculate a few more variables and add them to the same data frame. This will let us compute regressions on the same data set for different models.\n",
    "\n",
    "* The main discrepancy is merging the data into one complete set is that the prices we chose to use are in 5-minute to 1-day intervals, while the Google Trends are weekly.\n",
    "* We chose to use the daily Bitcoin price data."
   ]
  },
  {
   "cell_type": "markdown",
   "metadata": {},
   "source": [
    "#### Building the final data frame"
   ]
  },
  {
   "cell_type": "code",
   "execution_count": 153,
   "metadata": {},
   "outputs": [],
   "source": [
    "data = btc86400\n",
    "\n",
    "# Fill the columns with dummy values\n",
    "data.loc[:,'tBitCoin'] = 1\n",
    "data.loc[:,'tBTC'] = 1\n",
    "data.loc[:,'tBlockchain'] = 1"
   ]
  },
  {
   "cell_type": "markdown",
   "metadata": {},
   "source": [
    "#### We are focusing on the data until Dec. 31, 2017"
   ]
  },
  {
   "cell_type": "code",
   "execution_count": 154,
   "metadata": {
    "collapsed": true
   },
   "outputs": [],
   "source": [
    "day = datetime.datetime.now().day\n",
    "data = data[:-day]"
   ]
  },
  {
   "cell_type": "markdown",
   "metadata": {},
   "source": [
    "#### Trends are weekly so they are repeated 7 times in the daily data\n"
   ]
  },
  {
   "cell_type": "code",
   "execution_count": null,
   "metadata": {
    "collapsed": true
   },
   "outputs": [],
   "source": [
    "for i in range(4, len(data)+4):\n",
    "    data.loc[i-4, 'tBitCoin'] = trends.loc[int(109+(i/7)), 'BitCoin']\n",
    "    data.loc[i-4, 'tBTC'] = trends.loc[int(109+(i/7)), 'BTC']\n",
    "    data.loc[i-4, 'tBlockchain'] = trends.loc[int(109+(i/7)), 'Blockchain']\n",
    "    \n",
    "    #data['tBitCoin'][i-4] = trends['BitCoin'][int(109+(i/7))]\n",
    "    #data['tBTC'][i-4] = trends['BTC'][int(109+(i/7))]\n",
    "    #data['tBlockchain'][i-4] = trends['Blockchain'][int(109+(i/7))]"
   ]
  },
  {
   "cell_type": "markdown",
   "metadata": {},
   "source": [
    "#### Adding daily price change, 'delta', and logReturn to data"
   ]
  },
  {
   "cell_type": "code",
   "execution_count": 55,
   "metadata": {
    "scrolled": true
   },
   "outputs": [
    {
     "name": "stderr",
     "output_type": "stream",
     "text": [
      "/anaconda3/lib/python3.6/site-packages/pandas/core/indexing.py:517: SettingWithCopyWarning: \n",
      "A value is trying to be set on a copy of a slice from a DataFrame.\n",
      "Try using .loc[row_indexer,col_indexer] = value instead\n",
      "\n",
      "See the caveats in the documentation: http://pandas.pydata.org/pandas-docs/stable/indexing.html#indexing-view-versus-copy\n",
      "  self.obj[item] = s\n"
     ]
    }
   ],
   "source": [
    "import numpy as np\n",
    "\n",
    "data.loc[:,'delta'] = data.loc[:,'open'] - data.loc[:,'close']\n",
    "\n",
    "price = pd.DataFrame(btc86400.loc[:,'close'])\n",
    "price.loc[:,'pct_change'] = price.close.pct_change()\n",
    "price.loc[:,'log_return'] = np.log(price.loc[:,'close']) - np.log(price.loc[:,'close'].shift(1))\n",
    "data.loc[:,'logReturn'] = price.loc[:,'log_return']"
   ]
  },
  {
   "cell_type": "code",
   "execution_count": 57,
   "metadata": {},
   "outputs": [
    {
     "data": {
      "text/html": [
       "<div>\n",
       "<style>\n",
       "    .dataframe thead tr:only-child th {\n",
       "        text-align: right;\n",
       "    }\n",
       "\n",
       "    .dataframe thead th {\n",
       "        text-align: left;\n",
       "    }\n",
       "\n",
       "    .dataframe tbody tr th {\n",
       "        vertical-align: top;\n",
       "    }\n",
       "</style>\n",
       "<table border=\"1\" class=\"dataframe\">\n",
       "  <thead>\n",
       "    <tr style=\"text-align: right;\">\n",
       "      <th></th>\n",
       "      <th>close</th>\n",
       "      <th>date</th>\n",
       "      <th>high</th>\n",
       "      <th>low</th>\n",
       "      <th>open</th>\n",
       "      <th>quoteVolume</th>\n",
       "      <th>volume</th>\n",
       "      <th>weightedAverage</th>\n",
       "      <th>tBitCoin</th>\n",
       "      <th>tBTC</th>\n",
       "      <th>tBlockchain</th>\n",
       "      <th>delta</th>\n",
       "      <th>logReturn</th>\n",
       "    </tr>\n",
       "  </thead>\n",
       "  <tbody>\n",
       "    <tr>\n",
       "      <th>0</th>\n",
       "      <td>244.000000</td>\n",
       "      <td>2015-02-19 01:00:00</td>\n",
       "      <td>0.330000</td>\n",
       "      <td>225.000000</td>\n",
       "      <td>0.330000</td>\n",
       "      <td>0.193117</td>\n",
       "      <td>4.627631e+01</td>\n",
       "      <td>239.627778</td>\n",
       "      <td>2.0</td>\n",
       "      <td>244.000000</td>\n",
       "      <td>244.000000</td>\n",
       "      <td>-243.670000</td>\n",
       "      <td>NaN</td>\n",
       "    </tr>\n",
       "    <tr>\n",
       "      <th>1</th>\n",
       "      <td>240.250000</td>\n",
       "      <td>2015-02-20 01:00:00</td>\n",
       "      <td>245.000000</td>\n",
       "      <td>240.250000</td>\n",
       "      <td>240.250118</td>\n",
       "      <td>0.230429</td>\n",
       "      <td>5.589490e+01</td>\n",
       "      <td>242.568479</td>\n",
       "      <td>2.0</td>\n",
       "      <td>240.250000</td>\n",
       "      <td>240.250000</td>\n",
       "      <td>0.000118</td>\n",
       "      <td>-1.548818e-02</td>\n",
       "    </tr>\n",
       "    <tr>\n",
       "      <th>2</th>\n",
       "      <td>245.000000</td>\n",
       "      <td>2015-02-21 01:00:00</td>\n",
       "      <td>245.000000</td>\n",
       "      <td>245.000000</td>\n",
       "      <td>245.000000</td>\n",
       "      <td>0.060091</td>\n",
       "      <td>1.472224e+01</td>\n",
       "      <td>245.000000</td>\n",
       "      <td>2.0</td>\n",
       "      <td>245.000000</td>\n",
       "      <td>245.000000</td>\n",
       "      <td>0.000000</td>\n",
       "      <td>1.957816e-02</td>\n",
       "    </tr>\n",
       "    <tr>\n",
       "      <th>3</th>\n",
       "      <td>235.000000</td>\n",
       "      <td>2015-02-22 01:00:00</td>\n",
       "      <td>249.000000</td>\n",
       "      <td>235.000000</td>\n",
       "      <td>245.000000</td>\n",
       "      <td>0.539055</td>\n",
       "      <td>1.291212e+02</td>\n",
       "      <td>239.532608</td>\n",
       "      <td>2.0</td>\n",
       "      <td>235.000000</td>\n",
       "      <td>235.000000</td>\n",
       "      <td>10.000000</td>\n",
       "      <td>-4.167270e-02</td>\n",
       "    </tr>\n",
       "    <tr>\n",
       "      <th>4</th>\n",
       "      <td>235.000000</td>\n",
       "      <td>2015-02-23 01:00:00</td>\n",
       "      <td>235.001000</td>\n",
       "      <td>235.000000</td>\n",
       "      <td>235.000002</td>\n",
       "      <td>0.410926</td>\n",
       "      <td>9.656756e+01</td>\n",
       "      <td>235.000062</td>\n",
       "      <td>2.0</td>\n",
       "      <td>235.000000</td>\n",
       "      <td>235.000000</td>\n",
       "      <td>0.000002</td>\n",
       "      <td>0.000000e+00</td>\n",
       "    </tr>\n",
       "    <tr>\n",
       "      <th>5</th>\n",
       "      <td>239.750000</td>\n",
       "      <td>2015-02-24 01:00:00</td>\n",
       "      <td>239.750000</td>\n",
       "      <td>235.000000</td>\n",
       "      <td>235.000000</td>\n",
       "      <td>0.626749</td>\n",
       "      <td>1.491544e+02</td>\n",
       "      <td>237.981177</td>\n",
       "      <td>2.0</td>\n",
       "      <td>239.750000</td>\n",
       "      <td>239.750000</td>\n",
       "      <td>-4.750000</td>\n",
       "      <td>2.001120e-02</td>\n",
       "    </tr>\n",
       "    <tr>\n",
       "      <th>6</th>\n",
       "      <td>237.750000</td>\n",
       "      <td>2015-02-25 01:00:00</td>\n",
       "      <td>239.750000</td>\n",
       "      <td>237.750000</td>\n",
       "      <td>239.750000</td>\n",
       "      <td>0.927550</td>\n",
       "      <td>2.215841e+02</td>\n",
       "      <td>238.891722</td>\n",
       "      <td>2.0</td>\n",
       "      <td>237.750000</td>\n",
       "      <td>237.750000</td>\n",
       "      <td>2.000000</td>\n",
       "      <td>-8.377012e-03</td>\n",
       "    </tr>\n",
       "    <tr>\n",
       "      <th>7</th>\n",
       "      <td>238.500000</td>\n",
       "      <td>2015-02-26 01:00:00</td>\n",
       "      <td>239.800000</td>\n",
       "      <td>237.750000</td>\n",
       "      <td>237.750000</td>\n",
       "      <td>0.000650</td>\n",
       "      <td>1.554879e-01</td>\n",
       "      <td>239.116563</td>\n",
       "      <td>2.0</td>\n",
       "      <td>238.500000</td>\n",
       "      <td>238.500000</td>\n",
       "      <td>-0.750000</td>\n",
       "      <td>3.149609e-03</td>\n",
       "    </tr>\n",
       "    <tr>\n",
       "      <th>8</th>\n",
       "      <td>249.000000</td>\n",
       "      <td>2015-02-27 01:00:00</td>\n",
       "      <td>249.000000</td>\n",
       "      <td>238.500000</td>\n",
       "      <td>238.500000</td>\n",
       "      <td>1.589037</td>\n",
       "      <td>3.837554e+02</td>\n",
       "      <td>241.501825</td>\n",
       "      <td>2.0</td>\n",
       "      <td>249.000000</td>\n",
       "      <td>249.000000</td>\n",
       "      <td>-10.500000</td>\n",
       "      <td>4.308359e-02</td>\n",
       "    </tr>\n",
       "    <tr>\n",
       "      <th>9</th>\n",
       "      <td>240.000060</td>\n",
       "      <td>2015-02-28 01:00:00</td>\n",
       "      <td>251.000000</td>\n",
       "      <td>240.000000</td>\n",
       "      <td>240.000000</td>\n",
       "      <td>0.071330</td>\n",
       "      <td>1.714734e+01</td>\n",
       "      <td>240.394041</td>\n",
       "      <td>2.0</td>\n",
       "      <td>240.000060</td>\n",
       "      <td>240.000060</td>\n",
       "      <td>-0.000060</td>\n",
       "      <td>-3.681372e-02</td>\n",
       "    </tr>\n",
       "    <tr>\n",
       "      <th>10</th>\n",
       "      <td>251.000000</td>\n",
       "      <td>2015-03-01 01:00:00</td>\n",
       "      <td>251.000000</td>\n",
       "      <td>240.000121</td>\n",
       "      <td>240.000121</td>\n",
       "      <td>0.001270</td>\n",
       "      <td>3.177152e-01</td>\n",
       "      <td>250.202965</td>\n",
       "      <td>2.0</td>\n",
       "      <td>251.000000</td>\n",
       "      <td>251.000000</td>\n",
       "      <td>-10.999879</td>\n",
       "      <td>4.481376e-02</td>\n",
       "    </tr>\n",
       "    <tr>\n",
       "      <th>11</th>\n",
       "      <td>269.000000</td>\n",
       "      <td>2015-03-02 01:00:00</td>\n",
       "      <td>269.000000</td>\n",
       "      <td>251.000000</td>\n",
       "      <td>252.000000</td>\n",
       "      <td>0.379032</td>\n",
       "      <td>9.806380e+01</td>\n",
       "      <td>258.721874</td>\n",
       "      <td>2.0</td>\n",
       "      <td>269.000000</td>\n",
       "      <td>269.000000</td>\n",
       "      <td>-17.000000</td>\n",
       "      <td>6.925844e-02</td>\n",
       "    </tr>\n",
       "    <tr>\n",
       "      <th>12</th>\n",
       "      <td>267.220000</td>\n",
       "      <td>2015-03-03 01:00:00</td>\n",
       "      <td>274.500000</td>\n",
       "      <td>255.000000</td>\n",
       "      <td>268.000000</td>\n",
       "      <td>1.669492</td>\n",
       "      <td>4.429831e+02</td>\n",
       "      <td>265.339966</td>\n",
       "      <td>2.0</td>\n",
       "      <td>267.220000</td>\n",
       "      <td>267.220000</td>\n",
       "      <td>0.780000</td>\n",
       "      <td>-6.639090e-03</td>\n",
       "    </tr>\n",
       "    <tr>\n",
       "      <th>13</th>\n",
       "      <td>280.000000</td>\n",
       "      <td>2015-03-04 01:00:00</td>\n",
       "      <td>280.000000</td>\n",
       "      <td>258.875000</td>\n",
       "      <td>258.875000</td>\n",
       "      <td>0.878960</td>\n",
       "      <td>2.458890e+02</td>\n",
       "      <td>279.750117</td>\n",
       "      <td>2.0</td>\n",
       "      <td>280.000000</td>\n",
       "      <td>280.000000</td>\n",
       "      <td>-21.125000</td>\n",
       "      <td>4.671731e-02</td>\n",
       "    </tr>\n",
       "    <tr>\n",
       "      <th>14</th>\n",
       "      <td>257.000120</td>\n",
       "      <td>2015-03-05 01:00:00</td>\n",
       "      <td>280.890000</td>\n",
       "      <td>257.000000</td>\n",
       "      <td>257.000000</td>\n",
       "      <td>0.446298</td>\n",
       "      <td>1.174407e+02</td>\n",
       "      <td>263.144382</td>\n",
       "      <td>2.0</td>\n",
       "      <td>257.000120</td>\n",
       "      <td>257.000120</td>\n",
       "      <td>-0.000120</td>\n",
       "      <td>-8.571305e-02</td>\n",
       "    </tr>\n",
       "    <tr>\n",
       "      <th>15</th>\n",
       "      <td>260.000000</td>\n",
       "      <td>2015-03-06 01:00:00</td>\n",
       "      <td>271.002000</td>\n",
       "      <td>260.000000</td>\n",
       "      <td>269.000141</td>\n",
       "      <td>0.317275</td>\n",
       "      <td>8.419795e+01</td>\n",
       "      <td>265.378077</td>\n",
       "      <td>2.0</td>\n",
       "      <td>260.000000</td>\n",
       "      <td>260.000000</td>\n",
       "      <td>9.000141</td>\n",
       "      <td>1.160508e-02</td>\n",
       "    </tr>\n",
       "    <tr>\n",
       "      <th>16</th>\n",
       "      <td>260.000005</td>\n",
       "      <td>2015-03-07 01:00:00</td>\n",
       "      <td>260.000005</td>\n",
       "      <td>260.000005</td>\n",
       "      <td>260.000005</td>\n",
       "      <td>0.000700</td>\n",
       "      <td>1.819948e-01</td>\n",
       "      <td>260.000005</td>\n",
       "      <td>2.0</td>\n",
       "      <td>260.000005</td>\n",
       "      <td>260.000005</td>\n",
       "      <td>0.000000</td>\n",
       "      <td>2.007692e-08</td>\n",
       "    </tr>\n",
       "    <tr>\n",
       "      <th>17</th>\n",
       "      <td>260.000031</td>\n",
       "      <td>2015-03-08 01:00:00</td>\n",
       "      <td>275.002000</td>\n",
       "      <td>260.000031</td>\n",
       "      <td>265.000000</td>\n",
       "      <td>0.118750</td>\n",
       "      <td>3.090035e+01</td>\n",
       "      <td>260.212916</td>\n",
       "      <td>2.0</td>\n",
       "      <td>260.000031</td>\n",
       "      <td>260.000031</td>\n",
       "      <td>4.999969</td>\n",
       "      <td>9.919230e-08</td>\n",
       "    </tr>\n",
       "    <tr>\n",
       "      <th>18</th>\n",
       "      <td>264.000005</td>\n",
       "      <td>2015-03-09 01:00:00</td>\n",
       "      <td>285.000000</td>\n",
       "      <td>260.000031</td>\n",
       "      <td>260.000031</td>\n",
       "      <td>0.458682</td>\n",
       "      <td>1.283670e+02</td>\n",
       "      <td>279.860694</td>\n",
       "      <td>2.0</td>\n",
       "      <td>264.000005</td>\n",
       "      <td>264.000005</td>\n",
       "      <td>-3.999974</td>\n",
       "      <td>1.526737e-02</td>\n",
       "    </tr>\n",
       "    <tr>\n",
       "      <th>19</th>\n",
       "      <td>291.000000</td>\n",
       "      <td>2015-03-10 01:00:00</td>\n",
       "      <td>291.000000</td>\n",
       "      <td>264.000064</td>\n",
       "      <td>264.000064</td>\n",
       "      <td>0.191296</td>\n",
       "      <td>5.496176e+01</td>\n",
       "      <td>287.312659</td>\n",
       "      <td>2.0</td>\n",
       "      <td>291.000000</td>\n",
       "      <td>291.000000</td>\n",
       "      <td>-26.999936</td>\n",
       "      <td>9.737414e-02</td>\n",
       "    </tr>\n",
       "    <tr>\n",
       "      <th>20</th>\n",
       "      <td>276.000000</td>\n",
       "      <td>2015-03-11 01:00:00</td>\n",
       "      <td>292.950111</td>\n",
       "      <td>276.000000</td>\n",
       "      <td>279.000106</td>\n",
       "      <td>0.149287</td>\n",
       "      <td>4.251194e+01</td>\n",
       "      <td>284.765718</td>\n",
       "      <td>2.0</td>\n",
       "      <td>276.000000</td>\n",
       "      <td>276.000000</td>\n",
       "      <td>3.000106</td>\n",
       "      <td>-5.292240e-02</td>\n",
       "    </tr>\n",
       "    <tr>\n",
       "      <th>21</th>\n",
       "      <td>276.000001</td>\n",
       "      <td>2015-03-12 01:00:00</td>\n",
       "      <td>289.000106</td>\n",
       "      <td>276.000000</td>\n",
       "      <td>289.000106</td>\n",
       "      <td>0.010536</td>\n",
       "      <td>2.909892e+00</td>\n",
       "      <td>276.179401</td>\n",
       "      <td>2.0</td>\n",
       "      <td>276.000001</td>\n",
       "      <td>276.000001</td>\n",
       "      <td>13.000105</td>\n",
       "      <td>4.021739e-09</td>\n",
       "    </tr>\n",
       "    <tr>\n",
       "      <th>22</th>\n",
       "      <td>275.110000</td>\n",
       "      <td>2015-03-13 01:00:00</td>\n",
       "      <td>301.000000</td>\n",
       "      <td>275.110000</td>\n",
       "      <td>276.000001</td>\n",
       "      <td>0.201897</td>\n",
       "      <td>5.761316e+01</td>\n",
       "      <td>285.359503</td>\n",
       "      <td>2.0</td>\n",
       "      <td>275.110000</td>\n",
       "      <td>275.110000</td>\n",
       "      <td>0.890001</td>\n",
       "      <td>-3.229852e-03</td>\n",
       "    </tr>\n",
       "    <tr>\n",
       "      <th>23</th>\n",
       "      <td>275.100000</td>\n",
       "      <td>2015-03-14 01:00:00</td>\n",
       "      <td>275.110000</td>\n",
       "      <td>275.100000</td>\n",
       "      <td>275.110000</td>\n",
       "      <td>0.175604</td>\n",
       "      <td>4.831006e+01</td>\n",
       "      <td>275.108268</td>\n",
       "      <td>2.0</td>\n",
       "      <td>275.100000</td>\n",
       "      <td>275.100000</td>\n",
       "      <td>0.010000</td>\n",
       "      <td>-3.634878e-05</td>\n",
       "    </tr>\n",
       "    <tr>\n",
       "      <th>24</th>\n",
       "      <td>282.108000</td>\n",
       "      <td>2015-03-15 01:00:00</td>\n",
       "      <td>282.108000</td>\n",
       "      <td>275.100000</td>\n",
       "      <td>275.100000</td>\n",
       "      <td>0.106972</td>\n",
       "      <td>2.945411e+01</td>\n",
       "      <td>275.343316</td>\n",
       "      <td>2.0</td>\n",
       "      <td>282.108000</td>\n",
       "      <td>282.108000</td>\n",
       "      <td>-7.008000</td>\n",
       "      <td>2.515531e-02</td>\n",
       "    </tr>\n",
       "    <tr>\n",
       "      <th>25</th>\n",
       "      <td>275.000000</td>\n",
       "      <td>2015-03-16 01:00:00</td>\n",
       "      <td>301.000000</td>\n",
       "      <td>275.000000</td>\n",
       "      <td>301.000000</td>\n",
       "      <td>0.088253</td>\n",
       "      <td>2.556469e+01</td>\n",
       "      <td>289.675204</td>\n",
       "      <td>2.0</td>\n",
       "      <td>275.000000</td>\n",
       "      <td>275.000000</td>\n",
       "      <td>26.000000</td>\n",
       "      <td>-2.551888e-02</td>\n",
       "    </tr>\n",
       "    <tr>\n",
       "      <th>26</th>\n",
       "      <td>275.000000</td>\n",
       "      <td>2015-03-17 01:00:00</td>\n",
       "      <td>275.000000</td>\n",
       "      <td>275.000000</td>\n",
       "      <td>275.000000</td>\n",
       "      <td>0.000033</td>\n",
       "      <td>9.033750e-03</td>\n",
       "      <td>275.000000</td>\n",
       "      <td>2.0</td>\n",
       "      <td>275.000000</td>\n",
       "      <td>275.000000</td>\n",
       "      <td>0.000000</td>\n",
       "      <td>1.090905e-10</td>\n",
       "    </tr>\n",
       "    <tr>\n",
       "      <th>27</th>\n",
       "      <td>262.090000</td>\n",
       "      <td>2015-03-18 01:00:00</td>\n",
       "      <td>282.000000</td>\n",
       "      <td>262.090000</td>\n",
       "      <td>275.000000</td>\n",
       "      <td>0.622807</td>\n",
       "      <td>1.649113e+02</td>\n",
       "      <td>264.786975</td>\n",
       "      <td>2.0</td>\n",
       "      <td>262.090000</td>\n",
       "      <td>262.090000</td>\n",
       "      <td>12.910000</td>\n",
       "      <td>-4.808314e-02</td>\n",
       "    </tr>\n",
       "    <tr>\n",
       "      <th>28</th>\n",
       "      <td>264.846315</td>\n",
       "      <td>2015-03-19 01:00:00</td>\n",
       "      <td>267.010000</td>\n",
       "      <td>248.821580</td>\n",
       "      <td>267.010000</td>\n",
       "      <td>2.771906</td>\n",
       "      <td>7.139042e+02</td>\n",
       "      <td>257.549946</td>\n",
       "      <td>2.0</td>\n",
       "      <td>264.846315</td>\n",
       "      <td>264.846315</td>\n",
       "      <td>2.163685</td>\n",
       "      <td>1.046176e-02</td>\n",
       "    </tr>\n",
       "    <tr>\n",
       "      <th>29</th>\n",
       "      <td>263.560831</td>\n",
       "      <td>2015-03-20 01:00:00</td>\n",
       "      <td>267.976676</td>\n",
       "      <td>254.823433</td>\n",
       "      <td>254.898951</td>\n",
       "      <td>0.504661</td>\n",
       "      <td>1.327258e+02</td>\n",
       "      <td>262.999987</td>\n",
       "      <td>2.0</td>\n",
       "      <td>263.560831</td>\n",
       "      <td>263.560831</td>\n",
       "      <td>-8.661880</td>\n",
       "      <td>-4.865516e-03</td>\n",
       "    </tr>\n",
       "    <tr>\n",
       "      <th>...</th>\n",
       "      <td>...</td>\n",
       "      <td>...</td>\n",
       "      <td>...</td>\n",
       "      <td>...</td>\n",
       "      <td>...</td>\n",
       "      <td>...</td>\n",
       "      <td>...</td>\n",
       "      <td>...</td>\n",
       "      <td>...</td>\n",
       "      <td>...</td>\n",
       "      <td>...</td>\n",
       "      <td>...</td>\n",
       "      <td>...</td>\n",
       "    </tr>\n",
       "    <tr>\n",
       "      <th>1018</th>\n",
       "      <td>11175.000000</td>\n",
       "      <td>2017-12-03 01:00:00</td>\n",
       "      <td>11847.881721</td>\n",
       "      <td>10465.000000</td>\n",
       "      <td>10895.786282</td>\n",
       "      <td>10502.680824</td>\n",
       "      <td>1.182656e+08</td>\n",
       "      <td>11260.520156</td>\n",
       "      <td>86.0</td>\n",
       "      <td>11175.000000</td>\n",
       "      <td>11175.000000</td>\n",
       "      <td>-279.213718</td>\n",
       "      <td>2.530301e-02</td>\n",
       "    </tr>\n",
       "    <tr>\n",
       "      <th>1019</th>\n",
       "      <td>11600.000000</td>\n",
       "      <td>2017-12-04 01:00:00</td>\n",
       "      <td>11600.000000</td>\n",
       "      <td>10800.824600</td>\n",
       "      <td>11175.000000</td>\n",
       "      <td>5497.923299</td>\n",
       "      <td>6.213474e+07</td>\n",
       "      <td>11301.492212</td>\n",
       "      <td>86.0</td>\n",
       "      <td>11600.000000</td>\n",
       "      <td>11600.000000</td>\n",
       "      <td>-425.000000</td>\n",
       "      <td>3.732596e-02</td>\n",
       "    </tr>\n",
       "    <tr>\n",
       "      <th>1020</th>\n",
       "      <td>11665.138756</td>\n",
       "      <td>2017-12-05 01:00:00</td>\n",
       "      <td>11867.000000</td>\n",
       "      <td>11411.707415</td>\n",
       "      <td>11600.000000</td>\n",
       "      <td>4869.061174</td>\n",
       "      <td>5.678390e+07</td>\n",
       "      <td>11662.187078</td>\n",
       "      <td>86.0</td>\n",
       "      <td>11665.138756</td>\n",
       "      <td>11665.138756</td>\n",
       "      <td>-65.138756</td>\n",
       "      <td>5.599702e-03</td>\n",
       "    </tr>\n",
       "    <tr>\n",
       "      <th>1021</th>\n",
       "      <td>13580.905388</td>\n",
       "      <td>2017-12-06 01:00:00</td>\n",
       "      <td>13666.000000</td>\n",
       "      <td>11641.000000</td>\n",
       "      <td>11665.138756</td>\n",
       "      <td>11194.928898</td>\n",
       "      <td>1.412979e+08</td>\n",
       "      <td>12621.597626</td>\n",
       "      <td>86.0</td>\n",
       "      <td>13580.905388</td>\n",
       "      <td>13580.905388</td>\n",
       "      <td>-1915.766633</td>\n",
       "      <td>1.520600e-01</td>\n",
       "    </tr>\n",
       "    <tr>\n",
       "      <th>1022</th>\n",
       "      <td>16563.507434</td>\n",
       "      <td>2017-12-07 01:00:00</td>\n",
       "      <td>16672.000000</td>\n",
       "      <td>13092.272855</td>\n",
       "      <td>13580.905388</td>\n",
       "      <td>16534.348507</td>\n",
       "      <td>2.441697e+08</td>\n",
       "      <td>14767.421319</td>\n",
       "      <td>86.0</td>\n",
       "      <td>16563.507434</td>\n",
       "      <td>16563.507434</td>\n",
       "      <td>-2982.602046</td>\n",
       "      <td>1.985371e-01</td>\n",
       "    </tr>\n",
       "    <tr>\n",
       "      <th>1023</th>\n",
       "      <td>15847.678031</td>\n",
       "      <td>2017-12-08 01:00:00</td>\n",
       "      <td>17200.000000</td>\n",
       "      <td>13900.000000</td>\n",
       "      <td>16563.507434</td>\n",
       "      <td>14970.350924</td>\n",
       "      <td>2.304207e+08</td>\n",
       "      <td>15391.800332</td>\n",
       "      <td>86.0</td>\n",
       "      <td>15847.678031</td>\n",
       "      <td>15847.678031</td>\n",
       "      <td>715.829403</td>\n",
       "      <td>-4.417893e-02</td>\n",
       "    </tr>\n",
       "    <tr>\n",
       "      <th>1024</th>\n",
       "      <td>14690.219838</td>\n",
       "      <td>2017-12-09 01:00:00</td>\n",
       "      <td>16234.140000</td>\n",
       "      <td>12919.000000</td>\n",
       "      <td>15847.678031</td>\n",
       "      <td>9538.405780</td>\n",
       "      <td>1.373603e+08</td>\n",
       "      <td>14400.764192</td>\n",
       "      <td>86.0</td>\n",
       "      <td>14690.219838</td>\n",
       "      <td>14690.219838</td>\n",
       "      <td>1157.458192</td>\n",
       "      <td>-7.584104e-02</td>\n",
       "    </tr>\n",
       "    <tr>\n",
       "      <th>1025</th>\n",
       "      <td>14906.014906</td>\n",
       "      <td>2017-12-10 01:00:00</td>\n",
       "      <td>16000.000000</td>\n",
       "      <td>12700.006000</td>\n",
       "      <td>14690.219839</td>\n",
       "      <td>11357.202562</td>\n",
       "      <td>1.623975e+08</td>\n",
       "      <td>14299.074664</td>\n",
       "      <td>100.0</td>\n",
       "      <td>14906.014906</td>\n",
       "      <td>14906.014906</td>\n",
       "      <td>-215.795067</td>\n",
       "      <td>1.458286e-02</td>\n",
       "    </tr>\n",
       "    <tr>\n",
       "      <th>1026</th>\n",
       "      <td>16478.960000</td>\n",
       "      <td>2017-12-11 01:00:00</td>\n",
       "      <td>17450.000000</td>\n",
       "      <td>14906.000000</td>\n",
       "      <td>14929.800000</td>\n",
       "      <td>8641.582302</td>\n",
       "      <td>1.418774e+08</td>\n",
       "      <td>16417.989696</td>\n",
       "      <td>100.0</td>\n",
       "      <td>16478.960000</td>\n",
       "      <td>16478.960000</td>\n",
       "      <td>-1549.160000</td>\n",
       "      <td>1.003196e-01</td>\n",
       "    </tr>\n",
       "    <tr>\n",
       "      <th>1027</th>\n",
       "      <td>16228.000000</td>\n",
       "      <td>2017-12-12 01:00:00</td>\n",
       "      <td>16980.000000</td>\n",
       "      <td>15667.000000</td>\n",
       "      <td>16478.960000</td>\n",
       "      <td>8795.891715</td>\n",
       "      <td>1.442856e+08</td>\n",
       "      <td>16403.745724</td>\n",
       "      <td>100.0</td>\n",
       "      <td>16228.000000</td>\n",
       "      <td>16228.000000</td>\n",
       "      <td>250.960000</td>\n",
       "      <td>-1.534627e-02</td>\n",
       "    </tr>\n",
       "    <tr>\n",
       "      <th>1028</th>\n",
       "      <td>15907.000000</td>\n",
       "      <td>2017-12-13 01:00:00</td>\n",
       "      <td>16530.000001</td>\n",
       "      <td>15100.000000</td>\n",
       "      <td>16228.000000</td>\n",
       "      <td>9412.201933</td>\n",
       "      <td>1.502926e+08</td>\n",
       "      <td>15967.844871</td>\n",
       "      <td>100.0</td>\n",
       "      <td>15907.000000</td>\n",
       "      <td>15907.000000</td>\n",
       "      <td>321.000000</td>\n",
       "      <td>-1.997888e-02</td>\n",
       "    </tr>\n",
       "    <tr>\n",
       "      <th>1029</th>\n",
       "      <td>16401.529000</td>\n",
       "      <td>2017-12-14 01:00:00</td>\n",
       "      <td>16668.000000</td>\n",
       "      <td>15451.000000</td>\n",
       "      <td>15939.000000</td>\n",
       "      <td>8540.163531</td>\n",
       "      <td>1.379926e+08</td>\n",
       "      <td>16158.073346</td>\n",
       "      <td>100.0</td>\n",
       "      <td>16401.529000</td>\n",
       "      <td>16401.529000</td>\n",
       "      <td>-462.529000</td>\n",
       "      <td>3.061530e-02</td>\n",
       "    </tr>\n",
       "    <tr>\n",
       "      <th>1030</th>\n",
       "      <td>17540.000000</td>\n",
       "      <td>2017-12-15 01:00:00</td>\n",
       "      <td>18000.000000</td>\n",
       "      <td>16300.000000</td>\n",
       "      <td>16401.529000</td>\n",
       "      <td>8627.316153</td>\n",
       "      <td>1.501936e+08</td>\n",
       "      <td>17409.075221</td>\n",
       "      <td>100.0</td>\n",
       "      <td>17540.000000</td>\n",
       "      <td>17540.000000</td>\n",
       "      <td>-1138.471000</td>\n",
       "      <td>6.710942e-02</td>\n",
       "    </tr>\n",
       "    <tr>\n",
       "      <th>1031</th>\n",
       "      <td>19223.000000</td>\n",
       "      <td>2017-12-16 01:00:00</td>\n",
       "      <td>19764.788462</td>\n",
       "      <td>17251.000000</td>\n",
       "      <td>17540.000000</td>\n",
       "      <td>6356.848079</td>\n",
       "      <td>1.173353e+08</td>\n",
       "      <td>18458.093899</td>\n",
       "      <td>100.0</td>\n",
       "      <td>19223.000000</td>\n",
       "      <td>19223.000000</td>\n",
       "      <td>-1683.000000</td>\n",
       "      <td>9.162349e-02</td>\n",
       "    </tr>\n",
       "    <tr>\n",
       "      <th>1032</th>\n",
       "      <td>18959.200000</td>\n",
       "      <td>2017-12-17 01:00:00</td>\n",
       "      <td>19903.440214</td>\n",
       "      <td>18569.637853</td>\n",
       "      <td>19223.000000</td>\n",
       "      <td>7282.770583</td>\n",
       "      <td>1.400923e+08</td>\n",
       "      <td>19236.130652</td>\n",
       "      <td>63.0</td>\n",
       "      <td>18959.200000</td>\n",
       "      <td>18959.200000</td>\n",
       "      <td>263.800000</td>\n",
       "      <td>-1.381818e-02</td>\n",
       "    </tr>\n",
       "    <tr>\n",
       "      <th>1033</th>\n",
       "      <td>18930.534050</td>\n",
       "      <td>2017-12-18 01:00:00</td>\n",
       "      <td>19200.000000</td>\n",
       "      <td>17805.437937</td>\n",
       "      <td>18959.200000</td>\n",
       "      <td>8225.565525</td>\n",
       "      <td>1.524463e+08</td>\n",
       "      <td>18533.235991</td>\n",
       "      <td>63.0</td>\n",
       "      <td>18930.534050</td>\n",
       "      <td>18930.534050</td>\n",
       "      <td>28.665950</td>\n",
       "      <td>-1.513125e-03</td>\n",
       "    </tr>\n",
       "    <tr>\n",
       "      <th>1034</th>\n",
       "      <td>17310.000000</td>\n",
       "      <td>2017-12-19 01:00:00</td>\n",
       "      <td>19000.000000</td>\n",
       "      <td>16502.000000</td>\n",
       "      <td>18930.534050</td>\n",
       "      <td>10880.428516</td>\n",
       "      <td>1.933115e+08</td>\n",
       "      <td>17766.900104</td>\n",
       "      <td>63.0</td>\n",
       "      <td>17310.000000</td>\n",
       "      <td>17310.000000</td>\n",
       "      <td>1620.534050</td>\n",
       "      <td>-8.949181e-02</td>\n",
       "    </tr>\n",
       "    <tr>\n",
       "      <th>1035</th>\n",
       "      <td>16470.000000</td>\n",
       "      <td>2017-12-20 01:00:00</td>\n",
       "      <td>17835.000000</td>\n",
       "      <td>15550.000000</td>\n",
       "      <td>17310.000000</td>\n",
       "      <td>14188.448153</td>\n",
       "      <td>2.345371e+08</td>\n",
       "      <td>16530.146166</td>\n",
       "      <td>63.0</td>\n",
       "      <td>16470.000000</td>\n",
       "      <td>16470.000000</td>\n",
       "      <td>840.000000</td>\n",
       "      <td>-4.974382e-02</td>\n",
       "    </tr>\n",
       "    <tr>\n",
       "      <th>1036</th>\n",
       "      <td>15293.000000</td>\n",
       "      <td>2017-12-21 01:00:00</td>\n",
       "      <td>17375.987988</td>\n",
       "      <td>14500.000000</td>\n",
       "      <td>16403.598747</td>\n",
       "      <td>11868.536297</td>\n",
       "      <td>1.869516e+08</td>\n",
       "      <td>15751.863531</td>\n",
       "      <td>63.0</td>\n",
       "      <td>15293.000000</td>\n",
       "      <td>15293.000000</td>\n",
       "      <td>1110.598747</td>\n",
       "      <td>-7.414534e-02</td>\n",
       "    </tr>\n",
       "    <tr>\n",
       "      <th>1037</th>\n",
       "      <td>13247.064191</td>\n",
       "      <td>2017-12-22 01:00:00</td>\n",
       "      <td>15519.794475</td>\n",
       "      <td>11362.390000</td>\n",
       "      <td>15180.000000</td>\n",
       "      <td>29968.892519</td>\n",
       "      <td>3.960385e+08</td>\n",
       "      <td>13214.986292</td>\n",
       "      <td>63.0</td>\n",
       "      <td>13247.064191</td>\n",
       "      <td>13247.064191</td>\n",
       "      <td>1932.935809</td>\n",
       "      <td>-1.436192e-01</td>\n",
       "    </tr>\n",
       "    <tr>\n",
       "      <th>1038</th>\n",
       "      <td>13830.000000</td>\n",
       "      <td>2017-12-23 01:00:00</td>\n",
       "      <td>14940.000000</td>\n",
       "      <td>13000.000000</td>\n",
       "      <td>13200.000000</td>\n",
       "      <td>11453.337005</td>\n",
       "      <td>1.625551e+08</td>\n",
       "      <td>14192.814973</td>\n",
       "      <td>63.0</td>\n",
       "      <td>13830.000000</td>\n",
       "      <td>13830.000000</td>\n",
       "      <td>-630.000000</td>\n",
       "      <td>4.306419e-02</td>\n",
       "    </tr>\n",
       "    <tr>\n",
       "      <th>1039</th>\n",
       "      <td>13517.000000</td>\n",
       "      <td>2017-12-24 01:00:00</td>\n",
       "      <td>13999.000000</td>\n",
       "      <td>11703.137164</td>\n",
       "      <td>13830.000000</td>\n",
       "      <td>13389.674347</td>\n",
       "      <td>1.724885e+08</td>\n",
       "      <td>12882.203942</td>\n",
       "      <td>48.0</td>\n",
       "      <td>13517.000000</td>\n",
       "      <td>13517.000000</td>\n",
       "      <td>313.000000</td>\n",
       "      <td>-2.289199e-02</td>\n",
       "    </tr>\n",
       "    <tr>\n",
       "      <th>1040</th>\n",
       "      <td>13638.000000</td>\n",
       "      <td>2017-12-25 01:00:00</td>\n",
       "      <td>14300.000000</td>\n",
       "      <td>12702.846413</td>\n",
       "      <td>13510.984846</td>\n",
       "      <td>6181.975946</td>\n",
       "      <td>8.395044e+07</td>\n",
       "      <td>13579.871622</td>\n",
       "      <td>48.0</td>\n",
       "      <td>13638.000000</td>\n",
       "      <td>13638.000000</td>\n",
       "      <td>-127.015153</td>\n",
       "      <td>8.911862e-03</td>\n",
       "    </tr>\n",
       "    <tr>\n",
       "      <th>1041</th>\n",
       "      <td>15700.085745</td>\n",
       "      <td>2017-12-26 01:00:00</td>\n",
       "      <td>16050.655500</td>\n",
       "      <td>13510.539590</td>\n",
       "      <td>13638.000000</td>\n",
       "      <td>8234.259349</td>\n",
       "      <td>1.252503e+08</td>\n",
       "      <td>15210.877102</td>\n",
       "      <td>48.0</td>\n",
       "      <td>15700.085745</td>\n",
       "      <td>15700.085745</td>\n",
       "      <td>-2062.085745</td>\n",
       "      <td>1.408062e-01</td>\n",
       "    </tr>\n",
       "    <tr>\n",
       "      <th>1042</th>\n",
       "      <td>15370.010000</td>\n",
       "      <td>2017-12-27 01:00:00</td>\n",
       "      <td>16500.908000</td>\n",
       "      <td>14454.000000</td>\n",
       "      <td>15690.000000</td>\n",
       "      <td>8029.245238</td>\n",
       "      <td>1.241393e+08</td>\n",
       "      <td>15460.898121</td>\n",
       "      <td>48.0</td>\n",
       "      <td>15370.010000</td>\n",
       "      <td>15370.010000</td>\n",
       "      <td>319.990000</td>\n",
       "      <td>-2.124797e-02</td>\n",
       "    </tr>\n",
       "    <tr>\n",
       "      <th>1043</th>\n",
       "      <td>14307.345854</td>\n",
       "      <td>2017-12-28 01:00:00</td>\n",
       "      <td>15464.079306</td>\n",
       "      <td>13260.010510</td>\n",
       "      <td>15370.010000</td>\n",
       "      <td>9301.914794</td>\n",
       "      <td>1.308070e+08</td>\n",
       "      <td>14062.371874</td>\n",
       "      <td>48.0</td>\n",
       "      <td>14307.345854</td>\n",
       "      <td>14307.345854</td>\n",
       "      <td>1062.664146</td>\n",
       "      <td>-7.164511e-02</td>\n",
       "    </tr>\n",
       "    <tr>\n",
       "      <th>1044</th>\n",
       "      <td>14305.534225</td>\n",
       "      <td>2017-12-29 01:00:00</td>\n",
       "      <td>15100.000000</td>\n",
       "      <td>13770.000000</td>\n",
       "      <td>14307.345854</td>\n",
       "      <td>6966.730038</td>\n",
       "      <td>1.002137e+08</td>\n",
       "      <td>14384.615123</td>\n",
       "      <td>48.0</td>\n",
       "      <td>14305.534225</td>\n",
       "      <td>14305.534225</td>\n",
       "      <td>1.811629</td>\n",
       "      <td>-1.266303e-04</td>\n",
       "    </tr>\n",
       "    <tr>\n",
       "      <th>1045</th>\n",
       "      <td>12351.930000</td>\n",
       "      <td>2017-12-30 01:00:00</td>\n",
       "      <td>14365.387907</td>\n",
       "      <td>11701.000000</td>\n",
       "      <td>14305.534225</td>\n",
       "      <td>12776.345281</td>\n",
       "      <td>1.646733e+08</td>\n",
       "      <td>12888.920507</td>\n",
       "      <td>48.0</td>\n",
       "      <td>12351.930000</td>\n",
       "      <td>12351.930000</td>\n",
       "      <td>1953.604225</td>\n",
       "      <td>-1.468341e-01</td>\n",
       "    </tr>\n",
       "    <tr>\n",
       "      <th>1046</th>\n",
       "      <td>13769.341984</td>\n",
       "      <td>2017-12-31 01:00:00</td>\n",
       "      <td>14145.000000</td>\n",
       "      <td>12205.000000</td>\n",
       "      <td>12390.000000</td>\n",
       "      <td>7123.680445</td>\n",
       "      <td>9.424179e+07</td>\n",
       "      <td>13229.368045</td>\n",
       "      <td>47.0</td>\n",
       "      <td>13769.341984</td>\n",
       "      <td>13769.341984</td>\n",
       "      <td>-1379.341984</td>\n",
       "      <td>1.086322e-01</td>\n",
       "    </tr>\n",
       "    <tr>\n",
       "      <th>delta</th>\n",
       "      <td>NaN</td>\n",
       "      <td>NaN</td>\n",
       "      <td>NaN</td>\n",
       "      <td>NaN</td>\n",
       "      <td>NaN</td>\n",
       "      <td>NaN</td>\n",
       "      <td>NaN</td>\n",
       "      <td>NaN</td>\n",
       "      <td>NaN</td>\n",
       "      <td>NaN</td>\n",
       "      <td>NaN</td>\n",
       "      <td>NaN</td>\n",
       "      <td>NaN</td>\n",
       "    </tr>\n",
       "  </tbody>\n",
       "</table>\n",
       "<p>1048 rows × 13 columns</p>\n",
       "</div>"
      ],
      "text/plain": [
       "              close                 date          high           low  \\\n",
       "0        244.000000  2015-02-19 01:00:00      0.330000    225.000000   \n",
       "1        240.250000  2015-02-20 01:00:00    245.000000    240.250000   \n",
       "2        245.000000  2015-02-21 01:00:00    245.000000    245.000000   \n",
       "3        235.000000  2015-02-22 01:00:00    249.000000    235.000000   \n",
       "4        235.000000  2015-02-23 01:00:00    235.001000    235.000000   \n",
       "5        239.750000  2015-02-24 01:00:00    239.750000    235.000000   \n",
       "6        237.750000  2015-02-25 01:00:00    239.750000    237.750000   \n",
       "7        238.500000  2015-02-26 01:00:00    239.800000    237.750000   \n",
       "8        249.000000  2015-02-27 01:00:00    249.000000    238.500000   \n",
       "9        240.000060  2015-02-28 01:00:00    251.000000    240.000000   \n",
       "10       251.000000  2015-03-01 01:00:00    251.000000    240.000121   \n",
       "11       269.000000  2015-03-02 01:00:00    269.000000    251.000000   \n",
       "12       267.220000  2015-03-03 01:00:00    274.500000    255.000000   \n",
       "13       280.000000  2015-03-04 01:00:00    280.000000    258.875000   \n",
       "14       257.000120  2015-03-05 01:00:00    280.890000    257.000000   \n",
       "15       260.000000  2015-03-06 01:00:00    271.002000    260.000000   \n",
       "16       260.000005  2015-03-07 01:00:00    260.000005    260.000005   \n",
       "17       260.000031  2015-03-08 01:00:00    275.002000    260.000031   \n",
       "18       264.000005  2015-03-09 01:00:00    285.000000    260.000031   \n",
       "19       291.000000  2015-03-10 01:00:00    291.000000    264.000064   \n",
       "20       276.000000  2015-03-11 01:00:00    292.950111    276.000000   \n",
       "21       276.000001  2015-03-12 01:00:00    289.000106    276.000000   \n",
       "22       275.110000  2015-03-13 01:00:00    301.000000    275.110000   \n",
       "23       275.100000  2015-03-14 01:00:00    275.110000    275.100000   \n",
       "24       282.108000  2015-03-15 01:00:00    282.108000    275.100000   \n",
       "25       275.000000  2015-03-16 01:00:00    301.000000    275.000000   \n",
       "26       275.000000  2015-03-17 01:00:00    275.000000    275.000000   \n",
       "27       262.090000  2015-03-18 01:00:00    282.000000    262.090000   \n",
       "28       264.846315  2015-03-19 01:00:00    267.010000    248.821580   \n",
       "29       263.560831  2015-03-20 01:00:00    267.976676    254.823433   \n",
       "...             ...                  ...           ...           ...   \n",
       "1018   11175.000000  2017-12-03 01:00:00  11847.881721  10465.000000   \n",
       "1019   11600.000000  2017-12-04 01:00:00  11600.000000  10800.824600   \n",
       "1020   11665.138756  2017-12-05 01:00:00  11867.000000  11411.707415   \n",
       "1021   13580.905388  2017-12-06 01:00:00  13666.000000  11641.000000   \n",
       "1022   16563.507434  2017-12-07 01:00:00  16672.000000  13092.272855   \n",
       "1023   15847.678031  2017-12-08 01:00:00  17200.000000  13900.000000   \n",
       "1024   14690.219838  2017-12-09 01:00:00  16234.140000  12919.000000   \n",
       "1025   14906.014906  2017-12-10 01:00:00  16000.000000  12700.006000   \n",
       "1026   16478.960000  2017-12-11 01:00:00  17450.000000  14906.000000   \n",
       "1027   16228.000000  2017-12-12 01:00:00  16980.000000  15667.000000   \n",
       "1028   15907.000000  2017-12-13 01:00:00  16530.000001  15100.000000   \n",
       "1029   16401.529000  2017-12-14 01:00:00  16668.000000  15451.000000   \n",
       "1030   17540.000000  2017-12-15 01:00:00  18000.000000  16300.000000   \n",
       "1031   19223.000000  2017-12-16 01:00:00  19764.788462  17251.000000   \n",
       "1032   18959.200000  2017-12-17 01:00:00  19903.440214  18569.637853   \n",
       "1033   18930.534050  2017-12-18 01:00:00  19200.000000  17805.437937   \n",
       "1034   17310.000000  2017-12-19 01:00:00  19000.000000  16502.000000   \n",
       "1035   16470.000000  2017-12-20 01:00:00  17835.000000  15550.000000   \n",
       "1036   15293.000000  2017-12-21 01:00:00  17375.987988  14500.000000   \n",
       "1037   13247.064191  2017-12-22 01:00:00  15519.794475  11362.390000   \n",
       "1038   13830.000000  2017-12-23 01:00:00  14940.000000  13000.000000   \n",
       "1039   13517.000000  2017-12-24 01:00:00  13999.000000  11703.137164   \n",
       "1040   13638.000000  2017-12-25 01:00:00  14300.000000  12702.846413   \n",
       "1041   15700.085745  2017-12-26 01:00:00  16050.655500  13510.539590   \n",
       "1042   15370.010000  2017-12-27 01:00:00  16500.908000  14454.000000   \n",
       "1043   14307.345854  2017-12-28 01:00:00  15464.079306  13260.010510   \n",
       "1044   14305.534225  2017-12-29 01:00:00  15100.000000  13770.000000   \n",
       "1045   12351.930000  2017-12-30 01:00:00  14365.387907  11701.000000   \n",
       "1046   13769.341984  2017-12-31 01:00:00  14145.000000  12205.000000   \n",
       "delta           NaN                  NaN           NaN           NaN   \n",
       "\n",
       "               open   quoteVolume        volume  weightedAverage  tBitCoin  \\\n",
       "0          0.330000      0.193117  4.627631e+01       239.627778       2.0   \n",
       "1        240.250118      0.230429  5.589490e+01       242.568479       2.0   \n",
       "2        245.000000      0.060091  1.472224e+01       245.000000       2.0   \n",
       "3        245.000000      0.539055  1.291212e+02       239.532608       2.0   \n",
       "4        235.000002      0.410926  9.656756e+01       235.000062       2.0   \n",
       "5        235.000000      0.626749  1.491544e+02       237.981177       2.0   \n",
       "6        239.750000      0.927550  2.215841e+02       238.891722       2.0   \n",
       "7        237.750000      0.000650  1.554879e-01       239.116563       2.0   \n",
       "8        238.500000      1.589037  3.837554e+02       241.501825       2.0   \n",
       "9        240.000000      0.071330  1.714734e+01       240.394041       2.0   \n",
       "10       240.000121      0.001270  3.177152e-01       250.202965       2.0   \n",
       "11       252.000000      0.379032  9.806380e+01       258.721874       2.0   \n",
       "12       268.000000      1.669492  4.429831e+02       265.339966       2.0   \n",
       "13       258.875000      0.878960  2.458890e+02       279.750117       2.0   \n",
       "14       257.000000      0.446298  1.174407e+02       263.144382       2.0   \n",
       "15       269.000141      0.317275  8.419795e+01       265.378077       2.0   \n",
       "16       260.000005      0.000700  1.819948e-01       260.000005       2.0   \n",
       "17       265.000000      0.118750  3.090035e+01       260.212916       2.0   \n",
       "18       260.000031      0.458682  1.283670e+02       279.860694       2.0   \n",
       "19       264.000064      0.191296  5.496176e+01       287.312659       2.0   \n",
       "20       279.000106      0.149287  4.251194e+01       284.765718       2.0   \n",
       "21       289.000106      0.010536  2.909892e+00       276.179401       2.0   \n",
       "22       276.000001      0.201897  5.761316e+01       285.359503       2.0   \n",
       "23       275.110000      0.175604  4.831006e+01       275.108268       2.0   \n",
       "24       275.100000      0.106972  2.945411e+01       275.343316       2.0   \n",
       "25       301.000000      0.088253  2.556469e+01       289.675204       2.0   \n",
       "26       275.000000      0.000033  9.033750e-03       275.000000       2.0   \n",
       "27       275.000000      0.622807  1.649113e+02       264.786975       2.0   \n",
       "28       267.010000      2.771906  7.139042e+02       257.549946       2.0   \n",
       "29       254.898951      0.504661  1.327258e+02       262.999987       2.0   \n",
       "...             ...           ...           ...              ...       ...   \n",
       "1018   10895.786282  10502.680824  1.182656e+08     11260.520156      86.0   \n",
       "1019   11175.000000   5497.923299  6.213474e+07     11301.492212      86.0   \n",
       "1020   11600.000000   4869.061174  5.678390e+07     11662.187078      86.0   \n",
       "1021   11665.138756  11194.928898  1.412979e+08     12621.597626      86.0   \n",
       "1022   13580.905388  16534.348507  2.441697e+08     14767.421319      86.0   \n",
       "1023   16563.507434  14970.350924  2.304207e+08     15391.800332      86.0   \n",
       "1024   15847.678031   9538.405780  1.373603e+08     14400.764192      86.0   \n",
       "1025   14690.219839  11357.202562  1.623975e+08     14299.074664     100.0   \n",
       "1026   14929.800000   8641.582302  1.418774e+08     16417.989696     100.0   \n",
       "1027   16478.960000   8795.891715  1.442856e+08     16403.745724     100.0   \n",
       "1028   16228.000000   9412.201933  1.502926e+08     15967.844871     100.0   \n",
       "1029   15939.000000   8540.163531  1.379926e+08     16158.073346     100.0   \n",
       "1030   16401.529000   8627.316153  1.501936e+08     17409.075221     100.0   \n",
       "1031   17540.000000   6356.848079  1.173353e+08     18458.093899     100.0   \n",
       "1032   19223.000000   7282.770583  1.400923e+08     19236.130652      63.0   \n",
       "1033   18959.200000   8225.565525  1.524463e+08     18533.235991      63.0   \n",
       "1034   18930.534050  10880.428516  1.933115e+08     17766.900104      63.0   \n",
       "1035   17310.000000  14188.448153  2.345371e+08     16530.146166      63.0   \n",
       "1036   16403.598747  11868.536297  1.869516e+08     15751.863531      63.0   \n",
       "1037   15180.000000  29968.892519  3.960385e+08     13214.986292      63.0   \n",
       "1038   13200.000000  11453.337005  1.625551e+08     14192.814973      63.0   \n",
       "1039   13830.000000  13389.674347  1.724885e+08     12882.203942      48.0   \n",
       "1040   13510.984846   6181.975946  8.395044e+07     13579.871622      48.0   \n",
       "1041   13638.000000   8234.259349  1.252503e+08     15210.877102      48.0   \n",
       "1042   15690.000000   8029.245238  1.241393e+08     15460.898121      48.0   \n",
       "1043   15370.010000   9301.914794  1.308070e+08     14062.371874      48.0   \n",
       "1044   14307.345854   6966.730038  1.002137e+08     14384.615123      48.0   \n",
       "1045   14305.534225  12776.345281  1.646733e+08     12888.920507      48.0   \n",
       "1046   12390.000000   7123.680445  9.424179e+07     13229.368045      47.0   \n",
       "delta           NaN           NaN           NaN              NaN       NaN   \n",
       "\n",
       "               tBTC   tBlockchain        delta     logReturn  \n",
       "0        244.000000    244.000000  -243.670000           NaN  \n",
       "1        240.250000    240.250000     0.000118 -1.548818e-02  \n",
       "2        245.000000    245.000000     0.000000  1.957816e-02  \n",
       "3        235.000000    235.000000    10.000000 -4.167270e-02  \n",
       "4        235.000000    235.000000     0.000002  0.000000e+00  \n",
       "5        239.750000    239.750000    -4.750000  2.001120e-02  \n",
       "6        237.750000    237.750000     2.000000 -8.377012e-03  \n",
       "7        238.500000    238.500000    -0.750000  3.149609e-03  \n",
       "8        249.000000    249.000000   -10.500000  4.308359e-02  \n",
       "9        240.000060    240.000060    -0.000060 -3.681372e-02  \n",
       "10       251.000000    251.000000   -10.999879  4.481376e-02  \n",
       "11       269.000000    269.000000   -17.000000  6.925844e-02  \n",
       "12       267.220000    267.220000     0.780000 -6.639090e-03  \n",
       "13       280.000000    280.000000   -21.125000  4.671731e-02  \n",
       "14       257.000120    257.000120    -0.000120 -8.571305e-02  \n",
       "15       260.000000    260.000000     9.000141  1.160508e-02  \n",
       "16       260.000005    260.000005     0.000000  2.007692e-08  \n",
       "17       260.000031    260.000031     4.999969  9.919230e-08  \n",
       "18       264.000005    264.000005    -3.999974  1.526737e-02  \n",
       "19       291.000000    291.000000   -26.999936  9.737414e-02  \n",
       "20       276.000000    276.000000     3.000106 -5.292240e-02  \n",
       "21       276.000001    276.000001    13.000105  4.021739e-09  \n",
       "22       275.110000    275.110000     0.890001 -3.229852e-03  \n",
       "23       275.100000    275.100000     0.010000 -3.634878e-05  \n",
       "24       282.108000    282.108000    -7.008000  2.515531e-02  \n",
       "25       275.000000    275.000000    26.000000 -2.551888e-02  \n",
       "26       275.000000    275.000000     0.000000  1.090905e-10  \n",
       "27       262.090000    262.090000    12.910000 -4.808314e-02  \n",
       "28       264.846315    264.846315     2.163685  1.046176e-02  \n",
       "29       263.560831    263.560831    -8.661880 -4.865516e-03  \n",
       "...             ...           ...          ...           ...  \n",
       "1018   11175.000000  11175.000000  -279.213718  2.530301e-02  \n",
       "1019   11600.000000  11600.000000  -425.000000  3.732596e-02  \n",
       "1020   11665.138756  11665.138756   -65.138756  5.599702e-03  \n",
       "1021   13580.905388  13580.905388 -1915.766633  1.520600e-01  \n",
       "1022   16563.507434  16563.507434 -2982.602046  1.985371e-01  \n",
       "1023   15847.678031  15847.678031   715.829403 -4.417893e-02  \n",
       "1024   14690.219838  14690.219838  1157.458192 -7.584104e-02  \n",
       "1025   14906.014906  14906.014906  -215.795067  1.458286e-02  \n",
       "1026   16478.960000  16478.960000 -1549.160000  1.003196e-01  \n",
       "1027   16228.000000  16228.000000   250.960000 -1.534627e-02  \n",
       "1028   15907.000000  15907.000000   321.000000 -1.997888e-02  \n",
       "1029   16401.529000  16401.529000  -462.529000  3.061530e-02  \n",
       "1030   17540.000000  17540.000000 -1138.471000  6.710942e-02  \n",
       "1031   19223.000000  19223.000000 -1683.000000  9.162349e-02  \n",
       "1032   18959.200000  18959.200000   263.800000 -1.381818e-02  \n",
       "1033   18930.534050  18930.534050    28.665950 -1.513125e-03  \n",
       "1034   17310.000000  17310.000000  1620.534050 -8.949181e-02  \n",
       "1035   16470.000000  16470.000000   840.000000 -4.974382e-02  \n",
       "1036   15293.000000  15293.000000  1110.598747 -7.414534e-02  \n",
       "1037   13247.064191  13247.064191  1932.935809 -1.436192e-01  \n",
       "1038   13830.000000  13830.000000  -630.000000  4.306419e-02  \n",
       "1039   13517.000000  13517.000000   313.000000 -2.289199e-02  \n",
       "1040   13638.000000  13638.000000  -127.015153  8.911862e-03  \n",
       "1041   15700.085745  15700.085745 -2062.085745  1.408062e-01  \n",
       "1042   15370.010000  15370.010000   319.990000 -2.124797e-02  \n",
       "1043   14307.345854  14307.345854  1062.664146 -7.164511e-02  \n",
       "1044   14305.534225  14305.534225     1.811629 -1.266303e-04  \n",
       "1045   12351.930000  12351.930000  1953.604225 -1.468341e-01  \n",
       "1046   13769.341984  13769.341984 -1379.341984  1.086322e-01  \n",
       "delta           NaN           NaN          NaN           NaN  \n",
       "\n",
       "[1048 rows x 13 columns]"
      ]
     },
     "execution_count": 57,
     "metadata": {},
     "output_type": "execute_result"
    }
   ],
   "source": [
    "data"
   ]
  },
  {
   "cell_type": "markdown",
   "metadata": {},
   "source": [
    "#### This is the point where the dataset has been exported to avoid the computation time if we ever start a new instance"
   ]
  },
  {
   "cell_type": "markdown",
   "metadata": {},
   "source": [
    "### Data charaterisctics :  Here, give as much as possible characteristics of data\n",
    "* The data set is complete in that there are no missing values for their given date range.\n",
    "* The cryptocurrencys have the following information:\n",
    "\n",
    "`close, date, high, low, open, quoteVolume, volume`\n",
    "* The main discrepancy is merging the data into one complete set is that the prices we chose to use are in 5-minute to 1-day intervals, while the Google Trends are weekly.\n",
    "* We chose to use the daily Bitcoin price data."
   ]
  },
  {
   "cell_type": "markdown",
   "metadata": {},
   "source": [
    "### Looking at 5 minute prices"
   ]
  },
  {
   "cell_type": "code",
   "execution_count": 92,
   "metadata": {},
   "outputs": [
    {
     "data": {
      "text/plain": [
       "Index(['close', 'date', 'high', 'low', 'open', 'quoteVolume', 'volume',\n",
       "       'weightedAverage'],\n",
       "      dtype='object')"
      ]
     },
     "execution_count": 92,
     "metadata": {},
     "output_type": "execute_result"
    }
   ],
   "source": [
    "btc300.columns"
   ]
  },
  {
   "cell_type": "code",
   "execution_count": 47,
   "metadata": {},
   "outputs": [
    {
     "data": {
      "text/html": [
       "<div>\n",
       "<style>\n",
       "    .dataframe thead tr:only-child th {\n",
       "        text-align: right;\n",
       "    }\n",
       "\n",
       "    .dataframe thead th {\n",
       "        text-align: left;\n",
       "    }\n",
       "\n",
       "    .dataframe tbody tr th {\n",
       "        vertical-align: top;\n",
       "    }\n",
       "</style>\n",
       "<table border=\"1\" class=\"dataframe\">\n",
       "  <thead>\n",
       "    <tr style=\"text-align: right;\">\n",
       "      <th></th>\n",
       "      <th>close</th>\n",
       "      <th>date</th>\n",
       "      <th>high</th>\n",
       "      <th>low</th>\n",
       "      <th>open</th>\n",
       "      <th>quoteVolume</th>\n",
       "      <th>volume</th>\n",
       "      <th>weightedAverage</th>\n",
       "    </tr>\n",
       "  </thead>\n",
       "  <tbody>\n",
       "    <tr>\n",
       "      <th>count</th>\n",
       "      <td>305188.000000</td>\n",
       "      <td>3.051880e+05</td>\n",
       "      <td>305188.000000</td>\n",
       "      <td>305188.000000</td>\n",
       "      <td>305188.000000</td>\n",
       "      <td>305188.000000</td>\n",
       "      <td>3.051880e+05</td>\n",
       "      <td>305188.000000</td>\n",
       "    </tr>\n",
       "    <tr>\n",
       "      <th>mean</th>\n",
       "      <td>1820.834862</td>\n",
       "      <td>1.470151e+09</td>\n",
       "      <td>1825.243163</td>\n",
       "      <td>1816.145670</td>\n",
       "      <td>1820.873686</td>\n",
       "      <td>12.301258</td>\n",
       "      <td>5.105731e+04</td>\n",
       "      <td>1820.702676</td>\n",
       "    </tr>\n",
       "    <tr>\n",
       "      <th>std</th>\n",
       "      <td>3189.899236</td>\n",
       "      <td>2.643010e+07</td>\n",
       "      <td>3200.774534</td>\n",
       "      <td>3178.356629</td>\n",
       "      <td>3190.121604</td>\n",
       "      <td>33.119972</td>\n",
       "      <td>1.700453e+05</td>\n",
       "      <td>3189.639099</td>\n",
       "    </tr>\n",
       "    <tr>\n",
       "      <th>min</th>\n",
       "      <td>99.000000</td>\n",
       "      <td>1.424373e+09</td>\n",
       "      <td>0.330000</td>\n",
       "      <td>99.000000</td>\n",
       "      <td>0.330000</td>\n",
       "      <td>0.000000</td>\n",
       "      <td>0.000000e+00</td>\n",
       "      <td>0.000000</td>\n",
       "    </tr>\n",
       "    <tr>\n",
       "      <th>25%</th>\n",
       "      <td>331.830579</td>\n",
       "      <td>1.447262e+09</td>\n",
       "      <td>331.900000</td>\n",
       "      <td>331.362024</td>\n",
       "      <td>331.500000</td>\n",
       "      <td>0.000000</td>\n",
       "      <td>0.000000e+00</td>\n",
       "      <td>331.469667</td>\n",
       "    </tr>\n",
       "    <tr>\n",
       "      <th>50%</th>\n",
       "      <td>611.621380</td>\n",
       "      <td>1.470151e+09</td>\n",
       "      <td>612.000000</td>\n",
       "      <td>611.000000</td>\n",
       "      <td>611.612863</td>\n",
       "      <td>0.171882</td>\n",
       "      <td>1.004471e+02</td>\n",
       "      <td>611.597159</td>\n",
       "    </tr>\n",
       "    <tr>\n",
       "      <th>75%</th>\n",
       "      <td>1348.624750</td>\n",
       "      <td>1.493040e+09</td>\n",
       "      <td>1349.999850</td>\n",
       "      <td>1347.150000</td>\n",
       "      <td>1348.700000</td>\n",
       "      <td>10.359461</td>\n",
       "      <td>2.393522e+04</td>\n",
       "      <td>1348.623708</td>\n",
       "    </tr>\n",
       "    <tr>\n",
       "      <th>max</th>\n",
       "      <td>19896.687300</td>\n",
       "      <td>1.515929e+09</td>\n",
       "      <td>19903.440214</td>\n",
       "      <td>19860.120000</td>\n",
       "      <td>19896.687300</td>\n",
       "      <td>1244.437950</td>\n",
       "      <td>8.905612e+06</td>\n",
       "      <td>19888.009976</td>\n",
       "    </tr>\n",
       "  </tbody>\n",
       "</table>\n",
       "</div>"
      ],
      "text/plain": [
       "               close          date           high            low  \\\n",
       "count  305188.000000  3.051880e+05  305188.000000  305188.000000   \n",
       "mean     1820.834862  1.470151e+09    1825.243163    1816.145670   \n",
       "std      3189.899236  2.643010e+07    3200.774534    3178.356629   \n",
       "min        99.000000  1.424373e+09       0.330000      99.000000   \n",
       "25%       331.830579  1.447262e+09     331.900000     331.362024   \n",
       "50%       611.621380  1.470151e+09     612.000000     611.000000   \n",
       "75%      1348.624750  1.493040e+09    1349.999850    1347.150000   \n",
       "max     19896.687300  1.515929e+09   19903.440214   19860.120000   \n",
       "\n",
       "                open    quoteVolume        volume  weightedAverage  \n",
       "count  305188.000000  305188.000000  3.051880e+05    305188.000000  \n",
       "mean     1820.873686      12.301258  5.105731e+04      1820.702676  \n",
       "std      3190.121604      33.119972  1.700453e+05      3189.639099  \n",
       "min         0.330000       0.000000  0.000000e+00         0.000000  \n",
       "25%       331.500000       0.000000  0.000000e+00       331.469667  \n",
       "50%       611.612863       0.171882  1.004471e+02       611.597159  \n",
       "75%      1348.700000      10.359461  2.393522e+04      1348.623708  \n",
       "max     19896.687300    1244.437950  8.905612e+06     19888.009976  "
      ]
     },
     "execution_count": 47,
     "metadata": {},
     "output_type": "execute_result"
    }
   ],
   "source": [
    "btc300.describe()"
   ]
  },
  {
   "cell_type": "code",
   "execution_count": 94,
   "metadata": {},
   "outputs": [
    {
     "data": {
      "text/plain": [
       "close              float64\n",
       "date                 int64\n",
       "high               float64\n",
       "low                float64\n",
       "open               float64\n",
       "quoteVolume        float64\n",
       "volume             float64\n",
       "weightedAverage    float64\n",
       "dtype: object"
      ]
     },
     "execution_count": 94,
     "metadata": {},
     "output_type": "execute_result"
    }
   ],
   "source": [
    "btc300.dtypes"
   ]
  },
  {
   "cell_type": "code",
   "execution_count": 161,
   "metadata": {},
   "outputs": [
    {
     "data": {
      "text/plain": [
       "(305202, 8)"
      ]
     },
     "execution_count": 161,
     "metadata": {},
     "output_type": "execute_result"
    }
   ],
   "source": [
    "btc300.shape"
   ]
  },
  {
   "cell_type": "markdown",
   "metadata": {},
   "source": [
    "### Looking at daily prices and trends"
   ]
  },
  {
   "cell_type": "code",
   "execution_count": 165,
   "metadata": {},
   "outputs": [
    {
     "data": {
      "text/plain": [
       "Index(['close', 'high', 'low', 'open', 'quoteVolume', 'volume',\n",
       "       'weightedAverage', 'test', 'tBitCoin', 'tBTC', 'tBlockchain', 'delta',\n",
       "       'logReturn'],\n",
       "      dtype='object')"
      ]
     },
     "execution_count": 165,
     "metadata": {},
     "output_type": "execute_result"
    }
   ],
   "source": [
    "data.columns"
   ]
  },
  {
   "cell_type": "code",
   "execution_count": 166,
   "metadata": {},
   "outputs": [
    {
     "data": {
      "text/html": [
       "<div>\n",
       "<style>\n",
       "    .dataframe thead tr:only-child th {\n",
       "        text-align: right;\n",
       "    }\n",
       "\n",
       "    .dataframe thead th {\n",
       "        text-align: left;\n",
       "    }\n",
       "\n",
       "    .dataframe tbody tr th {\n",
       "        vertical-align: top;\n",
       "    }\n",
       "</style>\n",
       "<table border=\"1\" class=\"dataframe\">\n",
       "  <thead>\n",
       "    <tr style=\"text-align: right;\">\n",
       "      <th></th>\n",
       "      <th>close</th>\n",
       "      <th>high</th>\n",
       "      <th>low</th>\n",
       "      <th>open</th>\n",
       "      <th>quoteVolume</th>\n",
       "      <th>volume</th>\n",
       "      <th>weightedAverage</th>\n",
       "      <th>test</th>\n",
       "      <th>tBitCoin</th>\n",
       "      <th>tBTC</th>\n",
       "      <th>tBlockchain</th>\n",
       "      <th>delta</th>\n",
       "      <th>logReturn</th>\n",
       "    </tr>\n",
       "  </thead>\n",
       "  <tbody>\n",
       "    <tr>\n",
       "      <th>count</th>\n",
       "      <td>1047.000000</td>\n",
       "      <td>1047.000000</td>\n",
       "      <td>1047.000000</td>\n",
       "      <td>1047.000000</td>\n",
       "      <td>1047.000000</td>\n",
       "      <td>1.047000e+03</td>\n",
       "      <td>1047.000000</td>\n",
       "      <td>1.047000e+03</td>\n",
       "      <td>1047.000000</td>\n",
       "      <td>1047.000000</td>\n",
       "      <td>1047.000000</td>\n",
       "      <td>1047.000000</td>\n",
       "      <td>1046.000000</td>\n",
       "    </tr>\n",
       "    <tr>\n",
       "      <th>mean</th>\n",
       "      <td>1662.395229</td>\n",
       "      <td>1720.897800</td>\n",
       "      <td>1576.101395</td>\n",
       "      <td>1649.210880</td>\n",
       "      <td>3477.704985</td>\n",
       "      <td>1.358105e+07</td>\n",
       "      <td>1650.185388</td>\n",
       "      <td>1.469491e+09</td>\n",
       "      <td>8.194842</td>\n",
       "      <td>13.688634</td>\n",
       "      <td>15.851958</td>\n",
       "      <td>-13.184349</td>\n",
       "      <td>0.003856</td>\n",
       "    </tr>\n",
       "    <tr>\n",
       "      <th>std</th>\n",
       "      <td>2871.923136</td>\n",
       "      <td>3016.137701</td>\n",
       "      <td>2662.364116</td>\n",
       "      <td>2847.599226</td>\n",
       "      <td>6431.257006</td>\n",
       "      <td>3.354104e+07</td>\n",
       "      <td>2840.299678</td>\n",
       "      <td>2.612625e+07</td>\n",
       "      <td>15.112208</td>\n",
       "      <td>15.114809</td>\n",
       "      <td>17.286641</td>\n",
       "      <td>221.648845</td>\n",
       "      <td>0.040657</td>\n",
       "    </tr>\n",
       "    <tr>\n",
       "      <th>min</th>\n",
       "      <td>178.719313</td>\n",
       "      <td>0.330000</td>\n",
       "      <td>99.000000</td>\n",
       "      <td>0.330000</td>\n",
       "      <td>0.000000</td>\n",
       "      <td>0.000000e+00</td>\n",
       "      <td>207.450144</td>\n",
       "      <td>1.424304e+09</td>\n",
       "      <td>2.000000</td>\n",
       "      <td>5.000000</td>\n",
       "      <td>2.000000</td>\n",
       "      <td>-2982.602046</td>\n",
       "      <td>-0.383949</td>\n",
       "    </tr>\n",
       "    <tr>\n",
       "      <th>25%</th>\n",
       "      <td>328.150000</td>\n",
       "      <td>335.672000</td>\n",
       "      <td>319.050050</td>\n",
       "      <td>328.374950</td>\n",
       "      <td>10.932669</td>\n",
       "      <td>3.536921e+03</td>\n",
       "      <td>329.447180</td>\n",
       "      <td>1.446898e+09</td>\n",
       "      <td>2.000000</td>\n",
       "      <td>6.000000</td>\n",
       "      <td>5.000000</td>\n",
       "      <td>-13.100000</td>\n",
       "      <td>-0.009754</td>\n",
       "    </tr>\n",
       "    <tr>\n",
       "      <th>50%</th>\n",
       "      <td>609.000000</td>\n",
       "      <td>615.000000</td>\n",
       "      <td>600.341702</td>\n",
       "      <td>608.000000</td>\n",
       "      <td>306.961965</td>\n",
       "      <td>1.857608e+05</td>\n",
       "      <td>608.704290</td>\n",
       "      <td>1.469491e+09</td>\n",
       "      <td>3.000000</td>\n",
       "      <td>8.000000</td>\n",
       "      <td>10.000000</td>\n",
       "      <td>-1.715000</td>\n",
       "      <td>0.003197</td>\n",
       "    </tr>\n",
       "    <tr>\n",
       "      <th>75%</th>\n",
       "      <td>1260.660000</td>\n",
       "      <td>1281.000000</td>\n",
       "      <td>1235.750001</td>\n",
       "      <td>1256.780000</td>\n",
       "      <td>4908.702318</td>\n",
       "      <td>9.696730e+06</td>\n",
       "      <td>1255.828191</td>\n",
       "      <td>1.492085e+09</td>\n",
       "      <td>6.000000</td>\n",
       "      <td>15.000000</td>\n",
       "      <td>18.000000</td>\n",
       "      <td>4.797274</td>\n",
       "      <td>0.020129</td>\n",
       "    </tr>\n",
       "    <tr>\n",
       "      <th>max</th>\n",
       "      <td>19223.000000</td>\n",
       "      <td>19903.440214</td>\n",
       "      <td>18569.637853</td>\n",
       "      <td>19223.000000</td>\n",
       "      <td>48896.616808</td>\n",
       "      <td>3.960385e+08</td>\n",
       "      <td>19236.130652</td>\n",
       "      <td>1.514678e+09</td>\n",
       "      <td>100.000000</td>\n",
       "      <td>100.000000</td>\n",
       "      <td>100.000000</td>\n",
       "      <td>1953.604225</td>\n",
       "      <td>0.239134</td>\n",
       "    </tr>\n",
       "  </tbody>\n",
       "</table>\n",
       "</div>"
      ],
      "text/plain": [
       "              close          high           low          open   quoteVolume  \\\n",
       "count   1047.000000   1047.000000   1047.000000   1047.000000   1047.000000   \n",
       "mean    1662.395229   1720.897800   1576.101395   1649.210880   3477.704985   \n",
       "std     2871.923136   3016.137701   2662.364116   2847.599226   6431.257006   \n",
       "min      178.719313      0.330000     99.000000      0.330000      0.000000   \n",
       "25%      328.150000    335.672000    319.050050    328.374950     10.932669   \n",
       "50%      609.000000    615.000000    600.341702    608.000000    306.961965   \n",
       "75%     1260.660000   1281.000000   1235.750001   1256.780000   4908.702318   \n",
       "max    19223.000000  19903.440214  18569.637853  19223.000000  48896.616808   \n",
       "\n",
       "             volume  weightedAverage          test     tBitCoin         tBTC  \\\n",
       "count  1.047000e+03      1047.000000  1.047000e+03  1047.000000  1047.000000   \n",
       "mean   1.358105e+07      1650.185388  1.469491e+09     8.194842    13.688634   \n",
       "std    3.354104e+07      2840.299678  2.612625e+07    15.112208    15.114809   \n",
       "min    0.000000e+00       207.450144  1.424304e+09     2.000000     5.000000   \n",
       "25%    3.536921e+03       329.447180  1.446898e+09     2.000000     6.000000   \n",
       "50%    1.857608e+05       608.704290  1.469491e+09     3.000000     8.000000   \n",
       "75%    9.696730e+06      1255.828191  1.492085e+09     6.000000    15.000000   \n",
       "max    3.960385e+08     19236.130652  1.514678e+09   100.000000   100.000000   \n",
       "\n",
       "       tBlockchain        delta    logReturn  \n",
       "count  1047.000000  1047.000000  1046.000000  \n",
       "mean     15.851958   -13.184349     0.003856  \n",
       "std      17.286641   221.648845     0.040657  \n",
       "min       2.000000 -2982.602046    -0.383949  \n",
       "25%       5.000000   -13.100000    -0.009754  \n",
       "50%      10.000000    -1.715000     0.003197  \n",
       "75%      18.000000     4.797274     0.020129  \n",
       "max     100.000000  1953.604225     0.239134  "
      ]
     },
     "execution_count": 166,
     "metadata": {},
     "output_type": "execute_result"
    }
   ],
   "source": [
    "data.describe()"
   ]
  },
  {
   "cell_type": "code",
   "execution_count": 167,
   "metadata": {},
   "outputs": [
    {
     "data": {
      "text/plain": [
       "close              float64\n",
       "high               float64\n",
       "low                float64\n",
       "open               float64\n",
       "quoteVolume        float64\n",
       "volume             float64\n",
       "weightedAverage    float64\n",
       "test                 int64\n",
       "tBitCoin           float64\n",
       "tBTC               float64\n",
       "tBlockchain        float64\n",
       "delta              float64\n",
       "logReturn          float64\n",
       "dtype: object"
      ]
     },
     "execution_count": 167,
     "metadata": {},
     "output_type": "execute_result"
    }
   ],
   "source": [
    "data.dtypes"
   ]
  },
  {
   "cell_type": "code",
   "execution_count": 168,
   "metadata": {},
   "outputs": [
    {
     "data": {
      "text/plain": [
       "(1047, 13)"
      ]
     },
     "execution_count": 168,
     "metadata": {},
     "output_type": "execute_result"
    }
   ],
   "source": [
    "data.shape"
   ]
  },
  {
   "cell_type": "markdown",
   "metadata": {},
   "source": [
    "### Looking at the trends"
   ]
  },
  {
   "cell_type": "code",
   "execution_count": 50,
   "metadata": {},
   "outputs": [
    {
     "data": {
      "text/plain": [
       "Index(['date', 'Blockchain', 'BTC', 'BitCoin'], dtype='object')"
      ]
     },
     "execution_count": 50,
     "metadata": {},
     "output_type": "execute_result"
    }
   ],
   "source": [
    "trends.columns"
   ]
  },
  {
   "cell_type": "code",
   "execution_count": 51,
   "metadata": {},
   "outputs": [
    {
     "data": {
      "text/html": [
       "<div>\n",
       "<style>\n",
       "    .dataframe thead tr:only-child th {\n",
       "        text-align: right;\n",
       "    }\n",
       "\n",
       "    .dataframe thead th {\n",
       "        text-align: left;\n",
       "    }\n",
       "\n",
       "    .dataframe tbody tr th {\n",
       "        vertical-align: top;\n",
       "    }\n",
       "</style>\n",
       "<table border=\"1\" class=\"dataframe\">\n",
       "  <thead>\n",
       "    <tr style=\"text-align: right;\">\n",
       "      <th></th>\n",
       "      <th>Blockchain</th>\n",
       "      <th>BTC</th>\n",
       "      <th>BitCoin</th>\n",
       "    </tr>\n",
       "  </thead>\n",
       "  <tbody>\n",
       "    <tr>\n",
       "      <th>count</th>\n",
       "      <td>260.000000</td>\n",
       "      <td>260.000000</td>\n",
       "      <td>260.000000</td>\n",
       "    </tr>\n",
       "    <tr>\n",
       "      <th>mean</th>\n",
       "      <td>10.430769</td>\n",
       "      <td>10.346154</td>\n",
       "      <td>6.465385</td>\n",
       "    </tr>\n",
       "    <tr>\n",
       "      <th>std</th>\n",
       "      <td>16.120175</td>\n",
       "      <td>13.155566</td>\n",
       "      <td>12.464109</td>\n",
       "    </tr>\n",
       "    <tr>\n",
       "      <th>min</th>\n",
       "      <td>0.000000</td>\n",
       "      <td>2.000000</td>\n",
       "      <td>1.000000</td>\n",
       "    </tr>\n",
       "    <tr>\n",
       "      <th>25%</th>\n",
       "      <td>2.000000</td>\n",
       "      <td>5.000000</td>\n",
       "      <td>2.000000</td>\n",
       "    </tr>\n",
       "    <tr>\n",
       "      <th>50%</th>\n",
       "      <td>3.000000</td>\n",
       "      <td>6.000000</td>\n",
       "      <td>3.000000</td>\n",
       "    </tr>\n",
       "    <tr>\n",
       "      <th>75%</th>\n",
       "      <td>12.000000</td>\n",
       "      <td>10.000000</td>\n",
       "      <td>5.000000</td>\n",
       "    </tr>\n",
       "    <tr>\n",
       "      <th>max</th>\n",
       "      <td>100.000000</td>\n",
       "      <td>100.000000</td>\n",
       "      <td>100.000000</td>\n",
       "    </tr>\n",
       "  </tbody>\n",
       "</table>\n",
       "</div>"
      ],
      "text/plain": [
       "       Blockchain         BTC     BitCoin\n",
       "count  260.000000  260.000000  260.000000\n",
       "mean    10.430769   10.346154    6.465385\n",
       "std     16.120175   13.155566   12.464109\n",
       "min      0.000000    2.000000    1.000000\n",
       "25%      2.000000    5.000000    2.000000\n",
       "50%      3.000000    6.000000    3.000000\n",
       "75%     12.000000   10.000000    5.000000\n",
       "max    100.000000  100.000000  100.000000"
      ]
     },
     "execution_count": 51,
     "metadata": {},
     "output_type": "execute_result"
    }
   ],
   "source": [
    "trends.describe()"
   ]
  },
  {
   "cell_type": "code",
   "execution_count": 97,
   "metadata": {},
   "outputs": [
    {
     "data": {
      "text/plain": [
       "date          datetime64[ns]\n",
       "Blockchain             int64\n",
       "BTC                    int64\n",
       "BitCoin                int64\n",
       "dtype: object"
      ]
     },
     "execution_count": 97,
     "metadata": {},
     "output_type": "execute_result"
    }
   ],
   "source": [
    "trends.dtypes"
   ]
  },
  {
   "cell_type": "code",
   "execution_count": 99,
   "metadata": {},
   "outputs": [
    {
     "data": {
      "text/plain": [
       "(260, 4)"
      ]
     },
     "execution_count": 99,
     "metadata": {},
     "output_type": "execute_result"
    }
   ],
   "source": [
    "trends.shape"
   ]
  },
  {
   "cell_type": "code",
   "execution_count": 53,
   "metadata": {
    "scrolled": true
   },
   "outputs": [
    {
     "data": {
      "text/html": [
       "<div>\n",
       "<style>\n",
       "    .dataframe thead tr:only-child th {\n",
       "        text-align: right;\n",
       "    }\n",
       "\n",
       "    .dataframe thead th {\n",
       "        text-align: left;\n",
       "    }\n",
       "\n",
       "    .dataframe tbody tr th {\n",
       "        vertical-align: top;\n",
       "    }\n",
       "</style>\n",
       "<table border=\"1\" class=\"dataframe\">\n",
       "  <thead>\n",
       "    <tr style=\"text-align: right;\">\n",
       "      <th></th>\n",
       "      <th>date</th>\n",
       "      <th>Blockchain</th>\n",
       "      <th>BTC</th>\n",
       "      <th>BitCoin</th>\n",
       "    </tr>\n",
       "  </thead>\n",
       "  <tbody>\n",
       "    <tr>\n",
       "      <th>250</th>\n",
       "      <td>2017-11-05</td>\n",
       "      <td>51</td>\n",
       "      <td>35</td>\n",
       "      <td>29</td>\n",
       "    </tr>\n",
       "    <tr>\n",
       "      <th>251</th>\n",
       "      <td>2017-11-12</td>\n",
       "      <td>51</td>\n",
       "      <td>37</td>\n",
       "      <td>31</td>\n",
       "    </tr>\n",
       "    <tr>\n",
       "      <th>252</th>\n",
       "      <td>2017-11-19</td>\n",
       "      <td>52</td>\n",
       "      <td>34</td>\n",
       "      <td>28</td>\n",
       "    </tr>\n",
       "    <tr>\n",
       "      <th>253</th>\n",
       "      <td>2017-11-26</td>\n",
       "      <td>70</td>\n",
       "      <td>65</td>\n",
       "      <td>66</td>\n",
       "    </tr>\n",
       "    <tr>\n",
       "      <th>254</th>\n",
       "      <td>2017-12-03</td>\n",
       "      <td>87</td>\n",
       "      <td>87</td>\n",
       "      <td>93</td>\n",
       "    </tr>\n",
       "    <tr>\n",
       "      <th>255</th>\n",
       "      <td>2017-12-10</td>\n",
       "      <td>91</td>\n",
       "      <td>82</td>\n",
       "      <td>86</td>\n",
       "    </tr>\n",
       "    <tr>\n",
       "      <th>256</th>\n",
       "      <td>2017-12-17</td>\n",
       "      <td>100</td>\n",
       "      <td>100</td>\n",
       "      <td>100</td>\n",
       "    </tr>\n",
       "    <tr>\n",
       "      <th>257</th>\n",
       "      <td>2017-12-24</td>\n",
       "      <td>71</td>\n",
       "      <td>74</td>\n",
       "      <td>63</td>\n",
       "    </tr>\n",
       "    <tr>\n",
       "      <th>258</th>\n",
       "      <td>2017-12-31</td>\n",
       "      <td>75</td>\n",
       "      <td>70</td>\n",
       "      <td>48</td>\n",
       "    </tr>\n",
       "    <tr>\n",
       "      <th>259</th>\n",
       "      <td>2018-01-07</td>\n",
       "      <td>92</td>\n",
       "      <td>65</td>\n",
       "      <td>47</td>\n",
       "    </tr>\n",
       "  </tbody>\n",
       "</table>\n",
       "</div>"
      ],
      "text/plain": [
       "          date  Blockchain  BTC  BitCoin\n",
       "250 2017-11-05          51   35       29\n",
       "251 2017-11-12          51   37       31\n",
       "252 2017-11-19          52   34       28\n",
       "253 2017-11-26          70   65       66\n",
       "254 2017-12-03          87   87       93\n",
       "255 2017-12-10          91   82       86\n",
       "256 2017-12-17         100  100      100\n",
       "257 2017-12-24          71   74       63\n",
       "258 2017-12-31          75   70       48\n",
       "259 2018-01-07          92   65       47"
      ]
     },
     "execution_count": 53,
     "metadata": {},
     "output_type": "execute_result"
    }
   ],
   "source": [
    "trends[-10:]"
   ]
  },
  {
   "cell_type": "code",
   "execution_count": 170,
   "metadata": {},
   "outputs": [
    {
     "data": {
      "text/plain": [
       "(1047, 13)"
      ]
     },
     "execution_count": 170,
     "metadata": {},
     "output_type": "execute_result"
    }
   ],
   "source": [
    "data.shape"
   ]
  },
  {
   "cell_type": "code",
   "execution_count": 171,
   "metadata": {},
   "outputs": [
    {
     "data": {
      "text/plain": [
       "(1061, 11)"
      ]
     },
     "execution_count": 171,
     "metadata": {},
     "output_type": "execute_result"
    }
   ],
   "source": [
    "btc86400.shape"
   ]
  },
  {
   "cell_type": "code",
   "execution_count": 172,
   "metadata": {},
   "outputs": [
    {
     "data": {
      "text/plain": [
       "(260, 4)"
      ]
     },
     "execution_count": 172,
     "metadata": {},
     "output_type": "execute_result"
    }
   ],
   "source": [
    "trends.shape"
   ]
  },
  {
   "cell_type": "markdown",
   "metadata": {},
   "source": [
    "### Data visualisation and representation\n",
    "* As we are plotting several different data sets we chose to write a function to generate a plot of the whole range with a subplot of the most recent observations up to a certain factor. We plotted the last 30 days in the subplots."
   ]
  },
  {
   "cell_type": "code",
   "execution_count": 174,
   "metadata": {
    "collapsed": true
   },
   "outputs": [],
   "source": [
    "import matplotlib.pyplot as plt\n",
    "\n",
    "def multiPlot(data, x, y, factor):\n",
    "    fig = plt.figure()\n",
    "    \n",
    "    axes1 = fig.add_axes([0.05, 0.2, 1.2, 0.8]) # main axes\n",
    "    axes2 = fig.add_axes([0.2, 0.5, 0.6, 0.3]) # inset axes\n",
    "\n",
    "    # main figure\n",
    "    for i in range(len(y)):\n",
    "        axes1.plot(data[x], data[y[i]]/data[y[i]].max())\n",
    "\n",
    "    axes1.legend(loc=2)\n",
    "    axes1.set_xlabel(x)\n",
    "    axes1.set_ylabel('Max')\n",
    "\n",
    "    # insert\n",
    "    for i in range(len(y)):\n",
    "        axes2.plot(data[x][-30*factor:], data[y[i]][-30*factor:]/data[y[i]][-30*factor:].max())\n",
    "\n",
    "    axes2.set_xlabel(x)\n",
    "    axes2.set_ylabel('Max');\n",
    "    plt.show()"
   ]
  },
  {
   "cell_type": "markdown",
   "metadata": {},
   "source": [
    "## Poloniex data"
   ]
  },
  {
   "cell_type": "markdown",
   "metadata": {},
   "source": [
    "#### View data at 5 minute intervals"
   ]
  },
  {
   "cell_type": "code",
   "execution_count": 175,
   "metadata": {
    "scrolled": false
   },
   "outputs": [
    {
     "data": {
      "image/png": "[encoded data removed]",
      "text/plain": [
       "<matplotlib.figure.Figure at 0x11d6c3198>"
      ]
     },
     "metadata": {},
     "output_type": "display_data"
    }
   ],
   "source": [
    "multiPlot(btc300, 'date', ('volume','close'), 12*24)"
   ]
  },
  {
   "cell_type": "markdown",
   "metadata": {},
   "source": [
    "#### View data at daily intervals"
   ]
  },
  {
   "cell_type": "code",
   "execution_count": 178,
   "metadata": {},
   "outputs": [
    {
     "data": {
      "image/png": "[encoded data removed]",
      "text/plain": [
       "<matplotlib.figure.Figure at 0x11d820a90>"
      ]
     },
     "metadata": {},
     "output_type": "display_data"
    },
    {
     "data": {
      "image/png": "[encoded data removed]",
      "text/plain": [
       "<matplotlib.figure.Figure at 0x11d61d0f0>"
      ]
     },
     "metadata": {},
     "output_type": "display_data"
    }
   ],
   "source": [
    "# View Data daily\n",
    "multiPlot(btc86400, 'date', ('volume','close'), 1)"
   ]
  },
  {
   "cell_type": "markdown",
   "metadata": {},
   "source": [
    "#### Lets look at the last 30 days since new years as japanese candle sticks using a package"
   ]
  },
  {
   "cell_type": "code",
   "execution_count": 180,
   "metadata": {},
   "outputs": [
    {
     "data": {
      "image/png": "[encoded data removed]",
      "text/plain": [
       "<matplotlib.figure.Figure at 0x11d627c18>"
      ]
     },
     "execution_count": 180,
     "metadata": {},
     "output_type": "execute_result"
    }
   ],
   "source": [
    "from matplotlib.finance import candlestick2_ohlc\n",
    "fig, ax = plt.subplots()\n",
    "candlestick2_ohlc(ax,btc86400['open'][-30:],btc86400['high'][-30:],btc86400['low'][-30:],btc86400['close'][-30:],width=0.6)\n",
    "fig"
   ]
  },
  {
   "cell_type": "markdown",
   "metadata": {},
   "source": [
    "## Google Trends data"
   ]
  },
  {
   "cell_type": "code",
   "execution_count": 182,
   "metadata": {
    "scrolled": true
   },
   "outputs": [
    {
     "data": {
      "image/png": "[encoded data removed]",
      "text/plain": [
       "<matplotlib.figure.Figure at 0x11d942198>"
      ]
     },
     "metadata": {},
     "output_type": "display_data"
    }
   ],
   "source": [
    "multiPlot(trends, 'date', terms, 1)"
   ]
  },
  {
   "cell_type": "code",
   "execution_count": 183,
   "metadata": {},
   "outputs": [
    {
     "data": {
      "text/plain": [
       "('Blockchain', 'BTC', 'BitCoin')"
      ]
     },
     "execution_count": 183,
     "metadata": {},
     "output_type": "execute_result"
    }
   ],
   "source": [
    "terms"
   ]
  },
  {
   "cell_type": "markdown",
   "metadata": {},
   "source": [
    "### Data consistency checking\n",
    "* As said and solved above, we weekly trends needed to be matched to the daily price data we chose to follow.\n",
    "* The data set contains no missing values\n",
    "* As the trends are weekly, the most recent days will rarely have a trend as they are still being calculated for the current week. Therefore we chose to use the data from the start of poloniex exchange prices to the end of 2017."
   ]
  },
  {
   "cell_type": "markdown",
   "metadata": {},
   "source": [
    "### Estimation question\n",
    "* So here as we said before we want to see how we can predict the closing price of a day according to google trends.\n",
    "\n",
    "* Let's start with a simple fitting method:"
   ]
  },
  {
   "cell_type": "code",
   "execution_count": 112,
   "metadata": {
    "collapsed": true
   },
   "outputs": [],
   "source": [
    "import pandas as pd\n",
    "import matplotlib.pyplot as plt\n",
    "import numpy as np\n",
    "import scipy.optimize"
   ]
  },
  {
   "cell_type": "markdown",
   "metadata": {},
   "source": [
    "We import the data fresh, delete the unnecessary column and transform the date as a new index for our dataframe"
   ]
  },
  {
   "cell_type": "code",
   "execution_count": 301,
   "metadata": {
    "collapsed": true
   },
   "outputs": [],
   "source": [
    "file = os.path.realpath(os.path.join(os.getcwd(), os.path.dirname('data.csv')))\n",
    "file_name = 'data'\n",
    "# Mac\n",
    "data = pd.read_csv(file+'/'+file_name+'.csv')\n",
    "# Windows\n",
    "#data = pd.read_csv(file+'\\\\'+file_name+'.csv')\n",
    "\n",
    "del data['Unnamed: 0']\n",
    "data.set_index('date', inplace = True)"
   ]
  },
  {
   "cell_type": "markdown",
   "metadata": {},
   "source": [
    "### Let's take a look at the relationship between close price and all other variables"
   ]
  },
  {
   "cell_type": "code",
   "execution_count": 256,
   "metadata": {},
   "outputs": [
    {
     "data": {
      "image/png": "[encoded data removed]",
      "text/plain": [
       "<matplotlib.figure.Figure at 0x11ddf2550>"
      ]
     },
     "metadata": {},
     "output_type": "display_data"
    }
   ],
   "source": [
    "plt.scatter(data[\"open\"],data[\"close\"])\n",
    "plt.show()"
   ]
  },
  {
   "cell_type": "code",
   "execution_count": 257,
   "metadata": {},
   "outputs": [
    {
     "data": {
      "image/png": "[encoded data removed]",
      "text/plain": [
       "<matplotlib.figure.Figure at 0x11e1806a0>"
      ]
     },
     "metadata": {},
     "output_type": "display_data"
    }
   ],
   "source": [
    "plt.scatter(data[\"high\"],data[\"close\"])\n",
    "plt.show()"
   ]
  },
  {
   "cell_type": "code",
   "execution_count": 258,
   "metadata": {},
   "outputs": [
    {
     "data": {
      "image/png": "[encoded data removed]",
      "text/plain": [
       "<matplotlib.figure.Figure at 0x11db4bc50>"
      ]
     },
     "metadata": {},
     "output_type": "display_data"
    }
   ],
   "source": [
    "plt.scatter(data[\"low\"],data[\"close\"])\n",
    "plt.show()"
   ]
  },
  {
   "cell_type": "code",
   "execution_count": 259,
   "metadata": {},
   "outputs": [
    {
     "data": {
      "image/png": "[encoded data removed]",
      "text/plain": [
       "<matplotlib.figure.Figure at 0x11e7d6d68>"
      ]
     },
     "metadata": {},
     "output_type": "display_data"
    }
   ],
   "source": [
    "plt.scatter(data[\"weightedAverage\"],data[\"close\"])\n",
    "plt.show()"
   ]
  },
  {
   "cell_type": "markdown",
   "metadata": {},
   "source": [
    "### Remark:\n",
    "Up to here we have very correlated data. One might think that this is amazing and it will be very easy to predict closing price! But this correlation is actually normal: for example close price is defined as open price the day before. And most of these variables are directly calculated from each other. So that does not give much \"interesting\" information. A part maybe from the fact that price in general does not move a lot from one day to another (if compared to the whole price evolution)."
   ]
  },
  {
   "cell_type": "code",
   "execution_count": 260,
   "metadata": {},
   "outputs": [
    {
     "data": {
      "image/png": "[encoded data removed]",
      "text/plain": [
       "<matplotlib.figure.Figure at 0x11eefed68>"
      ]
     },
     "metadata": {},
     "output_type": "display_data"
    }
   ],
   "source": [
    "plt.scatter(data[\"quoteVolume\"],data[\"close\"])\n",
    "plt.show()"
   ]
  },
  {
   "cell_type": "code",
   "execution_count": 261,
   "metadata": {},
   "outputs": [
    {
     "data": {
      "image/png": "[encoded data removed]",
      "text/plain": [
       "<matplotlib.figure.Figure at 0x11d9f2630>"
      ]
     },
     "metadata": {},
     "output_type": "display_data"
    }
   ],
   "source": [
    "plt.scatter(data[\"volume\"],data[\"close\"])\n",
    "plt.show()"
   ]
  },
  {
   "cell_type": "code",
   "execution_count": 262,
   "metadata": {},
   "outputs": [
    {
     "data": {
      "image/png": "[encoded data removed]",
      "text/plain": [
       "<matplotlib.figure.Figure at 0x11efda320>"
      ]
     },
     "metadata": {},
     "output_type": "display_data"
    }
   ],
   "source": [
    "plt.scatter(data[\"tBTC\"],data[\"close\"])\n",
    "plt.show()"
   ]
  },
  {
   "cell_type": "code",
   "execution_count": 263,
   "metadata": {},
   "outputs": [
    {
     "data": {
      "image/png": "[encoded data removed]",
      "text/plain": [
       "<matplotlib.figure.Figure at 0x11d66a828>"
      ]
     },
     "metadata": {},
     "output_type": "display_data"
    }
   ],
   "source": [
    "plt.scatter(data[\"tBlockchain\"],data[\"close\"])\n",
    "plt.show()"
   ]
  },
  {
   "cell_type": "code",
   "execution_count": 264,
   "metadata": {},
   "outputs": [
    {
     "data": {
      "image/png": "[encoded data removed]",
      "text/plain": [
       "<matplotlib.figure.Figure at 0x11442d978>"
      ]
     },
     "metadata": {},
     "output_type": "display_data"
    }
   ],
   "source": [
    "plt.scatter(data[\"tBitCoin\"],data[\"close\"])\n",
    "plt.show()"
   ]
  },
  {
   "cell_type": "markdown",
   "metadata": {},
   "source": [
    "#### Here we see that the graph of close price vs tBlockchain seem to look like a polynomial function. Perhaps of degree 3?\n",
    "Let's try to make our data \"fit\" a polynomial function and see which function estimates our price with the least errors. For that we will define polynomial functions and find the parameters minimizing the least square errors thanks to scipy.optimize."
   ]
  },
  {
   "cell_type": "markdown",
   "metadata": {},
   "source": [
    "#### Let's first try with a degree 3 polynomial function.\n",
    "\n",
    "#### Let's define these functions:"
   ]
  },
  {
   "cell_type": "code",
   "execution_count": 265,
   "metadata": {
    "collapsed": true
   },
   "outputs": [],
   "source": [
    "def polynomial_model(param, x): ### Polynome of degree 3\n",
    "    return param[0] + param[1]*x + param[2]*x**2 + param[3]*x**3\n",
    "\n",
    "def polynomial_err(param, x, y):\n",
    "    return y - polynomial_model(param, x)"
   ]
  },
  {
   "cell_type": "markdown",
   "metadata": {},
   "source": [
    "#### Here we generate the minimization algorithm. Param1 is the set of coefficients of the polynomial function minimizing the least square error"
   ]
  },
  {
   "cell_type": "code",
   "execution_count": 266,
   "metadata": {
    "collapsed": true
   },
   "outputs": [],
   "source": [
    "x_data = data['tBlockchain']\n",
    "y_data = data['close']"
   ]
  },
  {
   "cell_type": "markdown",
   "metadata": {},
   "source": [
    "#### Initialisation of the iterations"
   ]
  },
  {
   "cell_type": "code",
   "execution_count": 267,
   "metadata": {
    "collapsed": true
   },
   "outputs": [],
   "source": [
    "param0 = [1, 1, 1, 1] \n",
    "\n",
    "param1, meta_res = scipy.optimize.leastsq(polynomial_err, param0[:], args = (x_data, y_data))"
   ]
  },
  {
   "cell_type": "markdown",
   "metadata": {},
   "source": [
    "#### Now let's plot our result"
   ]
  },
  {
   "cell_type": "code",
   "execution_count": 268,
   "metadata": {},
   "outputs": [
    {
     "data": {
      "image/png": "[encoded data removed]",
      "text/plain": [
       "<matplotlib.figure.Figure at 0x11d61d6d8>"
      ]
     },
     "metadata": {},
     "output_type": "display_data"
    },
    {
     "name": "stdout",
     "output_type": "stream",
     "text": [
      "Initial parameters : [1, 1, 1, 1]\n",
      "Estimated parameters : [  2.62381472e+02  -1.07468899e+01   4.30477307e+00  -2.57471800e-02]\n"
     ]
    }
   ],
   "source": [
    "y_model = polynomial_model(param1, x_data) \n",
    "plt.scatter(x_data,y_data,label='Data')\n",
    "plt.plot(x_data,y_model,label='Estimated', color = 'Red')\n",
    "plt.legend(loc='best', title='Series')\n",
    "plt.show()\n",
    "\n",
    "print(\"Initial parameters :\", param0)\n",
    "print(\"Estimated parameters :\", param1)"
   ]
  },
  {
   "cell_type": "markdown",
   "metadata": {},
   "source": [
    "#### We see that the estimation curve is \"thick\" due to unordered data. This issue can be solved with the following method:"
   ]
  },
  {
   "cell_type": "code",
   "execution_count": 269,
   "metadata": {
    "collapsed": true
   },
   "outputs": [],
   "source": [
    "data = data.sort_values('tBlockchain', ascending=True)"
   ]
  },
  {
   "cell_type": "markdown",
   "metadata": {},
   "source": [
    "#### Relaunch the code with ordered data"
   ]
  },
  {
   "cell_type": "code",
   "execution_count": 270,
   "metadata": {},
   "outputs": [
    {
     "data": {
      "image/png": "[encoded data removed]",
      "text/plain": [
       "<matplotlib.figure.Figure at 0x11daf4198>"
      ]
     },
     "metadata": {},
     "output_type": "display_data"
    },
    {
     "name": "stdout",
     "output_type": "stream",
     "text": [
      "Initial parameters : [1, 1, 1, 1]\n",
      "Estimated parameters : [  2.62381472e+02  -1.07468899e+01   4.30477307e+00  -2.57471800e-02]\n"
     ]
    }
   ],
   "source": [
    "x_data = data['tBlockchain'] \n",
    "y_data = data['close']   \n",
    "\n",
    "param0 = [1, 1, 1, 1] ## Initialisation of the iterations\n",
    "\n",
    "param1, meta_res = scipy.optimize.leastsq(polynomial_err, param0[:], args = (x_data, y_data))\n",
    "#%%\n",
    "y_model = polynomial_model(param1, x_data) \n",
    "plt.scatter(x_data,y_data,label='Data')\n",
    "plt.plot(x_data,y_model,label='Estimated', color = 'Red')\n",
    "plt.legend(loc='best', title='Series')\n",
    "plt.show()\n",
    "\n",
    "print(\"Initial parameters :\", param0)\n",
    "print(\"Estimated parameters :\", param1)"
   ]
  },
  {
   "cell_type": "markdown",
   "metadata": {},
   "source": [
    "#### Now: how to make sure that this polynome is the one that is the best predictor? What about degree 2? What about degree 4?\n",
    "* Let's compare how good are different polynomes at predicting the closing price. For that we cannot measure the performance of each polynome by seeing how well they fit the training data: obviously, the higher the degree, the best \"fit\" (-> overfitting)\n",
    "\n",
    "* So, in order to measure the performances of each polynome we will split the data into training and testing sets, and see how well each polynome fits the testing set (the part of the data not used to build the model).\n",
    "\n",
    "#### To do so, we need to shuffle the data and separate the set in 70%/30% for example.¶"
   ]
  },
  {
   "cell_type": "markdown",
   "metadata": {},
   "source": [
    "### Cross Validation¶"
   ]
  },
  {
   "cell_type": "markdown",
   "metadata": {},
   "source": [
    "Let us define an additional function"
   ]
  },
  {
   "cell_type": "code",
   "execution_count": 271,
   "metadata": {
    "collapsed": true
   },
   "outputs": [],
   "source": [
    "# 70% training and 30% testing\n",
    "def shuff(data, ratio = 0.3):    \n",
    "    data.reset_index(inplace = True)\n",
    "    \n",
    "    N = len(data)\n",
    "\n",
    "    randomized_indices = np.arange(N)\n",
    "    np.random.shuffle(randomized_indices)\n",
    " \n",
    "    #dataset after index randomization\n",
    "    shuffled_data = data.iloc[randomized_indices,:] \n",
    "\n",
    "    ### Split the dataset into two subsets ###\n",
    "\n",
    "    ## Build training set ##\n",
    "    training_data = shuffled_data[:int((1-ratio)*N)]\n",
    "\n",
    "    ## Build testing set ##\n",
    "    testing_data = shuffled_data[int((1-ratio)*N):]\n",
    "    \n",
    "    data.set_index('date', inplace = True)\n",
    "    \n",
    "    return training_data, testing_data"
   ]
  },
  {
   "cell_type": "markdown",
   "metadata": {},
   "source": [
    "#### Lets use the function to split the data into a training and testing set"
   ]
  },
  {
   "cell_type": "code",
   "execution_count": 272,
   "metadata": {
    "collapsed": true
   },
   "outputs": [],
   "source": [
    "training_data, testing_data = shuff(data)\n",
    "\n",
    "training_data = training_data.sort_values('tBlockchain', ascending=True)    \n",
    "testing_data = testing_data.sort_values('tBlockchain', ascending=True)  \n",
    "\n",
    "x_data = training_data['tBlockchain'] \n",
    "y_data = training_data['close']   \n",
    "\n",
    "x_test = testing_data['tBlockchain'] \n",
    "y_test = testing_data['close']"
   ]
  },
  {
   "cell_type": "markdown",
   "metadata": {},
   "source": [
    "#### Let's now define the functions we will use to create different polynomes, optimize them, and measure their performances:"
   ]
  },
  {
   "cell_type": "markdown",
   "metadata": {},
   "source": [
    "* This function creates a polynome of degree n"
   ]
  },
  {
   "cell_type": "code",
   "execution_count": 273,
   "metadata": {
    "collapsed": true
   },
   "outputs": [],
   "source": [
    "def polynomialModelN(n, param, x): \n",
    "    temp = 0\n",
    "    for i in range(n):\n",
    "        temp = temp + param[i]*x**(i)\n",
    "    return temp"
   ]
  },
  {
   "cell_type": "markdown",
   "metadata": {},
   "source": [
    "* This function is defining the error between observed values and fitted values"
   ]
  },
  {
   "cell_type": "code",
   "execution_count": 274,
   "metadata": {
    "collapsed": true
   },
   "outputs": [],
   "source": [
    "def polynomialError(param, x, y): \n",
    "    return y - polynomialModelN(len(param), param, x)"
   ]
  },
  {
   "cell_type": "markdown",
   "metadata": {},
   "source": [
    "* This function gives the mean square error"
   ]
  },
  {
   "cell_type": "code",
   "execution_count": 275,
   "metadata": {
    "collapsed": true
   },
   "outputs": [],
   "source": [
    "def meanSquareError(true, predicted): \n",
    "    delta = true - predicted\n",
    "    return sum(delta**2)/len(delta)"
   ]
  },
  {
   "cell_type": "markdown",
   "metadata": {},
   "source": [
    "* Here we create the function that plots and compares N polynomes in increasing degree order:\n"
   ]
  },
  {
   "cell_type": "code",
   "execution_count": 276,
   "metadata": {
    "collapsed": true
   },
   "outputs": [],
   "source": [
    "def magic(n, x_data = x_data, x_test = x_test, y_data = y_data, y_test = y_test):\n",
    "    n = n+1\n",
    "    param0 = np.ones(n)\n",
    "    param1, meta_res = scipy.optimize.leastsq(polynomialError, param0[:], args = (x_data, y_data))\n",
    "    \n",
    "    plt.scatter(x_data,y_data,label='Training Data', color = '#EBA911')\n",
    "    plt.scatter(x_test,y_test,label='Testing Data', color = '#0CC88F' )\n",
    "    \n",
    "    smooth_x = np.linspace(0,max(x_data),1000)   #### This is to make sure that our curve is \"smooth\"\n",
    "    \n",
    "    plt.plot(smooth_x,polynomialModelN(n, param1, smooth_x),label='Estimated', color = 'Red')\n",
    "    plt.legend(loc='best', title='Series')\n",
    "    plt.show()\n",
    "    \n",
    "    mseTrain = meanSquareError(y_data, polynomialModelN(n, param1, x_data))\n",
    "    mseTest = meanSquareError(y_test, polynomialModelN(n, param1, x_test))\n",
    "    \n",
    "    return int(mseTrain), int(mseTest)"
   ]
  },
  {
   "cell_type": "markdown",
   "metadata": {},
   "source": [
    "* Computing the training and testing error to compare them in a table and graphically"
   ]
  },
  {
   "cell_type": "code",
   "execution_count": 277,
   "metadata": {
    "collapsed": true
   },
   "outputs": [],
   "source": [
    "def trainTestError(n):\n",
    "    error = []\n",
    "    for i in range(n):\n",
    "        error.append(magic(i+1))\n",
    "    \n",
    "    plt.plot(error)\n",
    "    plt.xticks(list(range(0,n)),list(range(1,n+1)))\n",
    "    plt.show()\n",
    "    \n",
    "    return error"
   ]
  },
  {
   "cell_type": "code",
   "execution_count": 278,
   "metadata": {},
   "outputs": [
    {
     "data": {
      "image/png": "[encoded data removed]",
      "text/plain": [
       "<matplotlib.figure.Figure at 0x11d8eccc0>"
      ]
     },
     "metadata": {},
     "output_type": "display_data"
    },
    {
     "data": {
      "image/png": "[encoded data removed]",
      "text/plain": [
       "<matplotlib.figure.Figure at 0x11e84dac8>"
      ]
     },
     "metadata": {},
     "output_type": "display_data"
    },
    {
     "data": {
      "image/png": "[encoded data removed]",
      "text/plain": [
       "<matplotlib.figure.Figure at 0x11dc8a518>"
      ]
     },
     "metadata": {},
     "output_type": "display_data"
    },
    {
     "data": {
      "image/png": "[encoded data removed]",
      "text/plain": [
       "<matplotlib.figure.Figure at 0x11db265f8>"
      ]
     },
     "metadata": {},
     "output_type": "display_data"
    },
    {
     "data": {
      "image/png": "[encoded data removed]",
      "text/plain": [
       "<matplotlib.figure.Figure at 0x11d6720f0>"
      ]
     },
     "metadata": {},
     "output_type": "display_data"
    },
    {
     "data": {
      "image/png": "[encoded data removed]",
      "text/plain": [
       "<matplotlib.figure.Figure at 0x11ddf2f28>"
      ]
     },
     "metadata": {},
     "output_type": "display_data"
    },
    {
     "data": {
      "image/png": "[encoded data removed]",
      "text/plain": [
       "<matplotlib.figure.Figure at 0x11dbfd940>"
      ]
     },
     "metadata": {},
     "output_type": "display_data"
    },
    {
     "data": {
      "image/png": "[encoded data removed]",
      "text/plain": [
       "<matplotlib.figure.Figure at 0x11e858470>"
      ]
     },
     "metadata": {},
     "output_type": "display_data"
    },
    {
     "data": {
      "image/png": "[encoded data removed]",
      "text/plain": [
       "<matplotlib.figure.Figure at 0x11d7fa470>"
      ]
     },
     "metadata": {},
     "output_type": "display_data"
    },
    {
     "data": {
      "image/png": "[encoded data removed]",
      "text/plain": [
       "<matplotlib.figure.Figure at 0x12d7a2908>"
      ]
     },
     "metadata": {},
     "output_type": "display_data"
    },
    {
     "data": {
      "image/png": "[encoded data removed]",
      "text/plain": [
       "<matplotlib.figure.Figure at 0x11d6b0ba8>"
      ]
     },
     "metadata": {},
     "output_type": "display_data"
    },
    {
     "data": {
      "text/plain": [
       "[(528753, 741860),\n",
       " (278645, 413970),\n",
       " (191940, 284757),\n",
       " (191085, 292499),\n",
       " (188096, 316631),\n",
       " (179213, 370373),\n",
       " (171318, 405309),\n",
       " (165761, 376803),\n",
       " (145922, 338225),\n",
       " (145796, 341999)]"
      ]
     },
     "execution_count": 278,
     "metadata": {},
     "output_type": "execute_result"
    }
   ],
   "source": [
    "trainTestError(10)"
   ]
  },
  {
   "cell_type": "markdown",
   "metadata": {},
   "source": [
    "#### What do we see here?\n",
    "Most of the time, the polynome showing the lower error on the testing data set is of degree 3 (see orange curve). However this seem to depend quite a lot on the shuffle operation before splitting the set. An interesting idea would thus be to run a several simulations and take the average degree of the polynome best fitting the testing data.\n",
    "\n",
    "We did not do it here unfortunately because we wanted to try different prediction methods instead, but this would be an interesting thing to develop.\n",
    "\n",
    "#### Another important remark:\n",
    "Here we see that google research trends \"jump\" from a value to another, without being very \"continuous\". This is due to the fact that unfortunately we only have weekly data for Google Trends...\n",
    "\n",
    "By having daily data we might have much more precise results. Indeed if we looks at the 2nd and 3rd week of December 2017, Bitcoin prices have increased and decreased a lot within the same week. Which ends up in high variability for closing price for a same \"trend score\". Making our model less predictable."
   ]
  },
  {
   "cell_type": "markdown",
   "metadata": {},
   "source": [
    "### Lets take a look at `'delta'`"
   ]
  },
  {
   "cell_type": "code",
   "execution_count": 306,
   "metadata": {},
   "outputs": [
    {
     "data": {
      "image/png": "[encoded data removed]",
      "text/plain": [
       "<matplotlib.figure.Figure at 0x10d3c49e8>"
      ]
     },
     "metadata": {},
     "output_type": "display_data"
    }
   ],
   "source": [
    "plt.scatter(data['tBlockchain'],data['delta'])\n",
    "plt.show()"
   ]
  },
  {
   "cell_type": "code",
   "execution_count": 308,
   "metadata": {
    "scrolled": true
   },
   "outputs": [
    {
     "data": {
      "image/png": "[encoded data removed]",
      "text/plain": [
       "<matplotlib.figure.Figure at 0x11dce9e10>"
      ]
     },
     "metadata": {},
     "output_type": "display_data"
    }
   ],
   "source": [
    "plt.scatter(data['tBlockchain'],data['logReturn'])\n",
    "plt.show()"
   ]
  },
  {
   "cell_type": "markdown",
   "metadata": {},
   "source": [
    "### The `'logReturn'` plot seems to imply that the percentage price change from one day to the next has similar variance independent of the current `'Blockchain'` google trend."
   ]
  },
  {
   "cell_type": "markdown",
   "metadata": {},
   "source": [
    "### As many other optional questions as you want\n",
    "Until now, we have seen one simple prediction method where we try to predict one variable `'closing'` Price according to only one other variable `'tBlockchain'`.\n",
    "\n",
    "Now let us see if we can predict closing price better by using other models taking into account a greater number of variables.\n",
    "\n",
    "* How much variation does each model explain?\n",
    "\n",
    "Next, how accurately can we predict whether the price goes up or down (binary) and by how much (continuous)? Using the `'delta'` variable\n",
    "* Can we predict the log daily returns?\n",
    "\n",
    "This will use the `'logReturn'` variable"
   ]
  },
  {
   "cell_type": "markdown",
   "metadata": {},
   "source": [
    "#### The next step is to do multiple regressions and to compare them"
   ]
  },
  {
   "cell_type": "markdown",
   "metadata": {},
   "source": [
    "First let us define functions with the additional use of the sklearn package"
   ]
  },
  {
   "cell_type": "code",
   "execution_count": 279,
   "metadata": {
    "collapsed": true
   },
   "outputs": [],
   "source": [
    "from sklearn import linear_model\n",
    "from sklearn.model_selection import train_test_split\n",
    "import matplotlib.pyplot as plt\n",
    "from sklearn.metrics import confusion_matrix\n",
    "\n",
    "def linReg(X, y, test_ratio = 0.2):\n",
    "    X_train, X_test, y_train, y_test = train_test_split(X, y, test_size = test_ratio)\n",
    "    \n",
    "    lm = linear_model.LinearRegression()\n",
    "\n",
    "    model = lm.fit(X_train, y_train)\n",
    "    predictions = lm.predict(X_test)\n",
    "    \n",
    "    plt.scatter(y_test, predictions, color = '#EBA911')\n",
    "    plt.show()\n",
    "    \n",
    "    print(\"R-Square: \", model.score(X_test, y_test))\n",
    "    print(\"Mean Square Error: \", meanSquareError(y_test, predictions))\n",
    "    \n",
    "    return model"
   ]
  },
  {
   "cell_type": "markdown",
   "metadata": {},
   "source": [
    "#### Predict close price only using google trends"
   ]
  },
  {
   "cell_type": "code",
   "execution_count": 280,
   "metadata": {},
   "outputs": [
    {
     "data": {
      "image/png": "[encoded data removed]",
      "text/plain": [
       "<matplotlib.figure.Figure at 0x11d942748>"
      ]
     },
     "metadata": {},
     "output_type": "display_data"
    },
    {
     "name": "stdout",
     "output_type": "stream",
     "text": [
      "R-Square:  0.959921752839\n",
      "Mean Square Error:  365391.084914\n"
     ]
    }
   ],
   "source": [
    "y = data['close']\n",
    "X = data[['tBitCoin', 'tBTC','tBlockchain']]\n",
    "\n",
    "test = linReg(X, y)"
   ]
  },
  {
   "cell_type": "markdown",
   "metadata": {},
   "source": [
    "#### Predict close price using all available information that was not self generated through a function of close price"
   ]
  },
  {
   "cell_type": "code",
   "execution_count": 281,
   "metadata": {
    "scrolled": false
   },
   "outputs": [
    {
     "data": {
      "image/png": "[encoded data removed]",
      "text/plain": [
       "<matplotlib.figure.Figure at 0x11d9fa748>"
      ]
     },
     "metadata": {},
     "output_type": "display_data"
    },
    {
     "name": "stdout",
     "output_type": "stream",
     "text": [
      "R-Square:  0.998790743184\n",
      "Mean Square Error:  10871.0298867\n"
     ]
    }
   ],
   "source": [
    "y = data['close']\n",
    "X = data[data.columns.difference(['delta', 'close', 'logReturn'])]\n",
    "\n",
    "test = linReg(X, y)"
   ]
  },
  {
   "cell_type": "markdown",
   "metadata": {},
   "source": [
    "#### Predict close price: Additionally excluding open"
   ]
  },
  {
   "cell_type": "code",
   "execution_count": 282,
   "metadata": {},
   "outputs": [
    {
     "data": {
      "image/png": "[encoded data removed]",
      "text/plain": [
       "<matplotlib.figure.Figure at 0x11d8f2588>"
      ]
     },
     "metadata": {},
     "output_type": "display_data"
    },
    {
     "name": "stdout",
     "output_type": "stream",
     "text": [
      "R-Square:  0.998073818109\n",
      "Mean Square Error:  20954.2241852\n"
     ]
    }
   ],
   "source": [
    "y = data['close']\n",
    "X = data[data.columns.difference(['delta', 'close', 'open', 'logReturn'])]\n",
    "\n",
    "test = linReg(X, y)"
   ]
  },
  {
   "cell_type": "markdown",
   "metadata": {},
   "source": [
    "#### Predict close price: Additionally excluding weightedAverage"
   ]
  },
  {
   "cell_type": "code",
   "execution_count": 283,
   "metadata": {},
   "outputs": [
    {
     "data": {
      "image/png": "[encoded data removed]",
      "text/plain": [
       "<matplotlib.figure.Figure at 0x11efdf978>"
      ]
     },
     "metadata": {},
     "output_type": "display_data"
    },
    {
     "name": "stdout",
     "output_type": "stream",
     "text": [
      "R-Square:  0.999083022831\n",
      "Mean Square Error:  7227.25930146\n"
     ]
    }
   ],
   "source": [
    "y = data['close']\n",
    "X = data[data.columns.difference(['delta', 'close', 'open', 'weightedAverage', 'logReturn'])]\n",
    "\n",
    "test = linReg(X, y)"
   ]
  },
  {
   "cell_type": "markdown",
   "metadata": {},
   "source": [
    "#### Predict close price: Additionally excluding high, low and volume"
   ]
  },
  {
   "cell_type": "code",
   "execution_count": 284,
   "metadata": {},
   "outputs": [
    {
     "data": {
      "image/png": "[encoded data removed]",
      "text/plain": [
       "<matplotlib.figure.Figure at 0x11e7d6898>"
      ]
     },
     "metadata": {},
     "output_type": "display_data"
    },
    {
     "name": "stdout",
     "output_type": "stream",
     "text": [
      "R-Square:  0.964026128891\n",
      "Mean Square Error:  249588.15836\n"
     ]
    }
   ],
   "source": [
    "y = data['close']\n",
    "X = data[data.columns.difference(['delta', 'close', 'open', 'weightedAverage', 'high', 'low', 'volume', 'logReturn'])]\n",
    "\n",
    "test = linReg(X, y)"
   ]
  },
  {
   "cell_type": "markdown",
   "metadata": {},
   "source": [
    "## Lets try to predict the delta instead"
   ]
  },
  {
   "cell_type": "code",
   "execution_count": 309,
   "metadata": {
    "scrolled": true
   },
   "outputs": [
    {
     "data": {
      "image/png": "[encoded data removed]",
      "text/plain": [
       "<matplotlib.figure.Figure at 0x10eab8898>"
      ]
     },
     "metadata": {},
     "output_type": "display_data"
    },
    {
     "name": "stdout",
     "output_type": "stream",
     "text": [
      "R-Square:  0.588933367048\n",
      "Mean Square Error:  14441.3406746\n"
     ]
    }
   ],
   "source": [
    "y = data['delta']\n",
    "X = data[data.columns.difference(['delta', 'close', 'open', 'logReturn'])]\n",
    "\n",
    "test = linReg(X, y)"
   ]
  },
  {
   "cell_type": "markdown",
   "metadata": {},
   "source": [
    "Predicting the change in price seems to be difficult at the true vs predicted plot appears closer to a random cloud than a diagona line perfectly matching true and predicted values."
   ]
  },
  {
   "cell_type": "markdown",
   "metadata": {},
   "source": [
    "#### Logistic Regression: Predict price increase or decrease"
   ]
  },
  {
   "cell_type": "code",
   "execution_count": 323,
   "metadata": {
    "collapsed": true
   },
   "outputs": [],
   "source": [
    "def logReg(X, y, test_ratio = 0.2):\n",
    "    X_train, X_test, y_train, y_test = train_test_split(X, y, test_size = 0.2)\n",
    "    \n",
    "    logm = linear_model.LogisticRegression()\n",
    "    \n",
    "    model = logm.fit(X_train, y_train)\n",
    "    predictions = logm.predict(X_test)\n",
    "    \n",
    "    print(\"Confusion Matrix:\") \n",
    "    print(confusion_matrix(y_test, predictions))\n",
    "    print(\"Model Score: \", model.score(X_test, y_test))\n",
    "    \n",
    "    return model"
   ]
  },
  {
   "cell_type": "code",
   "execution_count": 324,
   "metadata": {},
   "outputs": [
    {
     "name": "stdout",
     "output_type": "stream",
     "text": [
      "Confusion Matrix:\n",
      "[[112   6]\n",
      " [ 82  10]]\n",
      "Model Score:  0.580952380952\n"
     ]
    }
   ],
   "source": [
    "y = np.sign(data['delta'])\n",
    "y = [1 if y>=0 else 0 for y in y]\n",
    "X = data[data.columns.difference(['delta', 'close', 'open', 'logReturn'])]\n",
    "\n",
    "test = logReg(X, y)"
   ]
  },
  {
   "cell_type": "markdown",
   "metadata": {},
   "source": [
    "#### Lets try the logarithmic returns instead"
   ]
  },
  {
   "cell_type": "code",
   "execution_count": 310,
   "metadata": {},
   "outputs": [
    {
     "data": {
      "image/png": "[encoded data removed]",
      "text/plain": [
       "<matplotlib.figure.Figure at 0x11d8ddf60>"
      ]
     },
     "metadata": {},
     "output_type": "display_data"
    },
    {
     "name": "stdout",
     "output_type": "stream",
     "text": [
      "R-Square:  0.0189011798358\n",
      "Mean Square Error:  0.00133022714203\n"
     ]
    }
   ],
   "source": [
    "y = data['logReturn'][1:]\n",
    "X = data[data.columns.difference(['delta', 'close', 'open', 'logReturn'])][1:]\n",
    "\n",
    "test = linReg(X, y)"
   ]
  },
  {
   "cell_type": "code",
   "execution_count": 313,
   "metadata": {},
   "outputs": [],
   "source": []
  },
  {
   "cell_type": "code",
   "execution_count": 321,
   "metadata": {
    "collapsed": true
   },
   "outputs": [],
   "source": [
    "def logReg(X, y, test_ratio = 0.2):\n",
    "    X_train, X_test, y_train, y_test = train_test_split(X, y, test_size = 0.2)\n",
    "    \n",
    "    logm = linear_model.LogisticRegression()\n",
    "    \n",
    "    model = logm.fit(X_train, y_train)\n",
    "    predictions = logm.predict(X_test)\n",
    "    \n",
    "    print(\"Confusion Matrix:\") \n",
    "    print(confusion_matrix(y_test, predictions))\n",
    "    print(\"Model Score: \", model.score(X_test, y_test))\n",
    "    \n",
    "    return model"
   ]
  },
  {
   "cell_type": "code",
   "execution_count": null,
   "metadata": {
    "collapsed": true
   },
   "outputs": [],
   "source": []
  },
  {
   "cell_type": "code",
   "execution_count": null,
   "metadata": {
    "collapsed": true
   },
   "outputs": [],
   "source": []
  },
  {
   "cell_type": "code",
   "execution_count": null,
   "metadata": {
    "collapsed": true
   },
   "outputs": [],
   "source": []
  }
 ],
 "metadata": {
  "kernelspec": {
   "display_name": "Python 3",
   "language": "python",
   "name": "python3"
  },
  "language_info": {
   "codemirror_mode": {
    "name": "ipython",
    "version": 3
   },
   "file_extension": ".py",
   "mimetype": "text/x-python",
   "name": "python",
   "nbconvert_exporter": "python",
   "pygments_lexer": "ipython3",
   "version": "3.6.2"
  }
 },
 "nbformat": 4,
 "nbformat_minor": 2
}
