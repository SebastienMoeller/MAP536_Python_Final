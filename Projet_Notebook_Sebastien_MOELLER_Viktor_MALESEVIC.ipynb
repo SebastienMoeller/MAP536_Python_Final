{
 "cells": [
  {
   "cell_type": "markdown",
   "metadata": {},
   "source": [
    "# Project notebook **<span style=\"COLOR:RED\">(complete this cell)</span>**\n",
    "\n",
    "\n",
    "### Student 1 (first half presentation)\n",
    "Name : Sebastien Moeller\n",
    "<br>Group : advanced\n",
    "### Student 2 (second half presentation)\n",
    "Name : Viktor Malesevic\n",
    "<br>Group : advanced\n",
    "### Data name : \n",
    "### Data URL : \n",
    "### Short summary of the project and datasource :\n",
    "<span style=\"COLOR:RED\">Linking social media trends to the prices of cryptocurrencies.</span>"
   ]
  },
  {
   "cell_type": "markdown",
   "metadata": {},
   "source": [
    "# General instructions (this cell might be deleted for submission)\n",
    "** <span style=\"color:red\"> Write all the project in this file : code and explanations and upload it before January 7th at 23:55 </span> ** : \n",
    "\n",
    "<span style=\"color:red\">Remember : Code cells must be smaller than 30 lines </span>\n",
    "\n",
    "Every thing must be in the notebook :\n",
    "\n",
    "* Explanation of what you want to do with data should be present in the Notebook\n",
    "* Download data in the notebook (check the URL availability) and give the source of data (both URL and textual description)\n",
    "* Give as much as possible characteristics of data (size, type, fields, ...)\n",
    "* Provide visualisation of the data that you think useful\n",
    "* Check for the consistence of the dataset (error, missing data,...) and correct and/or delete errors\n",
    "* **Ask yourself a question that request you to perform an estimation** (for example, you can choose a data depending on time, and try to predict the latest 10% of data knowing the rest of data). **This will typically be solved through the proposal of a model and fitting the parameters of the model to (part of) the data.**\n",
    "\n",
    "If you end up writing long chunks of code, make sure you split it in logical «smaller code cells» and explain the logic. The Juptyer Notebook will be **both the memoire** you will submit for evaluation **and the visual support** for your oral presentation of your project, keep this in mind while writing it."
   ]
  },
  {
   "cell_type": "markdown",
   "metadata": {},
   "source": [
    "### Aims : \n",
    "** <span style=\"color:red\"> Here explain what you what to do with data</span> ** \n",
    "* \n",
    "* \n",
    "* "
   ]
  },
  {
   "cell_type": "markdown",
   "metadata": {},
   "source": [
    "### Download : \n",
    "** <span style=\"color:red\">Write explanations here</span> ** \n",
    "* \n",
    "* \n",
    "* "
   ]
  },
  {
   "cell_type": "markdown",
   "metadata": {},
   "source": [
    "Importing Cryptocurrency"
   ]
  },
  {
   "cell_type": "code",
   "execution_count": 32,
   "metadata": {},
   "outputs": [],
   "source": [
    "### write code here (use as many cells as needed)\n",
    "import poloniex\n",
    "\n",
    "#polo = poloniex.Poloniex('RQ1T8JBF-JMSLDPHZ-NGRA8FQW-ARPRBJGS',\n",
    "#                        '52c8bbdb10689357dd42d9f8acaddbdfdb4e82a5632ccaefb191280298c43e1b16c9958835a558a45d454ea854834a602d7e7105697e84a801994f9332829366')\n",
    "polo = poloniex.Poloniex()"
   ]
  },
  {
   "cell_type": "code",
   "execution_count": 31,
   "metadata": {},
   "outputs": [],
   "source": [
    "# print(polo.return24hVolume())"
   ]
  },
  {
   "cell_type": "code",
   "execution_count": 34,
   "metadata": {},
   "outputs": [],
   "source": [
    "doge = polo.returnChartData(\"BTC_DOGE\", 86400)"
   ]
  },
  {
   "cell_type": "code",
   "execution_count": 35,
   "metadata": {},
   "outputs": [
    {
     "name": "stdout",
     "output_type": "stream",
     "text": [
      "Help on module poloniex.poloniex in poloniex:\n",
      "\n",
      "NAME\n",
      "    poloniex.poloniex\n",
      "\n",
      "CLASSES\n",
      "    builtins.object\n",
      "        PoloniexPublic\n",
      "            Poloniex\n",
      "    \n",
      "    class Poloniex(PoloniexPublic)\n",
      "     |  Client to connect to Poloniex private APIs.\n",
      "     |  \n",
      "     |  Method resolution order:\n",
      "     |      Poloniex\n",
      "     |      PoloniexPublic\n",
      "     |      builtins.object\n",
      "     |  \n",
      "     |  Methods defined here:\n",
      "     |  \n",
      "     |  __init__(self, apikey=None, secret=None, public_url='https://poloniex.com/public', private_url='https://poloniex.com/tradingApi', limit=6, session_class=<class 'requests.sessions.Session'>, session=None, startup_lock=None, semaphore=None, timer=None, nonce_iter=None, nonce_lock=None)\n",
      "     |      Initialize the Poloniex private client.\n",
      "     |  \n",
      "     |  buy(self, currencyPair, rate, amount, fillOrKill=None, immediateOrCancel=None, postOnly=None)\n",
      "     |      Places a limit buy order in a given market. Required POST parameters\n",
      "     |      are \"currencyPair\", \"rate\", and \"amount\". If successful, the method\n",
      "     |      will return the order number.\n",
      "     |      You may optionally set \"fillOrKill\", \"immediateOrCancel\", \"postOnly\"\n",
      "     |      to 1. A fill-or-kill order will either fill in its entirety or be\n",
      "     |      completely aborted. An immediate-or-cancel order can be partially or\n",
      "     |      completely filled, but any portion of the order that cannot be filled\n",
      "     |      immediately will be canceled rather than left on the order book.\n",
      "     |      A post-only order will only be placed if no portion of it fills\n",
      "     |      immediately; this guarantees you will never pay the taker fee on any\n",
      "     |      part of the order that fills.\n",
      "     |  \n",
      "     |  cancelLoanOffer(self, orderNumber)\n",
      "     |      Cancels a loan offer specified by the \"orderNumber\" POST\n",
      "     |      parameter.\n",
      "     |  \n",
      "     |  cancelOrder(self, orderNumber)\n",
      "     |      Cancels an order you have placed in a given market. Required POST\n",
      "     |      parameter is \"orderNumber\".\n",
      "     |  \n",
      "     |  closeMarginPosition(self, currencyPair)\n",
      "     |      Closes your margin position in a given market (specified by the\n",
      "     |      \"currencyPair\" POST parameter) using a market order. This call will\n",
      "     |      also return success if you do not have an open position in the\n",
      "     |      specified market.\n",
      "     |  \n",
      "     |  createLoanOffer(self, currency, amount, duration, autoRenew, lendingRate)\n",
      "     |      Creates a loan offer for a given currency. Required POST parameters\n",
      "     |      are \"currency\", \"amount\", \"duration\", \"autoRenew\" (0 or 1), and\n",
      "     |      \"lendingRate\".\n",
      "     |  \n",
      "     |  generateNewAddress(self, currency)\n",
      "     |      Generates a new deposit address for the currency specified by the\n",
      "     |      \"currency\" POST parameter. Only one address per currency per day may be\n",
      "     |      generated, and a new address may not be generated before the\n",
      "     |      previously-generated one has been used.\n",
      "     |  \n",
      "     |  getMarginPosition(self, currencyPair)\n",
      "     |      Returns information about your margin position in a given market,\n",
      "     |      specified by the \"currencyPair\" POST parameter. You may set\n",
      "     |      \"currencyPair\" to \"all\" if you wish to fetch all of your margin\n",
      "     |      positions at once. If you have no margin position in the specified\n",
      "     |      market, \"type\" will be set to \"none\". \"liquidationPrice\" is an\n",
      "     |      estimate, and does not necessarily represent the price at which an\n",
      "     |      actual forced liquidation will occur. If you have no liquidation\n",
      "     |      price, the value will be -1.\n",
      "     |  \n",
      "     |  marginBuy(self, currencyPair, rate, amount, lendingRate=None)\n",
      "     |      Places a margin buy order in a given market. Required POST\n",
      "     |      parameters are \"currencyPair\", \"rate\", and \"amount\". You may optionally\n",
      "     |       specify a maximum lending rate using the \"lendingRate\" parameter.\n",
      "     |       If successful, the method will return the order number and any trades\n",
      "     |       immediately resulting from your order.\n",
      "     |  \n",
      "     |  marginSell(self, currencyPair, rate, amount, lendingRate=None)\n",
      "     |      Places a margin sell order in a given market. Parameters and output\n",
      "     |      are the same as for the marginBuy method.\n",
      "     |  \n",
      "     |  moveOrder(self, orderNumber, rate, amount=None, postOnly=None, immediateOrCancel=None)\n",
      "     |      Cancels an order and places a new one of the same type in a single\n",
      "     |      atomic transaction, meaning either both operations will succeed or both\n",
      "     |       will fail. Required POST parameters are \"orderNumber\" and \"rate\"; you\n",
      "     |       may optionally specify \"amount\" if you wish to change the amount of\n",
      "     |       the new order. \"postOnly\" or \"immediateOrCancel\" may be specified for\n",
      "     |       exchange orders, but will have no effect on margin orders.\n",
      "     |  \n",
      "     |  returnActiveLoans(self)\n",
      "     |      Returns your active loans for each currency.\n",
      "     |  \n",
      "     |  returnAvailableAccountBalances(self, account=None)\n",
      "     |      Returns your balances sorted by account. You may optionally specify\n",
      "     |      the \"account\" POST parameter if you wish to fetch only the balances of\n",
      "     |      one account. Please note that balances in your margin account may not\n",
      "     |      be accessible if you have any open margin positions or orders.\n",
      "     |  \n",
      "     |  returnBalances(self)\n",
      "     |      Returns all of your available balances.\n",
      "     |  \n",
      "     |  returnCompleteBalances(self, account=None)\n",
      "     |      Returns all of your balances, including available balance, balance\n",
      "     |      on orders, and the estimated BTC value of your balance. By default,\n",
      "     |      this call is limited to your exchange account; set the \"account\" POST\n",
      "     |      parameter to \"all\" to include your margin and lending accounts.\n",
      "     |  \n",
      "     |  returnDepositAddresses(self)\n",
      "     |      Returns all of your deposit addresses.\n",
      "     |  \n",
      "     |  returnDeposits(self, start=0, end=4294967295)\n",
      "     |      Returns your deposit history within a range, specified by the\n",
      "     |      \"start\" and \"end\" POST parameters, both of which should be given as\n",
      "     |      UNIX timestamps.\n",
      "     |  \n",
      "     |  returnDepositsWithdrawals(self, start=0, end=4294967295)\n",
      "     |      Returns your deposit and withdrawal history within a range,\n",
      "     |      specified by the \"start\" and \"end\" POST parameters, both of which\n",
      "     |      should be given as UNIX timestamps.\n",
      "     |  \n",
      "     |  returnFeeInfo(self)\n",
      "     |      If you are enrolled in the maker-taker fee schedule, returns your\n",
      "     |      current trading fees and trailing 30-day volume in BTC. This\n",
      "     |      information is updated once every 24 hours.\n",
      "     |  \n",
      "     |  returnLendingHistory(self, start=0, end=4294967295, limit=None)\n",
      "     |      Returns your lending history within a time range specified by the\n",
      "     |      \"start\" and \"end\" POST parameters as UNIX timestamps. \"limit\" may also\n",
      "     |      be specified to limit the number of rows returned.\n",
      "     |  \n",
      "     |  returnMarginAccountSummary(self)\n",
      "     |      Returns a summary of your entire margin account. This is the same\n",
      "     |      information you will find in the Margin Account section of the Margin\n",
      "     |      Trading page, under the Markets list.\n",
      "     |  \n",
      "     |  returnOpenLoanOffers(self)\n",
      "     |      Returns your open loan offers for each currency.\n",
      "     |  \n",
      "     |  returnOpenOrders(self, currencyPair='all')\n",
      "     |      Returns your open orders for a given market, specified by the\n",
      "     |      \"currencyPair\" POST parameter, e.g. \"BTC_XCP\". Set \"currencyPair\" to\n",
      "     |      \"all\" to return open orders for all markets.\n",
      "     |  \n",
      "     |  returnOrderTrades(self, orderNumber)\n",
      "     |      Returns all trades involving a given order, specified by the\n",
      "     |      \"orderNumber\" POST parameter. If no trades for the order have occurred\n",
      "     |      or you specify an order that does not belong to you, you will receive\n",
      "     |      an error.\n",
      "     |  \n",
      "     |  returnTradableBalances(self)\n",
      "     |      Returns your current tradable balances for each currency in each\n",
      "     |      market for which margin trading is enabled. Please note that these\n",
      "     |      balances may vary continually with market conditions.\n",
      "     |  \n",
      "     |  returnTradeHistory(self, currencyPair='all', start=None, end=None)\n",
      "     |      Returns your trade history for a given market, specified by the\n",
      "     |      \"currencyPair\" POST parameter. You may specify \"all\" as the\n",
      "     |      currencyPair to receive your trade history for all markets. You may\n",
      "     |      optionally specify a range via \"start\" and/or \"end\" POST parameters,\n",
      "     |      given in UNIX timestamp format; if you do not specify a range, it will\n",
      "     |      be limited to one day.\n",
      "     |  \n",
      "     |  returnTradeHistoryPublic(self, currencyPair, start=None, end=None)\n",
      "     |      Returns the past 200 trades for a given market, or up to 50,000\n",
      "     |      trades between a range specified in UNIX timestamps by the \"start\"\n",
      "     |      and \"end\" GET parameters.\n",
      "     |  \n",
      "     |  returnWithdrawals(self, start=0, end=4294967295)\n",
      "     |      Returns your withdrawal history within a range, specified by the\n",
      "     |      \"start\" and \"end\" POST parameters, both of which should be given as\n",
      "     |      UNIX timestamps.\n",
      "     |  \n",
      "     |  sell(self, currencyPair, rate, amount, fillOrKill=None, immediateOrCancel=None, postOnly=None)\n",
      "     |      Places a sell order in a given market. Parameters and output are\n",
      "     |      the same as for the buy method.\n",
      "     |  \n",
      "     |  toggleAutoRenew(self, orderNumber)\n",
      "     |      Toggles the autoRenew setting on an active loan, specified by the\n",
      "     |      \"orderNumber\" POST parameter. If successful, \"message\" will indicate\n",
      "     |      the new autoRenew setting.\n",
      "     |  \n",
      "     |  transferBalance(self, currency, amount, fromAccount, toAccount)\n",
      "     |      Transfers funds from one account to another (e.g. from your exchange\n",
      "     |      account to your margin account). Required POST parameters are\n",
      "     |      \"currency\", \"amount\", \"fromAccount\", and \"toAccount\".\n",
      "     |  \n",
      "     |  withdraw(self, currency, amount, address, paymentId=None)\n",
      "     |      Immediately places a withdrawal for a given currency, with no email\n",
      "     |      confirmation. In order to use this method, the withdrawal privilege\n",
      "     |      must be enabled for your API key. Required POST parameters are\n",
      "     |      \"currency\", \"amount\", and \"address\". For XMR withdrawals, you may\n",
      "     |      optionally specify \"paymentId\".\n",
      "     |  \n",
      "     |  ----------------------------------------------------------------------\n",
      "     |  Methods inherited from PoloniexPublic:\n",
      "     |  \n",
      "     |  __del__(self)\n",
      "     |  \n",
      "     |  return24hVolume(self)\n",
      "     |      Returns the 24-hour volume for all markets, plus totals for\n",
      "     |      primary currencies.\n",
      "     |  \n",
      "     |  returnChartData(self, currencyPair, period, start=0, end=4294967295)\n",
      "     |      Returns candlestick chart data. Required GET parameters are\n",
      "     |      \"currencyPair\", \"period\" (candlestick period in seconds; valid values\n",
      "     |      are 300, 900, 1800, 7200, 14400, and 86400), \"start\", and \"end\".\n",
      "     |      \"Start\" and \"end\" are given in UNIX timestamp format and used to\n",
      "     |      specify the date range for the data returned.\n",
      "     |  \n",
      "     |  returnCurrencies(self)\n",
      "     |      Returns information about currencies.\n",
      "     |  \n",
      "     |  returnLoanOrders(self, currency)\n",
      "     |      Returns the list of loan offers and demands for a given currency,\n",
      "     |      specified by the \"currency\" GET parameter.\n",
      "     |  \n",
      "     |  returnOrderBook(self, currencyPair='all', depth='50')\n",
      "     |      Returns the order book for a given market, as well as a sequence\n",
      "     |      number for use with the Push API and an indicator specifying whether\n",
      "     |      the market is frozen. You may set currencyPair to \"all\" to get the\n",
      "     |      order books of all markets.\n",
      "     |  \n",
      "     |  returnTicker(self)\n",
      "     |      Returns the ticker for all markets.\n",
      "     |  \n",
      "     |  ----------------------------------------------------------------------\n",
      "     |  Data descriptors inherited from PoloniexPublic:\n",
      "     |  \n",
      "     |  __dict__\n",
      "     |      dictionary for instance variables (if defined)\n",
      "     |  \n",
      "     |  __weakref__\n",
      "     |      list of weak references to the object (if defined)\n",
      "    \n",
      "    class PoloniexPublic(builtins.object)\n",
      "     |  Client to connect to Poloniex public APIs\n",
      "     |  \n",
      "     |  Methods defined here:\n",
      "     |  \n",
      "     |  __del__(self)\n",
      "     |  \n",
      "     |  __init__(self, public_url='https://poloniex.com/public', limit=6, session_class=<class 'requests.sessions.Session'>, session=None, startup_lock=None, semaphore=None, timer=None)\n",
      "     |      Initialize Poloniex client.\n",
      "     |  \n",
      "     |  return24hVolume(self)\n",
      "     |      Returns the 24-hour volume for all markets, plus totals for\n",
      "     |      primary currencies.\n",
      "     |  \n",
      "     |  returnChartData(self, currencyPair, period, start=0, end=4294967295)\n",
      "     |      Returns candlestick chart data. Required GET parameters are\n",
      "     |      \"currencyPair\", \"period\" (candlestick period in seconds; valid values\n",
      "     |      are 300, 900, 1800, 7200, 14400, and 86400), \"start\", and \"end\".\n",
      "     |      \"Start\" and \"end\" are given in UNIX timestamp format and used to\n",
      "     |      specify the date range for the data returned.\n",
      "     |  \n",
      "     |  returnCurrencies(self)\n",
      "     |      Returns information about currencies.\n",
      "     |  \n",
      "     |  returnLoanOrders(self, currency)\n",
      "     |      Returns the list of loan offers and demands for a given currency,\n",
      "     |      specified by the \"currency\" GET parameter.\n",
      "     |  \n",
      "     |  returnOrderBook(self, currencyPair='all', depth='50')\n",
      "     |      Returns the order book for a given market, as well as a sequence\n",
      "     |      number for use with the Push API and an indicator specifying whether\n",
      "     |      the market is frozen. You may set currencyPair to \"all\" to get the\n",
      "     |      order books of all markets.\n",
      "     |  \n",
      "     |  returnTicker(self)\n",
      "     |      Returns the ticker for all markets.\n",
      "     |  \n",
      "     |  returnTradeHistory(self, currencyPair, start=None, end=None)\n",
      "     |      Returns the past 200 trades for a given market, or up to 50,000\n",
      "     |      trades between a range specified in UNIX timestamps by the \"start\"\n",
      "     |      and \"end\" GET parameters.\n",
      "     |  \n",
      "     |  ----------------------------------------------------------------------\n",
      "     |  Data descriptors defined here:\n",
      "     |  \n",
      "     |  __dict__\n",
      "     |      dictionary for instance variables (if defined)\n",
      "     |  \n",
      "     |  __weakref__\n",
      "     |      list of weak references to the object (if defined)\n",
      "\n",
      "FILE\n",
      "    /anaconda3/lib/python3.6/site-packages/poloniex/poloniex.py\n",
      "\n",
      "\n"
     ]
    }
   ],
   "source": [
    "help(poloniex.poloniex)"
   ]
  },
  {
   "cell_type": "markdown",
   "metadata": {},
   "source": [
    "** <span style=\"color:red\">If there is any obvious data curation to be performed upon initial data loading, do it here</span> ** \n",
    "\n"
   ]
  },
  {
   "cell_type": "code",
   "execution_count": 36,
   "metadata": {},
   "outputs": [
    {
     "data": {
      "text/plain": [
       "<poloniex.poloniex.Poloniex at 0x104bf1ef0>"
      ]
     },
     "execution_count": 36,
     "metadata": {},
     "output_type": "execute_result"
    }
   ],
   "source": [
    "### write code here (use as many cells as needed)\n"
   ]
  },
  {
   "cell_type": "markdown",
   "metadata": {},
   "source": [
    "### Data charaterisctics :  Here, give as much as possible characteristics of data\n",
    "** <span style=\"color:red\"> Write explanations here</span> ** \n",
    "* \n",
    "* \n",
    "* "
   ]
  },
  {
   "cell_type": "code",
   "execution_count": 37,
   "metadata": {},
   "outputs": [
    {
     "ename": "NameError",
     "evalue": "name 'plot' is not defined",
     "output_type": "error",
     "traceback": [
      "\u001b[0;31m---------------------------------------------------------------------------\u001b[0m",
      "\u001b[0;31mNameError\u001b[0m                                 Traceback (most recent call last)",
      "\u001b[0;32m<ipython-input-37-141126d2c36d>\u001b[0m in \u001b[0;36m<module>\u001b[0;34m()\u001b[0m\n\u001b[1;32m      1\u001b[0m \u001b[0;31m### write code here (use as many cells as needed)\u001b[0m\u001b[0;34m\u001b[0m\u001b[0;34m\u001b[0m\u001b[0m\n\u001b[1;32m      2\u001b[0m \u001b[0;34m\u001b[0m\u001b[0m\n\u001b[0;32m----> 3\u001b[0;31m \u001b[0mplot\u001b[0m\u001b[0;34m(\u001b[0m\u001b[0mdoge\u001b[0m\u001b[0;34m)\u001b[0m\u001b[0;34m\u001b[0m\u001b[0m\n\u001b[0m",
      "\u001b[0;31mNameError\u001b[0m: name 'plot' is not defined"
     ]
    }
   ],
   "source": [
    "### write code here (use as many cells as needed)\n"
   ]
  },
  {
   "cell_type": "markdown",
   "metadata": {},
   "source": [
    "### Data visualisation and representation\n",
    "** <span style=\"color:red\"> Write explanations here</span> ** \n",
    "* \n",
    "* \n",
    "* "
   ]
  },
  {
   "cell_type": "code",
   "execution_count": null,
   "metadata": {
    "collapsed": true
   },
   "outputs": [],
   "source": [
    "### write code here (use as many cells as needed)\n",
    "\n"
   ]
  },
  {
   "cell_type": "markdown",
   "metadata": {},
   "source": [
    "### Data consistency checking\n",
    "** <span style=\"color:red\"> Write explanations here</span> ** \n",
    "* \n",
    "* \n",
    "* "
   ]
  },
  {
   "cell_type": "code",
   "execution_count": null,
   "metadata": {
    "collapsed": true
   },
   "outputs": [],
   "source": [
    "### write code here (use as many cells as needed)\n",
    "\n"
   ]
  },
  {
   "cell_type": "markdown",
   "metadata": {},
   "source": [
    "### Estimation question\n",
    "** <span style=\"color:red\"> Write explanations here</span> ** \n",
    "* \n",
    "* \n",
    "* "
   ]
  },
  {
   "cell_type": "code",
   "execution_count": null,
   "metadata": {
    "collapsed": true
   },
   "outputs": [],
   "source": [
    "### write code here (use as many cells as needed)\n",
    "\n"
   ]
  },
  {
   "cell_type": "markdown",
   "metadata": {},
   "source": [
    "### As many other optional questions as you want\n",
    "** <span style=\"color:red\"> Write explanations here</span> ** \n",
    "* \n",
    "* \n",
    "* "
   ]
  }
 ],
 "metadata": {
  "kernelspec": {
   "display_name": "Python 3",
   "language": "python",
   "name": "python3"
  },
  "language_info": {
   "codemirror_mode": {
    "name": "ipython",
    "version": 3
   },
   "file_extension": ".py",
   "mimetype": "text/x-python",
   "name": "python",
   "nbconvert_exporter": "python",
   "pygments_lexer": "ipython3",
   "version": "3.6.2"
  }
 },
 "nbformat": 4,
 "nbformat_minor": 2
}
