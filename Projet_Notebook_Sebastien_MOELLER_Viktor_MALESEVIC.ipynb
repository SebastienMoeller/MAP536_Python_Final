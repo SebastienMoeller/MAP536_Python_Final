{
 "cells": [
  {
   "cell_type": "markdown",
   "metadata": {},
   "source": [
    "# Project notebook **<span style=\"COLOR:RED\"></span>**\n",
    "\n",
    "\n",
    "### Student 1\n",
    "Name : Sebastien Moeller\n",
    "<br>Group : advanced\n",
    "### Student 2\n",
    "Name : Viktor Malesevic\n",
    "<br>Group : advanced\n",
    "### Data name : \n",
    "* Poloniex Exchange data\n",
    "* Google Trends\n",
    "### Data URL : \n",
    "### Short summary of the project and datasource :\n",
    "<span style=\"COLOR:RED\">Linking social media trends to the prices of cryptocurrencies.</span>"
   ]
  },
  {
   "cell_type": "markdown",
   "metadata": {},
   "source": [
    "# General instructions (this cell might be deleted for submission)\n",
    "** <span style=\"color:red\"> Write all the project in this file : code and explanations and upload it before January 7th at 23:55 </span> ** : \n",
    "\n",
    "<span style=\"color:red\">Remember : Code cells must be smaller than 30 lines </span>\n",
    "\n",
    "Every thing must be in the notebook :\n",
    "\n",
    "* Explanation of what you want to do with data should be present in the Notebook\n",
    "* Download data in the notebook (check the URL availability) and give the source of data (both URL and textual description)\n",
    "* Give as much as possible characteristics of data (size, type, fields, ...)\n",
    "* Provide visualisation of the data that you think useful\n",
    "* Check for the consistence of the dataset (error, missing data,...) and correct and/or delete errors\n",
    "* **Ask yourself a question that request you to perform an estimation** (for example, you can choose a data depending on time, and try to predict the latest 10% of data knowing the rest of data). **This will typically be solved through the proposal of a model and fitting the parameters of the model to (part of) the data.**\n",
    "\n",
    "If you end up writing long chunks of code, make sure you split it in logical «smaller code cells» and explain the logic. The Juptyer Notebook will be **both the memoire** you will submit for evaluation **and the visual support** for your oral presentation of your project, keep this in mind while writing it."
   ]
  },
  {
   "cell_type": "markdown",
   "metadata": {},
   "source": [
    "### Aims : \n",
    "** <span style=\"color:red\"> Here explain what you what to do with data</span> ** \n",
    "* \n",
    "* \n",
    "* "
   ]
  },
  {
   "cell_type": "markdown",
   "metadata": {},
   "source": [
    "### Download : "
   ]
  },
  {
   "cell_type": "markdown",
   "metadata": {},
   "source": [
    "Importing Cryptocurrency"
   ]
  },
  {
   "cell_type": "markdown",
   "metadata": {},
   "source": [
    "## Step 0. Import the dataset"
   ]
  },
  {
   "cell_type": "markdown",
   "metadata": {},
   "source": [
    "As the dataset grew and the computation time to generate it increased we needed to export and import the data set to save time between sessions."
   ]
  },
  {
   "cell_type": "code",
   "execution_count": 12,
   "metadata": {
    "collapsed": true
   },
   "outputs": [],
   "source": [
    "import sys\n",
    "import os\n",
    "import pandas as pd"
   ]
  },
  {
   "cell_type": "code",
   "execution_count": 20,
   "metadata": {},
   "outputs": [],
   "source": [
    "file = os.path.realpath(os.path.join(os.getcwd(), os.path.dirname('data.csv')))\n",
    "file_name = 'data'\n",
    "# Mac\n",
    "data = pd.read_csv(file+'/'+file_name+'.csv')\n",
    "# Windows\n",
    "#data = pd.read_csv(file+'\\\\'+file_name+'.csv')"
   ]
  },
  {
   "cell_type": "markdown",
   "metadata": {},
   "source": [
    "The code to save the dataset"
   ]
  },
  {
   "cell_type": "code",
   "execution_count": null,
   "metadata": {
    "collapsed": true
   },
   "outputs": [],
   "source": [
    "file = os.path.realpath(os.path.join(os.getcwd(), os.path.dirname('data.csv')))\n",
    "file_name = 'data'\n",
    "# Mac\n",
    "#data.to_csv('file+'/'+file_name+'.csv')\n",
    "# Windows\n",
    "#data.to_csv('file+'\\\\'+file_name+'.csv')"
   ]
  },
  {
   "cell_type": "markdown",
   "metadata": {},
   "source": [
    "How did we generate the data?"
   ]
  },
  {
   "cell_type": "markdown",
   "metadata": {},
   "source": [
    "## Step 1. Importing from Poloniex\n",
    "Poloniex is a cryptocurrency exchange found on https://poloniex.com/exchange, to download the data we use a package made by a poloniex community member."
   ]
  },
  {
   "cell_type": "code",
   "execution_count": null,
   "metadata": {
    "collapsed": true
   },
   "outputs": [],
   "source": []
  },
  {
   "cell_type": "markdown",
   "metadata": {},
   "source": [
    "Importing from API\n",
    "\n",
    "* To import poloniex we need to install the package in the console using:\n",
    "\n",
    "`pip install poloniex`\n",
    "* The help function gives a list of functions included in the package and some descriptions\n",
    "\n",
    "`help(poloniex.poloniex)`\n",
    "* We are using the public data so no keys are needed"
   ]
  },
  {
   "cell_type": "markdown",
   "metadata": {},
   "source": [
    "The packages has many functionalities but the information we want is public, therefore we do not need an access tokens or secret keys. The currency we are looking for is BitCoin relative to the USD, therefore looking at the documentation we know that we need to search using the term `'USDT_BTC'`, with an additional parameter of seconds between measurment. We chose to take the highest frequency of 5 minutes, but also of 24 hours."
   ]
  },
  {
   "cell_type": "code",
   "execution_count": 22,
   "metadata": {
    "collapsed": true
   },
   "outputs": [],
   "source": [
    "import poloniex\n",
    "polo = poloniex.Poloniex()\n",
    "btc300 = pd.DataFrame(polo.returnChartData(\"USDT_BTC\", 300))\n",
    "btc86400 = pd.DataFrame(polo.returnChartData(\"USDT_BTC\", 86400))"
   ]
  },
  {
   "cell_type": "markdown",
   "metadata": {},
   "source": [
    "Let us see the first date and the last date of this data. As the data is saved as a Unix time stamp, we need to convert it using the datetime package into a familiar form."
   ]
  },
  {
   "cell_type": "code",
   "execution_count": null,
   "metadata": {
    "scrolled": true
   },
   "outputs": [],
   "source": [
    "import datetime\n",
    "print(\"Start date 5 minute\")\n",
    "print(datetime.datetime.fromtimestamp(btc300[\"date\"][0]))\n",
    "print(\"End date 5 minute\")\n",
    "print(datetime.datetime.fromtimestamp(btc300[\"date\"][len(btc300)-1]))\n",
    "\n",
    "\n",
    "print(\"Start date daily\")\n",
    "print(datetime.datetime.fromtimestamp(btc86400[\"date\"][0]))\n",
    "print(\"End date daily\")\n",
    "print(datetime.datetime.fromtimestamp(btc86400[\"date\"][len(btc86400)-1]))"
   ]
  },
  {
   "cell_type": "markdown",
   "metadata": {},
   "source": [
    "We chose to convert all dates into a recognizable format"
   ]
  },
  {
   "cell_type": "code",
   "execution_count": null,
   "metadata": {
    "collapsed": true
   },
   "outputs": [],
   "source": [
    "Convert datetime from timestamp to a recognizable format\n",
    "for i in range(len(btc86400)):\n",
    "   btc86400[\"date\"][i] = datetime.datetime.fromtimestamp(btc86400[\"date\"][i])"
   ]
  },
  {
   "cell_type": "markdown",
   "metadata": {},
   "source": [
    "## Step 2. Importing Google Trends"
   ]
  },
  {
   "cell_type": "code",
   "execution_count": 35,
   "metadata": {},
   "outputs": [],
   "source": [
    "from pytrends.request import TrendReq\n",
    "pytrends = TrendReq(hl='en-US', tz=360)\n",
    "\n",
    "kw_list = [\"Blockchain\", \"BTC\", \"BitCoin\"]\n",
    "pytrends.build_payload(kw_list)\n",
    "\n",
    "trends = pytrends.interest_over_time()"
   ]
  },
  {
   "cell_type": "markdown",
   "metadata": {},
   "source": [
    "We notice in the trends that they are all proportional to oneanother, as the max is 100, the accuracy of blockchain is lost as it only ever became 5% as popular as BitCoin in their respective peaks. Therefore we decided to import each individually and then combine them into one data frame.\n",
    "\n",
    "This is a function to retrieve trends with maximum available accuracy from Google, of a list of terms to look up, concatenated into one matrix containing a date column"
   ]
  },
  {
   "cell_type": "code",
   "execution_count": 49,
   "metadata": {},
   "outputs": [
    {
     "data": {
      "text/html": [
       "<div>\n",
       "<style>\n",
       "    .dataframe thead tr:only-child th {\n",
       "        text-align: right;\n",
       "    }\n",
       "\n",
       "    .dataframe thead th {\n",
       "        text-align: left;\n",
       "    }\n",
       "\n",
       "    .dataframe tbody tr th {\n",
       "        vertical-align: top;\n",
       "    }\n",
       "</style>\n",
       "<table border=\"1\" class=\"dataframe\">\n",
       "  <thead>\n",
       "    <tr style=\"text-align: right;\">\n",
       "      <th></th>\n",
       "      <th>date</th>\n",
       "      <th>Blockchain</th>\n",
       "      <th>BTC</th>\n",
       "      <th>BitCoin</th>\n",
       "    </tr>\n",
       "  </thead>\n",
       "  <tbody>\n",
       "    <tr>\n",
       "      <th>250</th>\n",
       "      <td>2017-11-05</td>\n",
       "      <td>51</td>\n",
       "      <td>35</td>\n",
       "      <td>29</td>\n",
       "    </tr>\n",
       "    <tr>\n",
       "      <th>251</th>\n",
       "      <td>2017-11-12</td>\n",
       "      <td>51</td>\n",
       "      <td>37</td>\n",
       "      <td>31</td>\n",
       "    </tr>\n",
       "    <tr>\n",
       "      <th>252</th>\n",
       "      <td>2017-11-19</td>\n",
       "      <td>52</td>\n",
       "      <td>34</td>\n",
       "      <td>28</td>\n",
       "    </tr>\n",
       "    <tr>\n",
       "      <th>253</th>\n",
       "      <td>2017-11-26</td>\n",
       "      <td>70</td>\n",
       "      <td>65</td>\n",
       "      <td>66</td>\n",
       "    </tr>\n",
       "    <tr>\n",
       "      <th>254</th>\n",
       "      <td>2017-12-03</td>\n",
       "      <td>87</td>\n",
       "      <td>87</td>\n",
       "      <td>93</td>\n",
       "    </tr>\n",
       "    <tr>\n",
       "      <th>255</th>\n",
       "      <td>2017-12-10</td>\n",
       "      <td>91</td>\n",
       "      <td>82</td>\n",
       "      <td>86</td>\n",
       "    </tr>\n",
       "    <tr>\n",
       "      <th>256</th>\n",
       "      <td>2017-12-17</td>\n",
       "      <td>100</td>\n",
       "      <td>100</td>\n",
       "      <td>100</td>\n",
       "    </tr>\n",
       "    <tr>\n",
       "      <th>257</th>\n",
       "      <td>2017-12-24</td>\n",
       "      <td>71</td>\n",
       "      <td>74</td>\n",
       "      <td>63</td>\n",
       "    </tr>\n",
       "    <tr>\n",
       "      <th>258</th>\n",
       "      <td>2017-12-31</td>\n",
       "      <td>75</td>\n",
       "      <td>70</td>\n",
       "      <td>48</td>\n",
       "    </tr>\n",
       "    <tr>\n",
       "      <th>259</th>\n",
       "      <td>2018-01-07</td>\n",
       "      <td>92</td>\n",
       "      <td>65</td>\n",
       "      <td>47</td>\n",
       "    </tr>\n",
       "  </tbody>\n",
       "</table>\n",
       "</div>"
      ],
      "text/plain": [
       "          date  Blockchain  BTC  BitCoin\n",
       "250 2017-11-05          51   35       29\n",
       "251 2017-11-12          51   37       31\n",
       "252 2017-11-19          52   34       28\n",
       "253 2017-11-26          70   65       66\n",
       "254 2017-12-03          87   87       93\n",
       "255 2017-12-10          91   82       86\n",
       "256 2017-12-17         100  100      100\n",
       "257 2017-12-24          71   74       63\n",
       "258 2017-12-31          75   70       48\n",
       "259 2018-01-07          92   65       47"
      ]
     },
     "execution_count": 49,
     "metadata": {},
     "output_type": "execute_result"
    }
   ],
   "source": [
    "trends[-10:]"
   ]
  },
  {
   "cell_type": "code",
   "execution_count": 42,
   "metadata": {
    "collapsed": true
   },
   "outputs": [],
   "source": [
    "def payload(strings):\n",
    "    pytrends = TrendReq(hl='en-US', tz=360)\n",
    "    \n",
    "    trend = []\n",
    "    \n",
    "    for i in range(len(strings)):\n",
    "        pytrends.build_payload([strings[i]])\n",
    "        trend.append(pytrends.interest_over_time().drop('isPartial', axis = 1))\n",
    "    \n",
    "    trend = pd.concat(trend, axis = 1)\n",
    "    trend.reset_index(inplace = True)\n",
    "    return trend"
   ]
  },
  {
   "cell_type": "code",
   "execution_count": 43,
   "metadata": {
    "collapsed": true
   },
   "outputs": [],
   "source": [
    "terms = ('Blockchain', 'BTC', 'BitCoin')\n",
    "trends = payload(terms)"
   ]
  },
  {
   "cell_type": "markdown",
   "metadata": {},
   "source": [
    "** <span style=\"color:red\">If there is any obvious data curation to be performed upon initial data loading, do it here</span> ** \n",
    "\n"
   ]
  },
  {
   "cell_type": "markdown",
   "metadata": {},
   "source": [
    "To perform computations on the data set we want to calculate a few more variables and add them to the same data frame"
   ]
  },
  {
   "cell_type": "code",
   "execution_count": 44,
   "metadata": {},
   "outputs": [
    {
     "name": "stderr",
     "output_type": "stream",
     "text": [
      "/anaconda3/lib/python3.6/site-packages/ipykernel_launcher.py:10: SettingWithCopyWarning: \n",
      "A value is trying to be set on a copy of a slice from a DataFrame\n",
      "\n",
      "See the caveats in the documentation: http://pandas.pydata.org/pandas-docs/stable/indexing.html#indexing-view-versus-copy\n",
      "  # Remove the CWD from sys.path while we load stuff.\n",
      "/anaconda3/lib/python3.6/site-packages/IPython/core/interactiveshell.py:2862: SettingWithCopyWarning: \n",
      "A value is trying to be set on a copy of a slice from a DataFrame\n",
      "\n",
      "See the caveats in the documentation: http://pandas.pydata.org/pandas-docs/stable/indexing.html#indexing-view-versus-copy\n",
      "  exec(code_obj, self.user_global_ns, self.user_ns)\n",
      "/anaconda3/lib/python3.6/site-packages/ipykernel_launcher.py:11: SettingWithCopyWarning: \n",
      "A value is trying to be set on a copy of a slice from a DataFrame\n",
      "\n",
      "See the caveats in the documentation: http://pandas.pydata.org/pandas-docs/stable/indexing.html#indexing-view-versus-copy\n",
      "  # This is added back by InteractiveShellApp.init_path()\n",
      "/anaconda3/lib/python3.6/site-packages/ipykernel_launcher.py:12: SettingWithCopyWarning: \n",
      "A value is trying to be set on a copy of a slice from a DataFrame\n",
      "\n",
      "See the caveats in the documentation: http://pandas.pydata.org/pandas-docs/stable/indexing.html#indexing-view-versus-copy\n",
      "  if sys.path[0] == '':\n"
     ]
    }
   ],
   "source": [
    "data = btc86400\n",
    "data['tBitCoin'] = btc86400['close']\n",
    "data['tBTC'] = btc86400['close']\n",
    "data['tBlockchain'] = btc86400['close']\n",
    "\n",
    "day = datetime.datetime.now().day\n",
    "data = data[:-day]\n",
    "#%% Trends are weekly so they are repeated 7 times in the daily data\n",
    "for i in range(4, len(data)+4):\n",
    "    data['tBitCoin'][i-4] = trends['BitCoin'][int(109+(i/7))]\n",
    "    data['tBTC'][i-4] = trends['BTC'][int(109+(i/7))]\n",
    "    data['tBlockchain'][i-4] = trends['Blockchain'][int(109+(i/7))]"
   ]
  },
  {
   "cell_type": "code",
   "execution_count": 45,
   "metadata": {},
   "outputs": [
    {
     "name": "stderr",
     "output_type": "stream",
     "text": [
      "/anaconda3/lib/python3.6/site-packages/ipykernel_launcher.py:1: SettingWithCopyWarning: \n",
      "A value is trying to be set on a copy of a slice from a DataFrame.\n",
      "Try using .loc[row_indexer,col_indexer] = value instead\n",
      "\n",
      "See the caveats in the documentation: http://pandas.pydata.org/pandas-docs/stable/indexing.html#indexing-view-versus-copy\n",
      "  \"\"\"Entry point for launching an IPython kernel.\n"
     ]
    },
    {
     "ename": "NameError",
     "evalue": "name 'np' is not defined",
     "output_type": "error",
     "traceback": [
      "\u001b[0;31m---------------------------------------------------------------------------\u001b[0m",
      "\u001b[0;31mNameError\u001b[0m                                 Traceback (most recent call last)",
      "\u001b[0;32m<ipython-input-45-40bec34775af>\u001b[0m in \u001b[0;36m<module>\u001b[0;34m()\u001b[0m\n\u001b[1;32m      3\u001b[0m \u001b[0mprice\u001b[0m \u001b[0;34m=\u001b[0m \u001b[0mpd\u001b[0m\u001b[0;34m.\u001b[0m\u001b[0mDataFrame\u001b[0m\u001b[0;34m(\u001b[0m\u001b[0mbtc86400\u001b[0m\u001b[0;34m[\u001b[0m\u001b[0;34m\"close\"\u001b[0m\u001b[0;34m]\u001b[0m\u001b[0;34m)\u001b[0m\u001b[0;34m\u001b[0m\u001b[0m\n\u001b[1;32m      4\u001b[0m \u001b[0mprice\u001b[0m\u001b[0;34m[\u001b[0m\u001b[0;34m\"pct_change\"\u001b[0m\u001b[0;34m]\u001b[0m \u001b[0;34m=\u001b[0m \u001b[0mprice\u001b[0m\u001b[0;34m.\u001b[0m\u001b[0mclose\u001b[0m\u001b[0;34m.\u001b[0m\u001b[0mpct_change\u001b[0m\u001b[0;34m(\u001b[0m\u001b[0;34m)\u001b[0m\u001b[0;34m\u001b[0m\u001b[0m\n\u001b[0;32m----> 5\u001b[0;31m \u001b[0mprice\u001b[0m\u001b[0;34m[\u001b[0m\u001b[0;34m\"log_return\"\u001b[0m\u001b[0;34m]\u001b[0m \u001b[0;34m=\u001b[0m \u001b[0mnp\u001b[0m\u001b[0;34m.\u001b[0m\u001b[0mlog\u001b[0m\u001b[0;34m(\u001b[0m\u001b[0mprice\u001b[0m\u001b[0;34m.\u001b[0m\u001b[0mclose\u001b[0m\u001b[0;34m)\u001b[0m \u001b[0;34m-\u001b[0m \u001b[0mnp\u001b[0m\u001b[0;34m.\u001b[0m\u001b[0mlog\u001b[0m\u001b[0;34m(\u001b[0m\u001b[0mprice\u001b[0m\u001b[0;34m.\u001b[0m\u001b[0mclose\u001b[0m\u001b[0;34m.\u001b[0m\u001b[0mshift\u001b[0m\u001b[0;34m(\u001b[0m\u001b[0;36m1\u001b[0m\u001b[0;34m)\u001b[0m\u001b[0;34m)\u001b[0m\u001b[0;34m\u001b[0m\u001b[0m\n\u001b[0m\u001b[1;32m      6\u001b[0m \u001b[0mdata\u001b[0m\u001b[0;34m[\u001b[0m\u001b[0;34m'logReturn'\u001b[0m\u001b[0;34m]\u001b[0m \u001b[0;34m=\u001b[0m \u001b[0mprice\u001b[0m\u001b[0;34m[\u001b[0m\u001b[0;34m'log_return'\u001b[0m\u001b[0;34m]\u001b[0m\u001b[0;34m\u001b[0m\u001b[0m\n",
      "\u001b[0;31mNameError\u001b[0m: name 'np' is not defined"
     ]
    }
   ],
   "source": [
    "data['delta'] = data['open'] - data['close']\n",
    "\n",
    "price = pd.DataFrame(btc86400[\"close\"])\n",
    "price['pct_change'] = price.close.pct_change()\n",
    "price['log_return'] = np.log(price.close) - np.log(price.close.shift(1))\n",
    "data['logReturn'] = price['log_return']"
   ]
  },
  {
   "cell_type": "markdown",
   "metadata": {},
   "source": [
    "This is where the dataset will be exported to avoid the computation time to get to this point."
   ]
  },
  {
   "cell_type": "markdown",
   "metadata": {},
   "source": [
    "### Data charaterisctics :  Here, give as much as possible characteristics of data\n",
    "** <span style=\"color:red\"> Write explanations here</span> ** \n",
    "* The data set is complete in that there are no missing values for their given date range.\n",
    "* The cryptocurrencys have the following information:\n",
    "\n",
    "`close, date, high, low, open, quoteVolume, volume`\n",
    "* The main discrepancy is merging the data into one complete set is that the prices we chose to use are in 5-minute to 1-day intervals, while the Google Trends are weekly."
   ]
  },
  {
   "cell_type": "code",
   "execution_count": 92,
   "metadata": {},
   "outputs": [
    {
     "data": {
      "text/plain": [
       "Index(['close', 'date', 'high', 'low', 'open', 'quoteVolume', 'volume',\n",
       "       'weightedAverage'],\n",
       "      dtype='object')"
      ]
     },
     "execution_count": 92,
     "metadata": {},
     "output_type": "execute_result"
    }
   ],
   "source": [
    "btc300.columns"
   ]
  },
  {
   "cell_type": "code",
   "execution_count": 47,
   "metadata": {},
   "outputs": [
    {
     "data": {
      "text/html": [
       "<div>\n",
       "<style>\n",
       "    .dataframe thead tr:only-child th {\n",
       "        text-align: right;\n",
       "    }\n",
       "\n",
       "    .dataframe thead th {\n",
       "        text-align: left;\n",
       "    }\n",
       "\n",
       "    .dataframe tbody tr th {\n",
       "        vertical-align: top;\n",
       "    }\n",
       "</style>\n",
       "<table border=\"1\" class=\"dataframe\">\n",
       "  <thead>\n",
       "    <tr style=\"text-align: right;\">\n",
       "      <th></th>\n",
       "      <th>close</th>\n",
       "      <th>date</th>\n",
       "      <th>high</th>\n",
       "      <th>low</th>\n",
       "      <th>open</th>\n",
       "      <th>quoteVolume</th>\n",
       "      <th>volume</th>\n",
       "      <th>weightedAverage</th>\n",
       "    </tr>\n",
       "  </thead>\n",
       "  <tbody>\n",
       "    <tr>\n",
       "      <th>count</th>\n",
       "      <td>305188.000000</td>\n",
       "      <td>3.051880e+05</td>\n",
       "      <td>305188.000000</td>\n",
       "      <td>305188.000000</td>\n",
       "      <td>305188.000000</td>\n",
       "      <td>305188.000000</td>\n",
       "      <td>3.051880e+05</td>\n",
       "      <td>305188.000000</td>\n",
       "    </tr>\n",
       "    <tr>\n",
       "      <th>mean</th>\n",
       "      <td>1820.834862</td>\n",
       "      <td>1.470151e+09</td>\n",
       "      <td>1825.243163</td>\n",
       "      <td>1816.145670</td>\n",
       "      <td>1820.873686</td>\n",
       "      <td>12.301258</td>\n",
       "      <td>5.105731e+04</td>\n",
       "      <td>1820.702676</td>\n",
       "    </tr>\n",
       "    <tr>\n",
       "      <th>std</th>\n",
       "      <td>3189.899236</td>\n",
       "      <td>2.643010e+07</td>\n",
       "      <td>3200.774534</td>\n",
       "      <td>3178.356629</td>\n",
       "      <td>3190.121604</td>\n",
       "      <td>33.119972</td>\n",
       "      <td>1.700453e+05</td>\n",
       "      <td>3189.639099</td>\n",
       "    </tr>\n",
       "    <tr>\n",
       "      <th>min</th>\n",
       "      <td>99.000000</td>\n",
       "      <td>1.424373e+09</td>\n",
       "      <td>0.330000</td>\n",
       "      <td>99.000000</td>\n",
       "      <td>0.330000</td>\n",
       "      <td>0.000000</td>\n",
       "      <td>0.000000e+00</td>\n",
       "      <td>0.000000</td>\n",
       "    </tr>\n",
       "    <tr>\n",
       "      <th>25%</th>\n",
       "      <td>331.830579</td>\n",
       "      <td>1.447262e+09</td>\n",
       "      <td>331.900000</td>\n",
       "      <td>331.362024</td>\n",
       "      <td>331.500000</td>\n",
       "      <td>0.000000</td>\n",
       "      <td>0.000000e+00</td>\n",
       "      <td>331.469667</td>\n",
       "    </tr>\n",
       "    <tr>\n",
       "      <th>50%</th>\n",
       "      <td>611.621380</td>\n",
       "      <td>1.470151e+09</td>\n",
       "      <td>612.000000</td>\n",
       "      <td>611.000000</td>\n",
       "      <td>611.612863</td>\n",
       "      <td>0.171882</td>\n",
       "      <td>1.004471e+02</td>\n",
       "      <td>611.597159</td>\n",
       "    </tr>\n",
       "    <tr>\n",
       "      <th>75%</th>\n",
       "      <td>1348.624750</td>\n",
       "      <td>1.493040e+09</td>\n",
       "      <td>1349.999850</td>\n",
       "      <td>1347.150000</td>\n",
       "      <td>1348.700000</td>\n",
       "      <td>10.359461</td>\n",
       "      <td>2.393522e+04</td>\n",
       "      <td>1348.623708</td>\n",
       "    </tr>\n",
       "    <tr>\n",
       "      <th>max</th>\n",
       "      <td>19896.687300</td>\n",
       "      <td>1.515929e+09</td>\n",
       "      <td>19903.440214</td>\n",
       "      <td>19860.120000</td>\n",
       "      <td>19896.687300</td>\n",
       "      <td>1244.437950</td>\n",
       "      <td>8.905612e+06</td>\n",
       "      <td>19888.009976</td>\n",
       "    </tr>\n",
       "  </tbody>\n",
       "</table>\n",
       "</div>"
      ],
      "text/plain": [
       "               close          date           high            low  \\\n",
       "count  305188.000000  3.051880e+05  305188.000000  305188.000000   \n",
       "mean     1820.834862  1.470151e+09    1825.243163    1816.145670   \n",
       "std      3189.899236  2.643010e+07    3200.774534    3178.356629   \n",
       "min        99.000000  1.424373e+09       0.330000      99.000000   \n",
       "25%       331.830579  1.447262e+09     331.900000     331.362024   \n",
       "50%       611.621380  1.470151e+09     612.000000     611.000000   \n",
       "75%      1348.624750  1.493040e+09    1349.999850    1347.150000   \n",
       "max     19896.687300  1.515929e+09   19903.440214   19860.120000   \n",
       "\n",
       "                open    quoteVolume        volume  weightedAverage  \n",
       "count  305188.000000  305188.000000  3.051880e+05    305188.000000  \n",
       "mean     1820.873686      12.301258  5.105731e+04      1820.702676  \n",
       "std      3190.121604      33.119972  1.700453e+05      3189.639099  \n",
       "min         0.330000       0.000000  0.000000e+00         0.000000  \n",
       "25%       331.500000       0.000000  0.000000e+00       331.469667  \n",
       "50%       611.612863       0.171882  1.004471e+02       611.597159  \n",
       "75%      1348.700000      10.359461  2.393522e+04      1348.623708  \n",
       "max     19896.687300    1244.437950  8.905612e+06     19888.009976  "
      ]
     },
     "execution_count": 47,
     "metadata": {},
     "output_type": "execute_result"
    }
   ],
   "source": [
    "btc300.describe()"
   ]
  },
  {
   "cell_type": "code",
   "execution_count": 94,
   "metadata": {},
   "outputs": [
    {
     "data": {
      "text/plain": [
       "close              float64\n",
       "date                 int64\n",
       "high               float64\n",
       "low                float64\n",
       "open               float64\n",
       "quoteVolume        float64\n",
       "volume             float64\n",
       "weightedAverage    float64\n",
       "dtype: object"
      ]
     },
     "execution_count": 94,
     "metadata": {},
     "output_type": "execute_result"
    }
   ],
   "source": [
    "btc300.dtypes"
   ]
  },
  {
   "cell_type": "code",
   "execution_count": 95,
   "metadata": {},
   "outputs": [
    {
     "data": {
      "text/plain": [
       "(305188, 8)"
      ]
     },
     "execution_count": 95,
     "metadata": {},
     "output_type": "execute_result"
    }
   ],
   "source": [
    "btc300.shape"
   ]
  },
  {
   "cell_type": "code",
   "execution_count": 50,
   "metadata": {},
   "outputs": [
    {
     "data": {
      "text/plain": [
       "Index(['date', 'Blockchain', 'BTC', 'BitCoin'], dtype='object')"
      ]
     },
     "execution_count": 50,
     "metadata": {},
     "output_type": "execute_result"
    }
   ],
   "source": [
    "trends.columns"
   ]
  },
  {
   "cell_type": "code",
   "execution_count": 51,
   "metadata": {},
   "outputs": [
    {
     "data": {
      "text/html": [
       "<div>\n",
       "<style>\n",
       "    .dataframe thead tr:only-child th {\n",
       "        text-align: right;\n",
       "    }\n",
       "\n",
       "    .dataframe thead th {\n",
       "        text-align: left;\n",
       "    }\n",
       "\n",
       "    .dataframe tbody tr th {\n",
       "        vertical-align: top;\n",
       "    }\n",
       "</style>\n",
       "<table border=\"1\" class=\"dataframe\">\n",
       "  <thead>\n",
       "    <tr style=\"text-align: right;\">\n",
       "      <th></th>\n",
       "      <th>Blockchain</th>\n",
       "      <th>BTC</th>\n",
       "      <th>BitCoin</th>\n",
       "    </tr>\n",
       "  </thead>\n",
       "  <tbody>\n",
       "    <tr>\n",
       "      <th>count</th>\n",
       "      <td>260.000000</td>\n",
       "      <td>260.000000</td>\n",
       "      <td>260.000000</td>\n",
       "    </tr>\n",
       "    <tr>\n",
       "      <th>mean</th>\n",
       "      <td>10.430769</td>\n",
       "      <td>10.346154</td>\n",
       "      <td>6.465385</td>\n",
       "    </tr>\n",
       "    <tr>\n",
       "      <th>std</th>\n",
       "      <td>16.120175</td>\n",
       "      <td>13.155566</td>\n",
       "      <td>12.464109</td>\n",
       "    </tr>\n",
       "    <tr>\n",
       "      <th>min</th>\n",
       "      <td>0.000000</td>\n",
       "      <td>2.000000</td>\n",
       "      <td>1.000000</td>\n",
       "    </tr>\n",
       "    <tr>\n",
       "      <th>25%</th>\n",
       "      <td>2.000000</td>\n",
       "      <td>5.000000</td>\n",
       "      <td>2.000000</td>\n",
       "    </tr>\n",
       "    <tr>\n",
       "      <th>50%</th>\n",
       "      <td>3.000000</td>\n",
       "      <td>6.000000</td>\n",
       "      <td>3.000000</td>\n",
       "    </tr>\n",
       "    <tr>\n",
       "      <th>75%</th>\n",
       "      <td>12.000000</td>\n",
       "      <td>10.000000</td>\n",
       "      <td>5.000000</td>\n",
       "    </tr>\n",
       "    <tr>\n",
       "      <th>max</th>\n",
       "      <td>100.000000</td>\n",
       "      <td>100.000000</td>\n",
       "      <td>100.000000</td>\n",
       "    </tr>\n",
       "  </tbody>\n",
       "</table>\n",
       "</div>"
      ],
      "text/plain": [
       "       Blockchain         BTC     BitCoin\n",
       "count  260.000000  260.000000  260.000000\n",
       "mean    10.430769   10.346154    6.465385\n",
       "std     16.120175   13.155566   12.464109\n",
       "min      0.000000    2.000000    1.000000\n",
       "25%      2.000000    5.000000    2.000000\n",
       "50%      3.000000    6.000000    3.000000\n",
       "75%     12.000000   10.000000    5.000000\n",
       "max    100.000000  100.000000  100.000000"
      ]
     },
     "execution_count": 51,
     "metadata": {},
     "output_type": "execute_result"
    }
   ],
   "source": [
    "trends.describe()"
   ]
  },
  {
   "cell_type": "code",
   "execution_count": 97,
   "metadata": {},
   "outputs": [
    {
     "data": {
      "text/plain": [
       "date          datetime64[ns]\n",
       "Blockchain             int64\n",
       "BTC                    int64\n",
       "BitCoin                int64\n",
       "dtype: object"
      ]
     },
     "execution_count": 97,
     "metadata": {},
     "output_type": "execute_result"
    }
   ],
   "source": [
    "trends.dtypes"
   ]
  },
  {
   "cell_type": "code",
   "execution_count": 99,
   "metadata": {},
   "outputs": [
    {
     "data": {
      "text/plain": [
       "(260, 4)"
      ]
     },
     "execution_count": 99,
     "metadata": {},
     "output_type": "execute_result"
    }
   ],
   "source": [
    "trends.shape"
   ]
  },
  {
   "cell_type": "code",
   "execution_count": 53,
   "metadata": {},
   "outputs": [
    {
     "data": {
      "text/html": [
       "<div>\n",
       "<style>\n",
       "    .dataframe thead tr:only-child th {\n",
       "        text-align: right;\n",
       "    }\n",
       "\n",
       "    .dataframe thead th {\n",
       "        text-align: left;\n",
       "    }\n",
       "\n",
       "    .dataframe tbody tr th {\n",
       "        vertical-align: top;\n",
       "    }\n",
       "</style>\n",
       "<table border=\"1\" class=\"dataframe\">\n",
       "  <thead>\n",
       "    <tr style=\"text-align: right;\">\n",
       "      <th></th>\n",
       "      <th>date</th>\n",
       "      <th>Blockchain</th>\n",
       "      <th>BTC</th>\n",
       "      <th>BitCoin</th>\n",
       "    </tr>\n",
       "  </thead>\n",
       "  <tbody>\n",
       "    <tr>\n",
       "      <th>250</th>\n",
       "      <td>2017-11-05</td>\n",
       "      <td>51</td>\n",
       "      <td>35</td>\n",
       "      <td>29</td>\n",
       "    </tr>\n",
       "    <tr>\n",
       "      <th>251</th>\n",
       "      <td>2017-11-12</td>\n",
       "      <td>51</td>\n",
       "      <td>37</td>\n",
       "      <td>31</td>\n",
       "    </tr>\n",
       "    <tr>\n",
       "      <th>252</th>\n",
       "      <td>2017-11-19</td>\n",
       "      <td>52</td>\n",
       "      <td>34</td>\n",
       "      <td>28</td>\n",
       "    </tr>\n",
       "    <tr>\n",
       "      <th>253</th>\n",
       "      <td>2017-11-26</td>\n",
       "      <td>70</td>\n",
       "      <td>65</td>\n",
       "      <td>66</td>\n",
       "    </tr>\n",
       "    <tr>\n",
       "      <th>254</th>\n",
       "      <td>2017-12-03</td>\n",
       "      <td>87</td>\n",
       "      <td>87</td>\n",
       "      <td>93</td>\n",
       "    </tr>\n",
       "    <tr>\n",
       "      <th>255</th>\n",
       "      <td>2017-12-10</td>\n",
       "      <td>91</td>\n",
       "      <td>82</td>\n",
       "      <td>86</td>\n",
       "    </tr>\n",
       "    <tr>\n",
       "      <th>256</th>\n",
       "      <td>2017-12-17</td>\n",
       "      <td>100</td>\n",
       "      <td>100</td>\n",
       "      <td>100</td>\n",
       "    </tr>\n",
       "    <tr>\n",
       "      <th>257</th>\n",
       "      <td>2017-12-24</td>\n",
       "      <td>71</td>\n",
       "      <td>74</td>\n",
       "      <td>63</td>\n",
       "    </tr>\n",
       "    <tr>\n",
       "      <th>258</th>\n",
       "      <td>2017-12-31</td>\n",
       "      <td>75</td>\n",
       "      <td>70</td>\n",
       "      <td>48</td>\n",
       "    </tr>\n",
       "    <tr>\n",
       "      <th>259</th>\n",
       "      <td>2018-01-07</td>\n",
       "      <td>92</td>\n",
       "      <td>65</td>\n",
       "      <td>47</td>\n",
       "    </tr>\n",
       "  </tbody>\n",
       "</table>\n",
       "</div>"
      ],
      "text/plain": [
       "          date  Blockchain  BTC  BitCoin\n",
       "250 2017-11-05          51   35       29\n",
       "251 2017-11-12          51   37       31\n",
       "252 2017-11-19          52   34       28\n",
       "253 2017-11-26          70   65       66\n",
       "254 2017-12-03          87   87       93\n",
       "255 2017-12-10          91   82       86\n",
       "256 2017-12-17         100  100      100\n",
       "257 2017-12-24          71   74       63\n",
       "258 2017-12-31          75   70       48\n",
       "259 2018-01-07          92   65       47"
      ]
     },
     "execution_count": 53,
     "metadata": {},
     "output_type": "execute_result"
    }
   ],
   "source": [
    "trends[-10:]"
   ]
  },
  {
   "cell_type": "markdown",
   "metadata": {},
   "source": [
    "### Data visualisation and representation\n",
    "** <span style=\"color:red\"> Write explanations here</span> ** \n",
    "* As we are plotting several different data sets we chose to write a function to generate a plot of the whole range with a subplot of the most recent observations up to a certain factor. We plotted the last 30 days in the subplots."
   ]
  },
  {
   "cell_type": "code",
   "execution_count": 110,
   "metadata": {
    "collapsed": true
   },
   "outputs": [],
   "source": [
    "import matplotlib.pyplot as plt\n",
    "\n",
    "def multiPlot(data, x, y, factor):\n",
    "    fig = plt.figure()\n",
    "    \n",
    "    axes1 = fig.add_axes([0.05, 0.2, 1.2, 0.8]) # main axes\n",
    "    axes2 = fig.add_axes([0.2, 0.5, 0.6, 0.3]) # inset axes\n",
    "\n",
    "    # main figure\n",
    "    for i in range(len(y)):\n",
    "        axes1.plot(data[x], data[y[i]]/data[y[i]].max())\n",
    "\n",
    "    axes1.legend(loc=2)\n",
    "    axes1.set_xlabel(x)\n",
    "    axes1.set_ylabel('Max')\n",
    "\n",
    "    # insert\n",
    "    for i in range(len(y)):\n",
    "        axes2.plot(data[x][-30*factor:], data[y[i]][-30*factor:]/data[y[i]][-30*factor:].max())\n",
    "\n",
    "    axes2.set_xlabel(x)\n",
    "    axes2.set_ylabel('Max');\n",
    "    plt.show()"
   ]
  },
  {
   "cell_type": "markdown",
   "metadata": {},
   "source": [
    "## Poloniex data"
   ]
  },
  {
   "cell_type": "markdown",
   "metadata": {},
   "source": [
    "#### View data at 5 minute intervals"
   ]
  },
  {
   "cell_type": "code",
   "execution_count": 111,
   "metadata": {
    "scrolled": false
   },
   "outputs": [
    {
     "data": {
      "image/png": "[encoded data removed]",
      "text/plain": [
       "<matplotlib.figure.Figure at 0x12103ab00>"
      ]
     },
     "metadata": {},
     "output_type": "display_data"
    }
   ],
   "source": [
    "multiPlot(btc300, 'date', ('volume','close'), 12*24)"
   ]
  },
  {
   "cell_type": "markdown",
   "metadata": {},
   "source": [
    "#### View data at daily intervals"
   ]
  },
  {
   "cell_type": "code",
   "execution_count": 112,
   "metadata": {},
   "outputs": [
    {
     "data": {
      "image/png": "[encoded data removed]",
      "text/plain": [
       "<matplotlib.figure.Figure at 0x12103a550>"
      ]
     },
     "metadata": {},
     "output_type": "display_data"
    }
   ],
   "source": [
    "# View Data daily\n",
    "multiPlot(btc86400, 'date', ('volume','close'), 1)"
   ]
  },
  {
   "cell_type": "markdown",
   "metadata": {},
   "source": [
    "#### Lets look at the last 30 days since new years as japanese candle sticks using a package"
   ]
  },
  {
   "cell_type": "code",
   "execution_count": 119,
   "metadata": {},
   "outputs": [
    {
     "data": {
      "image/png": "[encoded data removed]",
      "text/plain": [
       "<matplotlib.figure.Figure at 0x120b890f0>"
      ]
     },
     "execution_count": 119,
     "metadata": {},
     "output_type": "execute_result"
    }
   ],
   "source": [
    "from matplotlib.finance import candlestick2_ohlc\n",
    "fig, ax = plt.subplots()\n",
    "candlestick2_ohlc(ax,btc86400['open'][-30:],btc86400['high'][-30:],btc86400['low'][-30:],btc86400['close'][-30:],width=0.6)\n",
    "fig"
   ]
  },
  {
   "cell_type": "markdown",
   "metadata": {},
   "source": [
    "## Google Trends data"
   ]
  },
  {
   "cell_type": "code",
   "execution_count": 121,
   "metadata": {},
   "outputs": [
    {
     "data": {
      "image/png": "[encoded data removed]",
      "text/plain": [
       "<matplotlib.figure.Figure at 0x1209a3ef0>"
      ]
     },
     "metadata": {},
     "output_type": "display_data"
    }
   ],
   "source": [
    "multiPlot(trends, 'date', terms, 1)"
   ]
  },
  {
   "cell_type": "code",
   "execution_count": 87,
   "metadata": {},
   "outputs": [
    {
     "data": {
      "text/plain": [
       "('Blockchain', 'BTC', 'BitCoin')"
      ]
     },
     "execution_count": 87,
     "metadata": {},
     "output_type": "execute_result"
    }
   ],
   "source": [
    "terms"
   ]
  },
  {
   "cell_type": "markdown",
   "metadata": {},
   "source": [
    "### Data consistency checking\n",
    "** <span style=\"color:red\"> Write explanations here</span> ** \n",
    "* As said and solved above, we weekly trends needed to be matched to the daily price data we chose to follow.\n",
    "* The data set contains no missing values\n",
    "* As the trends are weekly, the most recent days will rarely have a trend as they are still being calculated for the current week. Therefore we chose to use the data from the start of pooniex exchange prices to the end of 2017."
   ]
  },
  {
   "cell_type": "markdown",
   "metadata": {},
   "source": [
    "### Estimation question\n",
    "** <span style=\"color:red\"> Write explanations here</span> ** \n",
    "* \n",
    "* \n",
    "* "
   ]
  },
  {
   "cell_type": "code",
   "execution_count": null,
   "metadata": {
    "collapsed": true
   },
   "outputs": [],
   "source": [
    "### write code here (use as many cells as needed)\n",
    "\n"
   ]
  },
  {
   "cell_type": "markdown",
   "metadata": {},
   "source": [
    "### As many other optional questions as you want\n",
    "** <span style=\"color:red\"> Write explanations here</span> ** \n",
    "* \n",
    "* \n",
    "* "
   ]
  }
 ],
 "metadata": {
  "kernelspec": {
   "display_name": "Python 3",
   "language": "python",
   "name": "python3"
  },
  "language_info": {
   "codemirror_mode": {
    "name": "ipython",
    "version": 3
   },
   "file_extension": ".py",
   "mimetype": "text/x-python",
   "name": "python",
   "nbconvert_exporter": "python",
   "pygments_lexer": "ipython3",
   "version": "3.6.2"
  }
 },
 "nbformat": 4,
 "nbformat_minor": 2
}
